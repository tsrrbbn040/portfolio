{
  "cells": [
    {
      "cell_type": "markdown",
      "metadata": {
        "id": "_E1eMA7DreVw"
      },
      "source": [
        "# 1. Identitas\n",
        "\n",
        "* Nama : Muhammad Itsar Rabbani\n",
        "* Batch : 006\n",
        "* Milestone 02 Phase 02\n",
        "* Notebook Objective :\n",
        "  * Create some analysis about customers from Amazon Kindle Book review data\n",
        "  * Create a Deep Learning Natural Language Processing (NLP) model to predict rating value based on the review text provided by the customer\n",
        "\n",
        "* Dataset from : https://www.kaggle.com/meetnagadia/amazon-kindle-book-review-for-sentiment-analysis"
      ]
    },
    {
      "cell_type": "markdown",
      "metadata": {
        "id": "2q0syHl-reN6"
      },
      "source": [
        "# 2. Import Pustaka"
      ]
    },
    {
      "cell_type": "code",
      "execution_count": 5,
      "metadata": {
        "colab": {
          "base_uri": "https://localhost:8080/"
        },
        "id": "_pzLBYDyMlFa",
        "outputId": "22c2a9ca-8460-4fcd-82c9-c857123b2ce3"
      },
      "outputs": [
        {
          "ename": "ModuleNotFoundError",
          "evalue": "No module named 'nltk'",
          "output_type": "error",
          "traceback": [
            "\u001b[1;31m---------------------------------------------------------------------------\u001b[0m",
            "\u001b[1;31mModuleNotFoundError\u001b[0m                       Traceback (most recent call last)",
            "\u001b[1;32m~\\AppData\\Local\\Temp/ipykernel_13096/1093960726.py\u001b[0m in \u001b[0;36m<module>\u001b[1;34m\u001b[0m\n\u001b[0;32m      8\u001b[0m \u001b[1;32mimport\u001b[0m \u001b[0mre\u001b[0m\u001b[1;33m\u001b[0m\u001b[1;33m\u001b[0m\u001b[0m\n\u001b[0;32m      9\u001b[0m \u001b[1;32mimport\u001b[0m \u001b[0mstring\u001b[0m\u001b[1;33m\u001b[0m\u001b[1;33m\u001b[0m\u001b[0m\n\u001b[1;32m---> 10\u001b[1;33m \u001b[1;32mimport\u001b[0m \u001b[0mnltk\u001b[0m\u001b[1;33m\u001b[0m\u001b[1;33m\u001b[0m\u001b[0m\n\u001b[0m\u001b[0;32m     11\u001b[0m \u001b[1;32mfrom\u001b[0m \u001b[0mnltk\u001b[0m\u001b[1;33m.\u001b[0m\u001b[0mcorpus\u001b[0m \u001b[1;32mimport\u001b[0m \u001b[0mstopwords\u001b[0m\u001b[1;33m\u001b[0m\u001b[1;33m\u001b[0m\u001b[0m\n\u001b[0;32m     12\u001b[0m \u001b[0mnltk\u001b[0m\u001b[1;33m.\u001b[0m\u001b[0mdownload\u001b[0m\u001b[1;33m(\u001b[0m\u001b[1;34m'stopwords'\u001b[0m\u001b[1;33m)\u001b[0m\u001b[1;33m\u001b[0m\u001b[1;33m\u001b[0m\u001b[0m\n",
            "\u001b[1;31mModuleNotFoundError\u001b[0m: No module named 'nltk'"
          ]
        }
      ],
      "source": [
        "import numpy as np\n",
        "import pandas as pd\n",
        "import seaborn as sns\n",
        "import matplotlib.pyplot as plt\n",
        "\n",
        "#preprocess\n",
        "import re\n",
        "import string\n",
        "import nltk\n",
        "from nltk.corpus import stopwords\n",
        "nltk.download('stopwords')\n",
        "\n",
        "#model\n",
        "from sklearn.model_selection import train_test_split\n",
        "import tensorflow as tf\n",
        "from tensorflow import keras\n",
        "from tensorflow.keras import layers\n",
        "from tensorflow.keras.layers import Input, Dense, LSTM, GRU, Embedding, BatchNormalization, Dropout\n",
        "from tensorflow.keras.utils import to_categorical, plot_model\n",
        "from tensorflow.keras.layers.experimental.preprocessing import TextVectorization\n",
        "from keras.callbacks import ModelCheckpoint, EarlyStopping, ReduceLROnPlateau\n",
        "\n",
        "import warnings\n",
        "warnings.filterwarnings('ignore')"
      ]
    },
    {
      "cell_type": "markdown",
      "metadata": {
        "id": "2Z59Qs6ureFT"
      },
      "source": [
        "# 3. Data Load"
      ]
    },
    {
      "cell_type": "markdown",
      "metadata": {
        "id": "8KftgS4WrinL"
      },
      "source": [
        "### Import with Kaggle"
      ]
    },
    {
      "cell_type": "code",
      "execution_count": 81,
      "metadata": {
        "id": "vaLOJExsPhXe"
      },
      "outputs": [],
      "source": [
        "#permission access kaggle to root\n",
        "!mkdir -p ~/.kaggle\n",
        "!cp kaggle.json ~/.kaggle"
      ]
    },
    {
      "cell_type": "code",
      "execution_count": 82,
      "metadata": {
        "colab": {
          "base_uri": "https://localhost:8080/"
        },
        "id": "1D2GpHo6RKnG",
        "outputId": "ed93953f-e99b-4ab0-9fc6-87f22a3dee57"
      },
      "outputs": [
        {
          "name": "stdout",
          "output_type": "stream",
          "text": [
            "mkdir: cannot create directory ‘./kaggle’: File exists\n"
          ]
        }
      ],
      "source": [
        "#kaggle on default folder\n",
        "!mkdir ./kaggle\n",
        "!mv ./kaggle.json /kaggle"
      ]
    },
    {
      "cell_type": "code",
      "execution_count": 83,
      "metadata": {
        "id": "xQIBXlOSRMeT"
      },
      "outputs": [],
      "source": [
        "#granting access permission\n",
        "!chmod 600 ~/.kaggle/kaggle.json"
      ]
    },
    {
      "cell_type": "code",
      "execution_count": 84,
      "metadata": {
        "colab": {
          "base_uri": "https://localhost:8080/"
        },
        "id": "9zUsLzF5rZ1I",
        "outputId": "254d664b-981e-4284-dbf4-fd7e6b5efd3d"
      },
      "outputs": [
        {
          "name": "stdout",
          "output_type": "stream",
          "text": [
            "amazon-kindle-book-review-for-sentiment-analysis.zip: Skipping, found more recently modified local copy (use --force to force download)\n",
            "mkdir: cannot create directory ‘amazon_review’: File exists\n",
            "Archive:  amazon-kindle-book-review-for-sentiment-analysis.zip\n",
            "replace amazon_review/all_kindle_review .csv? [y]es, [n]o, [A]ll, [N]one, [r]ename: n\n",
            "replace amazon_review/preprocessed_kindle_review .csv? [y]es, [n]o, [A]ll, [N]one, [r]ename: n\n"
          ]
        }
      ],
      "source": [
        "#download dataset\n",
        "!kaggle datasets download -d meetnagadia/amazon-kindle-book-review-for-sentiment-analysis\n",
        "!mkdir amazon_review\n",
        "!unzip amazon-kindle-book-review-for-sentiment-analysis -d amazon_review"
      ]
    },
    {
      "cell_type": "markdown",
      "metadata": {
        "id": "6T0t8bnfMbHH"
      },
      "source": [
        "### The Dataset"
      ]
    },
    {
      "cell_type": "code",
      "execution_count": 85,
      "metadata": {
        "colab": {
          "base_uri": "https://localhost:8080/",
          "height": 0
        },
        "id": "roTPqn5pMdgs",
        "outputId": "e480a112-4779-4e72-9733-b328fb90d49e"
      },
      "outputs": [
        {
          "data": {
            "text/html": [
              "\n",
              "  <div id=\"df-02e5713a-af2d-414a-8826-7a7b77015e69\">\n",
              "    <div class=\"colab-df-container\">\n",
              "      <div>\n",
              "<style scoped>\n",
              "    .dataframe tbody tr th:only-of-type {\n",
              "        vertical-align: middle;\n",
              "    }\n",
              "\n",
              "    .dataframe tbody tr th {\n",
              "        vertical-align: top;\n",
              "    }\n",
              "\n",
              "    .dataframe thead th {\n",
              "        text-align: right;\n",
              "    }\n",
              "</style>\n",
              "<table border=\"1\" class=\"dataframe\">\n",
              "  <thead>\n",
              "    <tr style=\"text-align: right;\">\n",
              "      <th></th>\n",
              "      <th>Unnamed: 0</th>\n",
              "      <th>Unnamed: 0.1</th>\n",
              "      <th>asin</th>\n",
              "      <th>helpful</th>\n",
              "      <th>rating</th>\n",
              "      <th>reviewText</th>\n",
              "      <th>reviewTime</th>\n",
              "      <th>reviewerID</th>\n",
              "      <th>reviewerName</th>\n",
              "      <th>summary</th>\n",
              "      <th>unixReviewTime</th>\n",
              "    </tr>\n",
              "  </thead>\n",
              "  <tbody>\n",
              "    <tr>\n",
              "      <th>0</th>\n",
              "      <td>0</td>\n",
              "      <td>11539</td>\n",
              "      <td>B0033UV8HI</td>\n",
              "      <td>[8, 10]</td>\n",
              "      <td>3</td>\n",
              "      <td>Jace Rankin may be short, but he's nothing to ...</td>\n",
              "      <td>09 2, 2010</td>\n",
              "      <td>A3HHXRELK8BHQG</td>\n",
              "      <td>Ridley</td>\n",
              "      <td>Entertaining But Average</td>\n",
              "      <td>1283385600</td>\n",
              "    </tr>\n",
              "    <tr>\n",
              "      <th>1</th>\n",
              "      <td>1</td>\n",
              "      <td>5957</td>\n",
              "      <td>B002HJV4DE</td>\n",
              "      <td>[1, 1]</td>\n",
              "      <td>5</td>\n",
              "      <td>Great short read.  I didn't want to put it dow...</td>\n",
              "      <td>10 8, 2013</td>\n",
              "      <td>A2RGNZ0TRF578I</td>\n",
              "      <td>Holly Butler</td>\n",
              "      <td>Terrific menage scenes!</td>\n",
              "      <td>1381190400</td>\n",
              "    </tr>\n",
              "    <tr>\n",
              "      <th>2</th>\n",
              "      <td>2</td>\n",
              "      <td>9146</td>\n",
              "      <td>B002ZG96I4</td>\n",
              "      <td>[0, 0]</td>\n",
              "      <td>3</td>\n",
              "      <td>I'll start by saying this is the first of four...</td>\n",
              "      <td>04 11, 2014</td>\n",
              "      <td>A3S0H2HV6U1I7F</td>\n",
              "      <td>Merissa</td>\n",
              "      <td>Snapdragon Alley</td>\n",
              "      <td>1397174400</td>\n",
              "    </tr>\n",
              "    <tr>\n",
              "      <th>3</th>\n",
              "      <td>3</td>\n",
              "      <td>7038</td>\n",
              "      <td>B002QHWOEU</td>\n",
              "      <td>[1, 3]</td>\n",
              "      <td>3</td>\n",
              "      <td>Aggie is Angela Lansbury who carries pocketboo...</td>\n",
              "      <td>07 5, 2014</td>\n",
              "      <td>AC4OQW3GZ919J</td>\n",
              "      <td>Cleargrace</td>\n",
              "      <td>very light murder cozy</td>\n",
              "      <td>1404518400</td>\n",
              "    </tr>\n",
              "    <tr>\n",
              "      <th>4</th>\n",
              "      <td>4</td>\n",
              "      <td>1776</td>\n",
              "      <td>B001A06VJ8</td>\n",
              "      <td>[0, 1]</td>\n",
              "      <td>4</td>\n",
              "      <td>I did not expect this type of book to be in li...</td>\n",
              "      <td>12 31, 2012</td>\n",
              "      <td>A3C9V987IQHOQD</td>\n",
              "      <td>Rjostler</td>\n",
              "      <td>Book</td>\n",
              "      <td>1356912000</td>\n",
              "    </tr>\n",
              "  </tbody>\n",
              "</table>\n",
              "</div>\n",
              "      <button class=\"colab-df-convert\" onclick=\"convertToInteractive('df-02e5713a-af2d-414a-8826-7a7b77015e69')\"\n",
              "              title=\"Convert this dataframe to an interactive table.\"\n",
              "              style=\"display:none;\">\n",
              "        \n",
              "  <svg xmlns=\"http://www.w3.org/2000/svg\" height=\"24px\"viewBox=\"0 0 24 24\"\n",
              "       width=\"24px\">\n",
              "    <path d=\"M0 0h24v24H0V0z\" fill=\"none\"/>\n",
              "    <path d=\"M18.56 5.44l.94 2.06.94-2.06 2.06-.94-2.06-.94-.94-2.06-.94 2.06-2.06.94zm-11 1L8.5 8.5l.94-2.06 2.06-.94-2.06-.94L8.5 2.5l-.94 2.06-2.06.94zm10 10l.94 2.06.94-2.06 2.06-.94-2.06-.94-.94-2.06-.94 2.06-2.06.94z\"/><path d=\"M17.41 7.96l-1.37-1.37c-.4-.4-.92-.59-1.43-.59-.52 0-1.04.2-1.43.59L10.3 9.45l-7.72 7.72c-.78.78-.78 2.05 0 2.83L4 21.41c.39.39.9.59 1.41.59.51 0 1.02-.2 1.41-.59l7.78-7.78 2.81-2.81c.8-.78.8-2.07 0-2.86zM5.41 20L4 18.59l7.72-7.72 1.47 1.35L5.41 20z\"/>\n",
              "  </svg>\n",
              "      </button>\n",
              "      \n",
              "  <style>\n",
              "    .colab-df-container {\n",
              "      display:flex;\n",
              "      flex-wrap:wrap;\n",
              "      gap: 12px;\n",
              "    }\n",
              "\n",
              "    .colab-df-convert {\n",
              "      background-color: #E8F0FE;\n",
              "      border: none;\n",
              "      border-radius: 50%;\n",
              "      cursor: pointer;\n",
              "      display: none;\n",
              "      fill: #1967D2;\n",
              "      height: 32px;\n",
              "      padding: 0 0 0 0;\n",
              "      width: 32px;\n",
              "    }\n",
              "\n",
              "    .colab-df-convert:hover {\n",
              "      background-color: #E2EBFA;\n",
              "      box-shadow: 0px 1px 2px rgba(60, 64, 67, 0.3), 0px 1px 3px 1px rgba(60, 64, 67, 0.15);\n",
              "      fill: #174EA6;\n",
              "    }\n",
              "\n",
              "    [theme=dark] .colab-df-convert {\n",
              "      background-color: #3B4455;\n",
              "      fill: #D2E3FC;\n",
              "    }\n",
              "\n",
              "    [theme=dark] .colab-df-convert:hover {\n",
              "      background-color: #434B5C;\n",
              "      box-shadow: 0px 1px 3px 1px rgba(0, 0, 0, 0.15);\n",
              "      filter: drop-shadow(0px 1px 2px rgba(0, 0, 0, 0.3));\n",
              "      fill: #FFFFFF;\n",
              "    }\n",
              "  </style>\n",
              "\n",
              "      <script>\n",
              "        const buttonEl =\n",
              "          document.querySelector('#df-02e5713a-af2d-414a-8826-7a7b77015e69 button.colab-df-convert');\n",
              "        buttonEl.style.display =\n",
              "          google.colab.kernel.accessAllowed ? 'block' : 'none';\n",
              "\n",
              "        async function convertToInteractive(key) {\n",
              "          const element = document.querySelector('#df-02e5713a-af2d-414a-8826-7a7b77015e69');\n",
              "          const dataTable =\n",
              "            await google.colab.kernel.invokeFunction('convertToInteractive',\n",
              "                                                     [key], {});\n",
              "          if (!dataTable) return;\n",
              "\n",
              "          const docLinkHtml = 'Like what you see? Visit the ' +\n",
              "            '<a target=\"_blank\" href=https://colab.research.google.com/notebooks/data_table.ipynb>data table notebook</a>'\n",
              "            + ' to learn more about interactive tables.';\n",
              "          element.innerHTML = '';\n",
              "          dataTable['output_type'] = 'display_data';\n",
              "          await google.colab.output.renderOutput(dataTable, element);\n",
              "          const docLink = document.createElement('div');\n",
              "          docLink.innerHTML = docLinkHtml;\n",
              "          element.appendChild(docLink);\n",
              "        }\n",
              "      </script>\n",
              "    </div>\n",
              "  </div>\n",
              "  "
            ],
            "text/plain": [
              "   Unnamed: 0  Unnamed: 0.1  ...                   summary unixReviewTime\n",
              "0           0         11539  ...  Entertaining But Average     1283385600\n",
              "1           1          5957  ...   Terrific menage scenes!     1381190400\n",
              "2           2          9146  ...          Snapdragon Alley     1397174400\n",
              "3           3          7038  ...    very light murder cozy     1404518400\n",
              "4           4          1776  ...                      Book     1356912000\n",
              "\n",
              "[5 rows x 11 columns]"
            ]
          },
          "execution_count": 85,
          "metadata": {},
          "output_type": "execute_result"
        }
      ],
      "source": [
        "df = pd.read_csv('/content/amazon_review/all_kindle_review .csv')\n",
        "df.head()"
      ]
    },
    {
      "cell_type": "code",
      "execution_count": 86,
      "metadata": {
        "colab": {
          "base_uri": "https://localhost:8080/"
        },
        "id": "sPVQL42SNUUR",
        "outputId": "d2d43dd6-1ca7-417f-fea5-ff6d699d998f"
      },
      "outputs": [
        {
          "data": {
            "text/plain": [
              "(12000, 11)"
            ]
          },
          "execution_count": 86,
          "metadata": {},
          "output_type": "execute_result"
        }
      ],
      "source": [
        "#dataset dimension\n",
        "df.shape"
      ]
    },
    {
      "cell_type": "code",
      "execution_count": 87,
      "metadata": {
        "colab": {
          "base_uri": "https://localhost:8080/"
        },
        "id": "kRcNJKn6Mjww",
        "outputId": "53a454e6-eb95-49a7-e100-2eab147f7b36"
      },
      "outputs": [
        {
          "name": "stdout",
          "output_type": "stream",
          "text": [
            "<class 'pandas.core.frame.DataFrame'>\n",
            "RangeIndex: 12000 entries, 0 to 11999\n",
            "Data columns (total 11 columns):\n",
            " #   Column          Non-Null Count  Dtype \n",
            "---  ------          --------------  ----- \n",
            " 0   Unnamed: 0      12000 non-null  int64 \n",
            " 1   Unnamed: 0.1    12000 non-null  int64 \n",
            " 2   asin            12000 non-null  object\n",
            " 3   helpful         12000 non-null  object\n",
            " 4   rating          12000 non-null  int64 \n",
            " 5   reviewText      12000 non-null  object\n",
            " 6   reviewTime      12000 non-null  object\n",
            " 7   reviewerID      12000 non-null  object\n",
            " 8   reviewerName    11962 non-null  object\n",
            " 9   summary         12000 non-null  object\n",
            " 10  unixReviewTime  12000 non-null  int64 \n",
            "dtypes: int64(4), object(7)\n",
            "memory usage: 1.0+ MB\n"
          ]
        }
      ],
      "source": [
        "#dataset info\n",
        "df.info()"
      ]
    },
    {
      "cell_type": "code",
      "execution_count": 88,
      "metadata": {
        "colab": {
          "base_uri": "https://localhost:8080/"
        },
        "id": "pKf_5hkaNO34",
        "outputId": "3715104d-30ca-4fa3-da57-281fa32b2533"
      },
      "outputs": [
        {
          "data": {
            "text/plain": [
              "Unnamed: 0         0\n",
              "Unnamed: 0.1       0\n",
              "asin               0\n",
              "helpful            0\n",
              "rating             0\n",
              "reviewText         0\n",
              "reviewTime         0\n",
              "reviewerID         0\n",
              "reviewerName      38\n",
              "summary            0\n",
              "unixReviewTime     0\n",
              "dtype: int64"
            ]
          },
          "execution_count": 88,
          "metadata": {},
          "output_type": "execute_result"
        }
      ],
      "source": [
        "#looking for missing value\n",
        "df.isnull().sum()"
      ]
    },
    {
      "cell_type": "code",
      "execution_count": 89,
      "metadata": {
        "colab": {
          "base_uri": "https://localhost:8080/"
        },
        "id": "39IE7utiNmg0",
        "outputId": "1e3cc886-adc6-4efd-e516-0cf504701ea1"
      },
      "outputs": [
        {
          "data": {
            "text/plain": [
              "False    12000\n",
              "dtype: int64"
            ]
          },
          "execution_count": 89,
          "metadata": {},
          "output_type": "execute_result"
        }
      ],
      "source": [
        "#looking for duplicated data\n",
        "df.duplicated().value_counts()"
      ]
    },
    {
      "cell_type": "markdown",
      "metadata": {
        "id": "g72OiXYjNpNb"
      },
      "source": [
        "# 4. Data Cleaning"
      ]
    },
    {
      "cell_type": "markdown",
      "metadata": {
        "id": "cepputqeNyef"
      },
      "source": [
        "In general, data cleaning on this notebook will handle missing values and also adjust some column features because in our opinion there are some columns that tend to be unused in making NLP Deep Learning models.\n",
        "\n",
        "Fortunately, the column that contains missing values is included in the unused column so that we can directly drop the column to that column without having to remove some of the data"
      ]
    },
    {
      "cell_type": "code",
      "execution_count": 90,
      "metadata": {
        "colab": {
          "base_uri": "https://localhost:8080/",
          "height": 0
        },
        "id": "9yuz-om4NnqP",
        "outputId": "3d2e735e-3f73-4ca3-f845-f65f6478c613"
      },
      "outputs": [
        {
          "data": {
            "text/html": [
              "\n",
              "  <div id=\"df-f2ca6ee9-bd0a-4928-85a2-6318843cb7ba\">\n",
              "    <div class=\"colab-df-container\">\n",
              "      <div>\n",
              "<style scoped>\n",
              "    .dataframe tbody tr th:only-of-type {\n",
              "        vertical-align: middle;\n",
              "    }\n",
              "\n",
              "    .dataframe tbody tr th {\n",
              "        vertical-align: top;\n",
              "    }\n",
              "\n",
              "    .dataframe thead th {\n",
              "        text-align: right;\n",
              "    }\n",
              "</style>\n",
              "<table border=\"1\" class=\"dataframe\">\n",
              "  <thead>\n",
              "    <tr style=\"text-align: right;\">\n",
              "      <th></th>\n",
              "      <th>reviewText</th>\n",
              "      <th>rating</th>\n",
              "    </tr>\n",
              "  </thead>\n",
              "  <tbody>\n",
              "    <tr>\n",
              "      <th>0</th>\n",
              "      <td>Jace Rankin may be short, but he's nothing to ...</td>\n",
              "      <td>3</td>\n",
              "    </tr>\n",
              "    <tr>\n",
              "      <th>1</th>\n",
              "      <td>Great short read.  I didn't want to put it dow...</td>\n",
              "      <td>5</td>\n",
              "    </tr>\n",
              "    <tr>\n",
              "      <th>2</th>\n",
              "      <td>I'll start by saying this is the first of four...</td>\n",
              "      <td>3</td>\n",
              "    </tr>\n",
              "    <tr>\n",
              "      <th>3</th>\n",
              "      <td>Aggie is Angela Lansbury who carries pocketboo...</td>\n",
              "      <td>3</td>\n",
              "    </tr>\n",
              "    <tr>\n",
              "      <th>4</th>\n",
              "      <td>I did not expect this type of book to be in li...</td>\n",
              "      <td>4</td>\n",
              "    </tr>\n",
              "    <tr>\n",
              "      <th>...</th>\n",
              "      <td>...</td>\n",
              "      <td>...</td>\n",
              "    </tr>\n",
              "    <tr>\n",
              "      <th>11995</th>\n",
              "      <td>Valentine cupid is a vampire- Jena and Ian ano...</td>\n",
              "      <td>4</td>\n",
              "    </tr>\n",
              "    <tr>\n",
              "      <th>11996</th>\n",
              "      <td>I have read all seven books in this series. Ap...</td>\n",
              "      <td>5</td>\n",
              "    </tr>\n",
              "    <tr>\n",
              "      <th>11997</th>\n",
              "      <td>This book really just wasn't my cuppa.  The si...</td>\n",
              "      <td>3</td>\n",
              "    </tr>\n",
              "    <tr>\n",
              "      <th>11998</th>\n",
              "      <td>tried to use it to charge my kindle, it didn't...</td>\n",
              "      <td>1</td>\n",
              "    </tr>\n",
              "    <tr>\n",
              "      <th>11999</th>\n",
              "      <td>Taking Instruction is a look into the often hi...</td>\n",
              "      <td>3</td>\n",
              "    </tr>\n",
              "  </tbody>\n",
              "</table>\n",
              "<p>12000 rows × 2 columns</p>\n",
              "</div>\n",
              "      <button class=\"colab-df-convert\" onclick=\"convertToInteractive('df-f2ca6ee9-bd0a-4928-85a2-6318843cb7ba')\"\n",
              "              title=\"Convert this dataframe to an interactive table.\"\n",
              "              style=\"display:none;\">\n",
              "        \n",
              "  <svg xmlns=\"http://www.w3.org/2000/svg\" height=\"24px\"viewBox=\"0 0 24 24\"\n",
              "       width=\"24px\">\n",
              "    <path d=\"M0 0h24v24H0V0z\" fill=\"none\"/>\n",
              "    <path d=\"M18.56 5.44l.94 2.06.94-2.06 2.06-.94-2.06-.94-.94-2.06-.94 2.06-2.06.94zm-11 1L8.5 8.5l.94-2.06 2.06-.94-2.06-.94L8.5 2.5l-.94 2.06-2.06.94zm10 10l.94 2.06.94-2.06 2.06-.94-2.06-.94-.94-2.06-.94 2.06-2.06.94z\"/><path d=\"M17.41 7.96l-1.37-1.37c-.4-.4-.92-.59-1.43-.59-.52 0-1.04.2-1.43.59L10.3 9.45l-7.72 7.72c-.78.78-.78 2.05 0 2.83L4 21.41c.39.39.9.59 1.41.59.51 0 1.02-.2 1.41-.59l7.78-7.78 2.81-2.81c.8-.78.8-2.07 0-2.86zM5.41 20L4 18.59l7.72-7.72 1.47 1.35L5.41 20z\"/>\n",
              "  </svg>\n",
              "      </button>\n",
              "      \n",
              "  <style>\n",
              "    .colab-df-container {\n",
              "      display:flex;\n",
              "      flex-wrap:wrap;\n",
              "      gap: 12px;\n",
              "    }\n",
              "\n",
              "    .colab-df-convert {\n",
              "      background-color: #E8F0FE;\n",
              "      border: none;\n",
              "      border-radius: 50%;\n",
              "      cursor: pointer;\n",
              "      display: none;\n",
              "      fill: #1967D2;\n",
              "      height: 32px;\n",
              "      padding: 0 0 0 0;\n",
              "      width: 32px;\n",
              "    }\n",
              "\n",
              "    .colab-df-convert:hover {\n",
              "      background-color: #E2EBFA;\n",
              "      box-shadow: 0px 1px 2px rgba(60, 64, 67, 0.3), 0px 1px 3px 1px rgba(60, 64, 67, 0.15);\n",
              "      fill: #174EA6;\n",
              "    }\n",
              "\n",
              "    [theme=dark] .colab-df-convert {\n",
              "      background-color: #3B4455;\n",
              "      fill: #D2E3FC;\n",
              "    }\n",
              "\n",
              "    [theme=dark] .colab-df-convert:hover {\n",
              "      background-color: #434B5C;\n",
              "      box-shadow: 0px 1px 3px 1px rgba(0, 0, 0, 0.15);\n",
              "      filter: drop-shadow(0px 1px 2px rgba(0, 0, 0, 0.3));\n",
              "      fill: #FFFFFF;\n",
              "    }\n",
              "  </style>\n",
              "\n",
              "      <script>\n",
              "        const buttonEl =\n",
              "          document.querySelector('#df-f2ca6ee9-bd0a-4928-85a2-6318843cb7ba button.colab-df-convert');\n",
              "        buttonEl.style.display =\n",
              "          google.colab.kernel.accessAllowed ? 'block' : 'none';\n",
              "\n",
              "        async function convertToInteractive(key) {\n",
              "          const element = document.querySelector('#df-f2ca6ee9-bd0a-4928-85a2-6318843cb7ba');\n",
              "          const dataTable =\n",
              "            await google.colab.kernel.invokeFunction('convertToInteractive',\n",
              "                                                     [key], {});\n",
              "          if (!dataTable) return;\n",
              "\n",
              "          const docLinkHtml = 'Like what you see? Visit the ' +\n",
              "            '<a target=\"_blank\" href=https://colab.research.google.com/notebooks/data_table.ipynb>data table notebook</a>'\n",
              "            + ' to learn more about interactive tables.';\n",
              "          element.innerHTML = '';\n",
              "          dataTable['output_type'] = 'display_data';\n",
              "          await google.colab.output.renderOutput(dataTable, element);\n",
              "          const docLink = document.createElement('div');\n",
              "          docLink.innerHTML = docLinkHtml;\n",
              "          element.appendChild(docLink);\n",
              "        }\n",
              "      </script>\n",
              "    </div>\n",
              "  </div>\n",
              "  "
            ],
            "text/plain": [
              "                                              reviewText  rating\n",
              "0      Jace Rankin may be short, but he's nothing to ...       3\n",
              "1      Great short read.  I didn't want to put it dow...       5\n",
              "2      I'll start by saying this is the first of four...       3\n",
              "3      Aggie is Angela Lansbury who carries pocketboo...       3\n",
              "4      I did not expect this type of book to be in li...       4\n",
              "...                                                  ...     ...\n",
              "11995  Valentine cupid is a vampire- Jena and Ian ano...       4\n",
              "11996  I have read all seven books in this series. Ap...       5\n",
              "11997  This book really just wasn't my cuppa.  The si...       3\n",
              "11998  tried to use it to charge my kindle, it didn't...       1\n",
              "11999  Taking Instruction is a look into the often hi...       3\n",
              "\n",
              "[12000 rows x 2 columns]"
            ]
          },
          "execution_count": 90,
          "metadata": {},
          "output_type": "execute_result"
        }
      ],
      "source": [
        "#new dataset\n",
        "new = df.copy()\n",
        "new = df[['reviewText', 'rating']]\n",
        "new"
      ]
    },
    {
      "cell_type": "code",
      "execution_count": 91,
      "metadata": {
        "colab": {
          "base_uri": "https://localhost:8080/"
        },
        "id": "mCS47f8LT9-y",
        "outputId": "9781219f-2c23-4190-a154-193e56042358"
      },
      "outputs": [
        {
          "data": {
            "text/plain": [
              "(12000, 2)"
            ]
          },
          "execution_count": 91,
          "metadata": {},
          "output_type": "execute_result"
        }
      ],
      "source": [
        "#dimensionality of new dataset\n",
        "new.shape"
      ]
    },
    {
      "cell_type": "code",
      "execution_count": 92,
      "metadata": {
        "colab": {
          "base_uri": "https://localhost:8080/"
        },
        "id": "yMy3JEUJRlBs",
        "outputId": "c5dc05e4-2b8a-4dbb-8183-33ab0781b5ed"
      },
      "outputs": [
        {
          "data": {
            "text/plain": [
              "reviewText    0\n",
              "rating        0\n",
              "dtype: int64"
            ]
          },
          "execution_count": 92,
          "metadata": {},
          "output_type": "execute_result"
        }
      ],
      "source": [
        "#re-check the missing values\n",
        "new.isnull().sum()"
      ]
    },
    {
      "cell_type": "markdown",
      "metadata": {
        "id": "9OfqzAdYbBIW"
      },
      "source": [
        "# 5. Exploratory Data Analysis"
      ]
    },
    {
      "cell_type": "code",
      "execution_count": 93,
      "metadata": {
        "id": "H3bab-XEx4qG"
      },
      "outputs": [],
      "source": [
        "#create new dataframe\n",
        "another = new.copy()"
      ]
    },
    {
      "cell_type": "markdown",
      "metadata": {
        "id": "qef6N-CiTFzq"
      },
      "source": [
        "### Extra Features"
      ]
    },
    {
      "cell_type": "markdown",
      "metadata": {
        "id": "-rfsB9lFXzCj"
      },
      "source": [
        "Create Sentiment Features"
      ]
    },
    {
      "cell_type": "code",
      "execution_count": 94,
      "metadata": {
        "id": "FkZ2qMXtX066"
      },
      "outputs": [],
      "source": [
        "another.loc[another['rating'] == 3,'sentiment'] = 'Neutral'\n",
        "another.loc[another['rating'] < 3,'sentiment'] = 'Negative'\n",
        "another.loc[another['rating'] > 3,'sentiment'] = 'Positive'"
      ]
    },
    {
      "cell_type": "markdown",
      "metadata": {
        "id": "WfwXj4ZZyAr8"
      },
      "source": [
        "Create Stop Words Features"
      ]
    },
    {
      "cell_type": "code",
      "execution_count": 95,
      "metadata": {
        "id": "UfnOqkDNyHFW"
      },
      "outputs": [],
      "source": [
        "#set the stopwords filter\n",
        "filter_stopwords = set(stopwords.words('english'))\n",
        "\n",
        "#create\n",
        "another['stopwords'] = another['reviewText'].apply(lambda x: len([x for x in x.split() if x in filter_stopwords]))"
      ]
    },
    {
      "cell_type": "markdown",
      "metadata": {
        "id": "gKQ4H80uz56N"
      },
      "source": [
        "Create Punctuation Features"
      ]
    },
    {
      "cell_type": "code",
      "execution_count": 96,
      "metadata": {
        "id": "F46IIJIMz5JC"
      },
      "outputs": [],
      "source": [
        "#set the function\n",
        "def count_punct(text):\n",
        "    count = sum([1 for char in text if char in string.punctuation])\n",
        "    return count\n",
        "\n",
        "#apply\n",
        "another['punctuation'] = another['reviewText'].apply(lambda x: count_punct(x))"
      ]
    },
    {
      "cell_type": "markdown",
      "metadata": {
        "id": "4OK7rKJW0QW2"
      },
      "source": [
        "Create Hashtag Features"
      ]
    },
    {
      "cell_type": "code",
      "execution_count": 97,
      "metadata": {
        "id": "e29HM9TD0S_-"
      },
      "outputs": [],
      "source": [
        "another['hastags'] = another['reviewText'].apply(lambda x: len([x for x in x.split() if x.startswith('#')]))"
      ]
    },
    {
      "cell_type": "markdown",
      "metadata": {
        "id": "-XCVNXVm0uTa"
      },
      "source": [
        "Create Numbers Features"
      ]
    },
    {
      "cell_type": "code",
      "execution_count": 98,
      "metadata": {
        "id": "dTNhfYTl1HOA"
      },
      "outputs": [],
      "source": [
        "another['numerics'] = another['reviewText'].apply(lambda x: len([x for x in x.split() if x.isdigit()]))"
      ]
    },
    {
      "cell_type": "markdown",
      "metadata": {
        "id": "EzVXLVFcRZnZ"
      },
      "source": [
        "Create Number + Average Words"
      ]
    },
    {
      "cell_type": "code",
      "execution_count": 99,
      "metadata": {
        "id": "LqZugNhGRzn6"
      },
      "outputs": [],
      "source": [
        "#Average Words\n",
        "def avg_word(sentence):\n",
        "  words = sentence.split()\n",
        "  return (sum(len(word) for word in words)/(len(words)+0.000001))"
      ]
    },
    {
      "cell_type": "code",
      "execution_count": 100,
      "metadata": {
        "id": "Gb9_uBZ6RZ6p"
      },
      "outputs": [],
      "source": [
        "#Number of Character\n",
        "another['char_count'] = another['reviewText'].str.len()\n",
        "#Apply Average Words\n",
        "another['avg_word'] = another['reviewText'].apply(lambda x: avg_word(x)).round(1)"
      ]
    },
    {
      "cell_type": "markdown",
      "metadata": {
        "id": "qyGLFMv6SF9P"
      },
      "source": [
        "Dataset with Extra Features"
      ]
    },
    {
      "cell_type": "code",
      "execution_count": 101,
      "metadata": {
        "colab": {
          "base_uri": "https://localhost:8080/",
          "height": 0
        },
        "id": "C2MKCs4NSMqU",
        "outputId": "8d162eb9-b25e-4e3a-da07-730fa1d5d0e9"
      },
      "outputs": [
        {
          "data": {
            "text/html": [
              "\n",
              "  <div id=\"df-16bef615-9e7d-4f29-b483-1602c1a765f2\">\n",
              "    <div class=\"colab-df-container\">\n",
              "      <div>\n",
              "<style scoped>\n",
              "    .dataframe tbody tr th:only-of-type {\n",
              "        vertical-align: middle;\n",
              "    }\n",
              "\n",
              "    .dataframe tbody tr th {\n",
              "        vertical-align: top;\n",
              "    }\n",
              "\n",
              "    .dataframe thead th {\n",
              "        text-align: right;\n",
              "    }\n",
              "</style>\n",
              "<table border=\"1\" class=\"dataframe\">\n",
              "  <thead>\n",
              "    <tr style=\"text-align: right;\">\n",
              "      <th></th>\n",
              "      <th>reviewText</th>\n",
              "      <th>rating</th>\n",
              "      <th>sentiment</th>\n",
              "      <th>stopwords</th>\n",
              "      <th>punctuation</th>\n",
              "      <th>hastags</th>\n",
              "      <th>numerics</th>\n",
              "      <th>char_count</th>\n",
              "      <th>avg_word</th>\n",
              "    </tr>\n",
              "  </thead>\n",
              "  <tbody>\n",
              "    <tr>\n",
              "      <th>0</th>\n",
              "      <td>Jace Rankin may be short, but he's nothing to ...</td>\n",
              "      <td>3</td>\n",
              "      <td>Neutral</td>\n",
              "      <td>238</td>\n",
              "      <td>87</td>\n",
              "      <td>0</td>\n",
              "      <td>0</td>\n",
              "      <td>2921</td>\n",
              "      <td>4.4</td>\n",
              "    </tr>\n",
              "    <tr>\n",
              "      <th>1</th>\n",
              "      <td>Great short read.  I didn't want to put it dow...</td>\n",
              "      <td>5</td>\n",
              "      <td>Positive</td>\n",
              "      <td>24</td>\n",
              "      <td>12</td>\n",
              "      <td>0</td>\n",
              "      <td>0</td>\n",
              "      <td>371</td>\n",
              "      <td>4.3</td>\n",
              "    </tr>\n",
              "    <tr>\n",
              "      <th>2</th>\n",
              "      <td>I'll start by saying this is the first of four...</td>\n",
              "      <td>3</td>\n",
              "      <td>Neutral</td>\n",
              "      <td>28</td>\n",
              "      <td>19</td>\n",
              "      <td>0</td>\n",
              "      <td>2</td>\n",
              "      <td>416</td>\n",
              "      <td>4.5</td>\n",
              "    </tr>\n",
              "    <tr>\n",
              "      <th>3</th>\n",
              "      <td>Aggie is Angela Lansbury who carries pocketboo...</td>\n",
              "      <td>3</td>\n",
              "      <td>Neutral</td>\n",
              "      <td>20</td>\n",
              "      <td>8</td>\n",
              "      <td>0</td>\n",
              "      <td>0</td>\n",
              "      <td>336</td>\n",
              "      <td>5.2</td>\n",
              "    </tr>\n",
              "    <tr>\n",
              "      <th>4</th>\n",
              "      <td>I did not expect this type of book to be in li...</td>\n",
              "      <td>4</td>\n",
              "      <td>Positive</td>\n",
              "      <td>11</td>\n",
              "      <td>0</td>\n",
              "      <td>0</td>\n",
              "      <td>0</td>\n",
              "      <td>90</td>\n",
              "      <td>3.5</td>\n",
              "    </tr>\n",
              "  </tbody>\n",
              "</table>\n",
              "</div>\n",
              "      <button class=\"colab-df-convert\" onclick=\"convertToInteractive('df-16bef615-9e7d-4f29-b483-1602c1a765f2')\"\n",
              "              title=\"Convert this dataframe to an interactive table.\"\n",
              "              style=\"display:none;\">\n",
              "        \n",
              "  <svg xmlns=\"http://www.w3.org/2000/svg\" height=\"24px\"viewBox=\"0 0 24 24\"\n",
              "       width=\"24px\">\n",
              "    <path d=\"M0 0h24v24H0V0z\" fill=\"none\"/>\n",
              "    <path d=\"M18.56 5.44l.94 2.06.94-2.06 2.06-.94-2.06-.94-.94-2.06-.94 2.06-2.06.94zm-11 1L8.5 8.5l.94-2.06 2.06-.94-2.06-.94L8.5 2.5l-.94 2.06-2.06.94zm10 10l.94 2.06.94-2.06 2.06-.94-2.06-.94-.94-2.06-.94 2.06-2.06.94z\"/><path d=\"M17.41 7.96l-1.37-1.37c-.4-.4-.92-.59-1.43-.59-.52 0-1.04.2-1.43.59L10.3 9.45l-7.72 7.72c-.78.78-.78 2.05 0 2.83L4 21.41c.39.39.9.59 1.41.59.51 0 1.02-.2 1.41-.59l7.78-7.78 2.81-2.81c.8-.78.8-2.07 0-2.86zM5.41 20L4 18.59l7.72-7.72 1.47 1.35L5.41 20z\"/>\n",
              "  </svg>\n",
              "      </button>\n",
              "      \n",
              "  <style>\n",
              "    .colab-df-container {\n",
              "      display:flex;\n",
              "      flex-wrap:wrap;\n",
              "      gap: 12px;\n",
              "    }\n",
              "\n",
              "    .colab-df-convert {\n",
              "      background-color: #E8F0FE;\n",
              "      border: none;\n",
              "      border-radius: 50%;\n",
              "      cursor: pointer;\n",
              "      display: none;\n",
              "      fill: #1967D2;\n",
              "      height: 32px;\n",
              "      padding: 0 0 0 0;\n",
              "      width: 32px;\n",
              "    }\n",
              "\n",
              "    .colab-df-convert:hover {\n",
              "      background-color: #E2EBFA;\n",
              "      box-shadow: 0px 1px 2px rgba(60, 64, 67, 0.3), 0px 1px 3px 1px rgba(60, 64, 67, 0.15);\n",
              "      fill: #174EA6;\n",
              "    }\n",
              "\n",
              "    [theme=dark] .colab-df-convert {\n",
              "      background-color: #3B4455;\n",
              "      fill: #D2E3FC;\n",
              "    }\n",
              "\n",
              "    [theme=dark] .colab-df-convert:hover {\n",
              "      background-color: #434B5C;\n",
              "      box-shadow: 0px 1px 3px 1px rgba(0, 0, 0, 0.15);\n",
              "      filter: drop-shadow(0px 1px 2px rgba(0, 0, 0, 0.3));\n",
              "      fill: #FFFFFF;\n",
              "    }\n",
              "  </style>\n",
              "\n",
              "      <script>\n",
              "        const buttonEl =\n",
              "          document.querySelector('#df-16bef615-9e7d-4f29-b483-1602c1a765f2 button.colab-df-convert');\n",
              "        buttonEl.style.display =\n",
              "          google.colab.kernel.accessAllowed ? 'block' : 'none';\n",
              "\n",
              "        async function convertToInteractive(key) {\n",
              "          const element = document.querySelector('#df-16bef615-9e7d-4f29-b483-1602c1a765f2');\n",
              "          const dataTable =\n",
              "            await google.colab.kernel.invokeFunction('convertToInteractive',\n",
              "                                                     [key], {});\n",
              "          if (!dataTable) return;\n",
              "\n",
              "          const docLinkHtml = 'Like what you see? Visit the ' +\n",
              "            '<a target=\"_blank\" href=https://colab.research.google.com/notebooks/data_table.ipynb>data table notebook</a>'\n",
              "            + ' to learn more about interactive tables.';\n",
              "          element.innerHTML = '';\n",
              "          dataTable['output_type'] = 'display_data';\n",
              "          await google.colab.output.renderOutput(dataTable, element);\n",
              "          const docLink = document.createElement('div');\n",
              "          docLink.innerHTML = docLinkHtml;\n",
              "          element.appendChild(docLink);\n",
              "        }\n",
              "      </script>\n",
              "    </div>\n",
              "  </div>\n",
              "  "
            ],
            "text/plain": [
              "                                          reviewText  ...  avg_word\n",
              "0  Jace Rankin may be short, but he's nothing to ...  ...       4.4\n",
              "1  Great short read.  I didn't want to put it dow...  ...       4.3\n",
              "2  I'll start by saying this is the first of four...  ...       4.5\n",
              "3  Aggie is Angela Lansbury who carries pocketboo...  ...       5.2\n",
              "4  I did not expect this type of book to be in li...  ...       3.5\n",
              "\n",
              "[5 rows x 9 columns]"
            ]
          },
          "execution_count": 101,
          "metadata": {},
          "output_type": "execute_result"
        }
      ],
      "source": [
        "another.head()"
      ]
    },
    {
      "cell_type": "markdown",
      "metadata": {
        "id": "QABn0zSnTIcj"
      },
      "source": [
        "### Visualization"
      ]
    },
    {
      "cell_type": "markdown",
      "metadata": {
        "id": "V_PzbQZiTepu"
      },
      "source": [
        "The Data below is some random samples from our dataset after added some features at previous section."
      ]
    },
    {
      "cell_type": "code",
      "execution_count": 102,
      "metadata": {
        "colab": {
          "base_uri": "https://localhost:8080/",
          "height": 0
        },
        "id": "_R5M6VZ5TLcx",
        "outputId": "53476380-74a2-4435-f6df-fa701f571e2b"
      },
      "outputs": [
        {
          "data": {
            "text/html": [
              "\n",
              "  <div id=\"df-f4e0206d-a478-497f-9ce4-03beda272908\">\n",
              "    <div class=\"colab-df-container\">\n",
              "      <div>\n",
              "<style scoped>\n",
              "    .dataframe tbody tr th:only-of-type {\n",
              "        vertical-align: middle;\n",
              "    }\n",
              "\n",
              "    .dataframe tbody tr th {\n",
              "        vertical-align: top;\n",
              "    }\n",
              "\n",
              "    .dataframe thead th {\n",
              "        text-align: right;\n",
              "    }\n",
              "</style>\n",
              "<table border=\"1\" class=\"dataframe\">\n",
              "  <thead>\n",
              "    <tr style=\"text-align: right;\">\n",
              "      <th></th>\n",
              "      <th>reviewText</th>\n",
              "      <th>rating</th>\n",
              "      <th>sentiment</th>\n",
              "      <th>stopwords</th>\n",
              "      <th>punctuation</th>\n",
              "      <th>hastags</th>\n",
              "      <th>numerics</th>\n",
              "      <th>char_count</th>\n",
              "      <th>avg_word</th>\n",
              "    </tr>\n",
              "  </thead>\n",
              "  <tbody>\n",
              "    <tr>\n",
              "      <th>1935</th>\n",
              "      <td>Was a really great read just wish there would ...</td>\n",
              "      <td>3</td>\n",
              "      <td>Neutral</td>\n",
              "      <td>11</td>\n",
              "      <td>2</td>\n",
              "      <td>0</td>\n",
              "      <td>0</td>\n",
              "      <td>101</td>\n",
              "      <td>3.9</td>\n",
              "    </tr>\n",
              "    <tr>\n",
              "      <th>6494</th>\n",
              "      <td>Nope. I tried. Can't read it. I will take the ...</td>\n",
              "      <td>1</td>\n",
              "      <td>Negative</td>\n",
              "      <td>7</td>\n",
              "      <td>6</td>\n",
              "      <td>0</td>\n",
              "      <td>0</td>\n",
              "      <td>118</td>\n",
              "      <td>4.2</td>\n",
              "    </tr>\n",
              "    <tr>\n",
              "      <th>1720</th>\n",
              "      <td>The story line just drug on and on. I did not ...</td>\n",
              "      <td>2</td>\n",
              "      <td>Negative</td>\n",
              "      <td>16</td>\n",
              "      <td>2</td>\n",
              "      <td>0</td>\n",
              "      <td>0</td>\n",
              "      <td>141</td>\n",
              "      <td>3.4</td>\n",
              "    </tr>\n",
              "    <tr>\n",
              "      <th>9120</th>\n",
              "      <td>I have read several angel books but this one d...</td>\n",
              "      <td>1</td>\n",
              "      <td>Negative</td>\n",
              "      <td>45</td>\n",
              "      <td>11</td>\n",
              "      <td>0</td>\n",
              "      <td>0</td>\n",
              "      <td>485</td>\n",
              "      <td>3.9</td>\n",
              "    </tr>\n",
              "    <tr>\n",
              "      <th>360</th>\n",
              "      <td>Possibly the worst book I have ever read.  The...</td>\n",
              "      <td>1</td>\n",
              "      <td>Negative</td>\n",
              "      <td>40</td>\n",
              "      <td>16</td>\n",
              "      <td>0</td>\n",
              "      <td>0</td>\n",
              "      <td>497</td>\n",
              "      <td>4.5</td>\n",
              "    </tr>\n",
              "  </tbody>\n",
              "</table>\n",
              "</div>\n",
              "      <button class=\"colab-df-convert\" onclick=\"convertToInteractive('df-f4e0206d-a478-497f-9ce4-03beda272908')\"\n",
              "              title=\"Convert this dataframe to an interactive table.\"\n",
              "              style=\"display:none;\">\n",
              "        \n",
              "  <svg xmlns=\"http://www.w3.org/2000/svg\" height=\"24px\"viewBox=\"0 0 24 24\"\n",
              "       width=\"24px\">\n",
              "    <path d=\"M0 0h24v24H0V0z\" fill=\"none\"/>\n",
              "    <path d=\"M18.56 5.44l.94 2.06.94-2.06 2.06-.94-2.06-.94-.94-2.06-.94 2.06-2.06.94zm-11 1L8.5 8.5l.94-2.06 2.06-.94-2.06-.94L8.5 2.5l-.94 2.06-2.06.94zm10 10l.94 2.06.94-2.06 2.06-.94-2.06-.94-.94-2.06-.94 2.06-2.06.94z\"/><path d=\"M17.41 7.96l-1.37-1.37c-.4-.4-.92-.59-1.43-.59-.52 0-1.04.2-1.43.59L10.3 9.45l-7.72 7.72c-.78.78-.78 2.05 0 2.83L4 21.41c.39.39.9.59 1.41.59.51 0 1.02-.2 1.41-.59l7.78-7.78 2.81-2.81c.8-.78.8-2.07 0-2.86zM5.41 20L4 18.59l7.72-7.72 1.47 1.35L5.41 20z\"/>\n",
              "  </svg>\n",
              "      </button>\n",
              "      \n",
              "  <style>\n",
              "    .colab-df-container {\n",
              "      display:flex;\n",
              "      flex-wrap:wrap;\n",
              "      gap: 12px;\n",
              "    }\n",
              "\n",
              "    .colab-df-convert {\n",
              "      background-color: #E8F0FE;\n",
              "      border: none;\n",
              "      border-radius: 50%;\n",
              "      cursor: pointer;\n",
              "      display: none;\n",
              "      fill: #1967D2;\n",
              "      height: 32px;\n",
              "      padding: 0 0 0 0;\n",
              "      width: 32px;\n",
              "    }\n",
              "\n",
              "    .colab-df-convert:hover {\n",
              "      background-color: #E2EBFA;\n",
              "      box-shadow: 0px 1px 2px rgba(60, 64, 67, 0.3), 0px 1px 3px 1px rgba(60, 64, 67, 0.15);\n",
              "      fill: #174EA6;\n",
              "    }\n",
              "\n",
              "    [theme=dark] .colab-df-convert {\n",
              "      background-color: #3B4455;\n",
              "      fill: #D2E3FC;\n",
              "    }\n",
              "\n",
              "    [theme=dark] .colab-df-convert:hover {\n",
              "      background-color: #434B5C;\n",
              "      box-shadow: 0px 1px 3px 1px rgba(0, 0, 0, 0.15);\n",
              "      filter: drop-shadow(0px 1px 2px rgba(0, 0, 0, 0.3));\n",
              "      fill: #FFFFFF;\n",
              "    }\n",
              "  </style>\n",
              "\n",
              "      <script>\n",
              "        const buttonEl =\n",
              "          document.querySelector('#df-f4e0206d-a478-497f-9ce4-03beda272908 button.colab-df-convert');\n",
              "        buttonEl.style.display =\n",
              "          google.colab.kernel.accessAllowed ? 'block' : 'none';\n",
              "\n",
              "        async function convertToInteractive(key) {\n",
              "          const element = document.querySelector('#df-f4e0206d-a478-497f-9ce4-03beda272908');\n",
              "          const dataTable =\n",
              "            await google.colab.kernel.invokeFunction('convertToInteractive',\n",
              "                                                     [key], {});\n",
              "          if (!dataTable) return;\n",
              "\n",
              "          const docLinkHtml = 'Like what you see? Visit the ' +\n",
              "            '<a target=\"_blank\" href=https://colab.research.google.com/notebooks/data_table.ipynb>data table notebook</a>'\n",
              "            + ' to learn more about interactive tables.';\n",
              "          element.innerHTML = '';\n",
              "          dataTable['output_type'] = 'display_data';\n",
              "          await google.colab.output.renderOutput(dataTable, element);\n",
              "          const docLink = document.createElement('div');\n",
              "          docLink.innerHTML = docLinkHtml;\n",
              "          element.appendChild(docLink);\n",
              "        }\n",
              "      </script>\n",
              "    </div>\n",
              "  </div>\n",
              "  "
            ],
            "text/plain": [
              "                                             reviewText  ...  avg_word\n",
              "1935  Was a really great read just wish there would ...  ...       3.9\n",
              "6494  Nope. I tried. Can't read it. I will take the ...  ...       4.2\n",
              "1720  The story line just drug on and on. I did not ...  ...       3.4\n",
              "9120  I have read several angel books but this one d...  ...       3.9\n",
              "360   Possibly the worst book I have ever read.  The...  ...       4.5\n",
              "\n",
              "[5 rows x 9 columns]"
            ]
          },
          "execution_count": 102,
          "metadata": {},
          "output_type": "execute_result"
        }
      ],
      "source": [
        "another.sample(5)"
      ]
    },
    {
      "cell_type": "markdown",
      "metadata": {
        "id": "sDfb7TljTwwz"
      },
      "source": [
        "**View The Dataset in Statistics**"
      ]
    },
    {
      "cell_type": "code",
      "execution_count": 103,
      "metadata": {
        "colab": {
          "base_uri": "https://localhost:8080/",
          "height": 0
        },
        "id": "U70Fki5rTvch",
        "outputId": "b29d1f59-f679-4ad9-9e0f-06e4c48ca004"
      },
      "outputs": [
        {
          "data": {
            "text/html": [
              "\n",
              "  <div id=\"df-47a49294-1177-42e9-a90e-0fb3d4364e59\">\n",
              "    <div class=\"colab-df-container\">\n",
              "      <div>\n",
              "<style scoped>\n",
              "    .dataframe tbody tr th:only-of-type {\n",
              "        vertical-align: middle;\n",
              "    }\n",
              "\n",
              "    .dataframe tbody tr th {\n",
              "        vertical-align: top;\n",
              "    }\n",
              "\n",
              "    .dataframe thead th {\n",
              "        text-align: right;\n",
              "    }\n",
              "</style>\n",
              "<table border=\"1\" class=\"dataframe\">\n",
              "  <thead>\n",
              "    <tr style=\"text-align: right;\">\n",
              "      <th></th>\n",
              "      <th>count</th>\n",
              "      <th>mean</th>\n",
              "      <th>std</th>\n",
              "      <th>min</th>\n",
              "      <th>25%</th>\n",
              "      <th>50%</th>\n",
              "      <th>75%</th>\n",
              "      <th>max</th>\n",
              "    </tr>\n",
              "  </thead>\n",
              "  <tbody>\n",
              "    <tr>\n",
              "      <th>rating</th>\n",
              "      <td>12000.0</td>\n",
              "      <td>3.0</td>\n",
              "      <td>1.0</td>\n",
              "      <td>1.0</td>\n",
              "      <td>2.0</td>\n",
              "      <td>4.0</td>\n",
              "      <td>4.0</td>\n",
              "      <td>5.0</td>\n",
              "    </tr>\n",
              "    <tr>\n",
              "      <th>stopwords</th>\n",
              "      <td>12000.0</td>\n",
              "      <td>47.0</td>\n",
              "      <td>56.0</td>\n",
              "      <td>0.0</td>\n",
              "      <td>13.0</td>\n",
              "      <td>26.0</td>\n",
              "      <td>59.0</td>\n",
              "      <td>956.0</td>\n",
              "    </tr>\n",
              "    <tr>\n",
              "      <th>punctuation</th>\n",
              "      <td>12000.0</td>\n",
              "      <td>18.0</td>\n",
              "      <td>23.0</td>\n",
              "      <td>0.0</td>\n",
              "      <td>5.0</td>\n",
              "      <td>10.0</td>\n",
              "      <td>22.0</td>\n",
              "      <td>370.0</td>\n",
              "    </tr>\n",
              "    <tr>\n",
              "      <th>hastags</th>\n",
              "      <td>12000.0</td>\n",
              "      <td>0.0</td>\n",
              "      <td>0.0</td>\n",
              "      <td>0.0</td>\n",
              "      <td>0.0</td>\n",
              "      <td>0.0</td>\n",
              "      <td>0.0</td>\n",
              "      <td>6.0</td>\n",
              "    </tr>\n",
              "    <tr>\n",
              "      <th>numerics</th>\n",
              "      <td>12000.0</td>\n",
              "      <td>0.0</td>\n",
              "      <td>1.0</td>\n",
              "      <td>0.0</td>\n",
              "      <td>0.0</td>\n",
              "      <td>0.0</td>\n",
              "      <td>0.0</td>\n",
              "      <td>16.0</td>\n",
              "    </tr>\n",
              "    <tr>\n",
              "      <th>char_count</th>\n",
              "      <td>12000.0</td>\n",
              "      <td>602.0</td>\n",
              "      <td>710.0</td>\n",
              "      <td>7.0</td>\n",
              "      <td>171.0</td>\n",
              "      <td>332.0</td>\n",
              "      <td>737.0</td>\n",
              "      <td>12246.0</td>\n",
              "    </tr>\n",
              "    <tr>\n",
              "      <th>avg_word</th>\n",
              "      <td>12000.0</td>\n",
              "      <td>4.0</td>\n",
              "      <td>0.0</td>\n",
              "      <td>3.0</td>\n",
              "      <td>4.0</td>\n",
              "      <td>4.0</td>\n",
              "      <td>5.0</td>\n",
              "      <td>9.0</td>\n",
              "    </tr>\n",
              "  </tbody>\n",
              "</table>\n",
              "</div>\n",
              "      <button class=\"colab-df-convert\" onclick=\"convertToInteractive('df-47a49294-1177-42e9-a90e-0fb3d4364e59')\"\n",
              "              title=\"Convert this dataframe to an interactive table.\"\n",
              "              style=\"display:none;\">\n",
              "        \n",
              "  <svg xmlns=\"http://www.w3.org/2000/svg\" height=\"24px\"viewBox=\"0 0 24 24\"\n",
              "       width=\"24px\">\n",
              "    <path d=\"M0 0h24v24H0V0z\" fill=\"none\"/>\n",
              "    <path d=\"M18.56 5.44l.94 2.06.94-2.06 2.06-.94-2.06-.94-.94-2.06-.94 2.06-2.06.94zm-11 1L8.5 8.5l.94-2.06 2.06-.94-2.06-.94L8.5 2.5l-.94 2.06-2.06.94zm10 10l.94 2.06.94-2.06 2.06-.94-2.06-.94-.94-2.06-.94 2.06-2.06.94z\"/><path d=\"M17.41 7.96l-1.37-1.37c-.4-.4-.92-.59-1.43-.59-.52 0-1.04.2-1.43.59L10.3 9.45l-7.72 7.72c-.78.78-.78 2.05 0 2.83L4 21.41c.39.39.9.59 1.41.59.51 0 1.02-.2 1.41-.59l7.78-7.78 2.81-2.81c.8-.78.8-2.07 0-2.86zM5.41 20L4 18.59l7.72-7.72 1.47 1.35L5.41 20z\"/>\n",
              "  </svg>\n",
              "      </button>\n",
              "      \n",
              "  <style>\n",
              "    .colab-df-container {\n",
              "      display:flex;\n",
              "      flex-wrap:wrap;\n",
              "      gap: 12px;\n",
              "    }\n",
              "\n",
              "    .colab-df-convert {\n",
              "      background-color: #E8F0FE;\n",
              "      border: none;\n",
              "      border-radius: 50%;\n",
              "      cursor: pointer;\n",
              "      display: none;\n",
              "      fill: #1967D2;\n",
              "      height: 32px;\n",
              "      padding: 0 0 0 0;\n",
              "      width: 32px;\n",
              "    }\n",
              "\n",
              "    .colab-df-convert:hover {\n",
              "      background-color: #E2EBFA;\n",
              "      box-shadow: 0px 1px 2px rgba(60, 64, 67, 0.3), 0px 1px 3px 1px rgba(60, 64, 67, 0.15);\n",
              "      fill: #174EA6;\n",
              "    }\n",
              "\n",
              "    [theme=dark] .colab-df-convert {\n",
              "      background-color: #3B4455;\n",
              "      fill: #D2E3FC;\n",
              "    }\n",
              "\n",
              "    [theme=dark] .colab-df-convert:hover {\n",
              "      background-color: #434B5C;\n",
              "      box-shadow: 0px 1px 3px 1px rgba(0, 0, 0, 0.15);\n",
              "      filter: drop-shadow(0px 1px 2px rgba(0, 0, 0, 0.3));\n",
              "      fill: #FFFFFF;\n",
              "    }\n",
              "  </style>\n",
              "\n",
              "      <script>\n",
              "        const buttonEl =\n",
              "          document.querySelector('#df-47a49294-1177-42e9-a90e-0fb3d4364e59 button.colab-df-convert');\n",
              "        buttonEl.style.display =\n",
              "          google.colab.kernel.accessAllowed ? 'block' : 'none';\n",
              "\n",
              "        async function convertToInteractive(key) {\n",
              "          const element = document.querySelector('#df-47a49294-1177-42e9-a90e-0fb3d4364e59');\n",
              "          const dataTable =\n",
              "            await google.colab.kernel.invokeFunction('convertToInteractive',\n",
              "                                                     [key], {});\n",
              "          if (!dataTable) return;\n",
              "\n",
              "          const docLinkHtml = 'Like what you see? Visit the ' +\n",
              "            '<a target=\"_blank\" href=https://colab.research.google.com/notebooks/data_table.ipynb>data table notebook</a>'\n",
              "            + ' to learn more about interactive tables.';\n",
              "          element.innerHTML = '';\n",
              "          dataTable['output_type'] = 'display_data';\n",
              "          await google.colab.output.renderOutput(dataTable, element);\n",
              "          const docLink = document.createElement('div');\n",
              "          docLink.innerHTML = docLinkHtml;\n",
              "          element.appendChild(docLink);\n",
              "        }\n",
              "      </script>\n",
              "    </div>\n",
              "  </div>\n",
              "  "
            ],
            "text/plain": [
              "               count   mean    std  min    25%    50%    75%      max\n",
              "rating       12000.0    3.0    1.0  1.0    2.0    4.0    4.0      5.0\n",
              "stopwords    12000.0   47.0   56.0  0.0   13.0   26.0   59.0    956.0\n",
              "punctuation  12000.0   18.0   23.0  0.0    5.0   10.0   22.0    370.0\n",
              "hastags      12000.0    0.0    0.0  0.0    0.0    0.0    0.0      6.0\n",
              "numerics     12000.0    0.0    1.0  0.0    0.0    0.0    0.0     16.0\n",
              "char_count   12000.0  602.0  710.0  7.0  171.0  332.0  737.0  12246.0\n",
              "avg_word     12000.0    4.0    0.0  3.0    4.0    4.0    5.0      9.0"
            ]
          },
          "execution_count": 103,
          "metadata": {},
          "output_type": "execute_result"
        }
      ],
      "source": [
        "another.describe().T.round(0)"
      ]
    },
    {
      "cell_type": "markdown",
      "metadata": {
        "id": "XFfQt6YTUIqf"
      },
      "source": [
        "From our table above we can see that the maximum character value can reach 12,246 characters with an average value of 602 characters. Even in the stopwords and punctuation columns, the values are 956 and 370, respectively, with an average value of 47 stopwords and 18 punctuation.\n",
        "\n",
        "Now let's see the outliers and its distribution through Seaborn"
      ]
    },
    {
      "cell_type": "code",
      "execution_count": 104,
      "metadata": {
        "colab": {
          "base_uri": "https://localhost:8080/",
          "height": 0
        },
        "id": "dOedFacgYay-",
        "outputId": "d092ad4c-4c9e-4e72-9505-0a1db618f116"
      },
      "outputs": [
        {
          "data": {
            "image/png": "[encoded data removed]",
            "text/plain": [
              "<Figure size 432x288 with 1 Axes>"
            ]
          },
          "metadata": {
            "needs_background": "light"
          },
          "output_type": "display_data"
        }
      ],
      "source": [
        "#compare the big 3\n",
        "general = another[['char_count', 'stopwords', 'punctuation']]\n",
        "ax = sns.boxplot(data=general, orient='h')"
      ]
    },
    {
      "cell_type": "code",
      "execution_count": 105,
      "metadata": {
        "colab": {
          "base_uri": "https://localhost:8080/",
          "height": 0
        },
        "id": "9_WFOABLVoAV",
        "outputId": "49d63a17-f181-4895-ccb6-6ca98cfa1494"
      },
      "outputs": [
        {
          "data": {
            "image/png": "[encoded data removed]",
            "text/plain": [
              "<Figure size 432x288 with 1 Axes>"
            ]
          },
          "metadata": {
            "needs_background": "light"
          },
          "output_type": "display_data"
        }
      ],
      "source": [
        "#average word distribution\n",
        "ax = sns.boxplot(another['avg_word'], data=another)"
      ]
    },
    {
      "cell_type": "code",
      "execution_count": 106,
      "metadata": {
        "colab": {
          "base_uri": "https://localhost:8080/",
          "height": 0
        },
        "id": "A2SZRKFpWiEr",
        "outputId": "7b70d8a5-d5ea-433a-aed0-30fd65998a1d"
      },
      "outputs": [
        {
          "data": {
            "image/png": "[encoded data removed]",
            "text/plain": [
              "<Figure size 432x288 with 1 Axes>"
            ]
          },
          "metadata": {
            "needs_background": "light"
          },
          "output_type": "display_data"
        }
      ],
      "source": [
        "#char count distribution\n",
        "ax = sns.boxplot(another['char_count'], data=another)"
      ]
    },
    {
      "cell_type": "code",
      "execution_count": 107,
      "metadata": {
        "colab": {
          "base_uri": "https://localhost:8080/",
          "height": 0
        },
        "id": "5WNS5n7WWx4O",
        "outputId": "db8e3181-e43b-4215-cde8-43596907869a"
      },
      "outputs": [
        {
          "data": {
            "image/png": "[encoded data removed]",
            "text/plain": [
              "<Figure size 432x288 with 1 Axes>"
            ]
          },
          "metadata": {
            "needs_background": "light"
          },
          "output_type": "display_data"
        }
      ],
      "source": [
        "#stop words distribution\n",
        "ax = sns.boxplot(another['stopwords'], data=another)"
      ]
    },
    {
      "cell_type": "code",
      "execution_count": 108,
      "metadata": {
        "colab": {
          "base_uri": "https://localhost:8080/",
          "height": 0
        },
        "id": "rZEsgAq5W5rE",
        "outputId": "07c04078-0371-47d8-fa70-fbfb028fa0e9"
      },
      "outputs": [
        {
          "data": {
            "image/png": "[encoded data removed]",
            "text/plain": [
              "<Figure size 432x288 with 1 Axes>"
            ]
          },
          "metadata": {
            "needs_background": "light"
          },
          "output_type": "display_data"
        }
      ],
      "source": [
        "#punctuation distribution\n",
        "ax = sns.boxplot(another['punctuation'], data=another)"
      ]
    },
    {
      "cell_type": "markdown",
      "metadata": {
        "id": "foR4zkX1nv58"
      },
      "source": [
        "Yep, indeed our data this time looks a lot of unwanted words or variables. Plus because this is NLP, so we can't do much other than \"cleaning\". Therefore in the next stage we will do additional \"cleaning\" at pre-processing"
      ]
    },
    {
      "cell_type": "markdown",
      "metadata": {
        "id": "p2hUENotlC02"
      },
      "source": [
        "**Word Cloud**"
      ]
    },
    {
      "cell_type": "code",
      "execution_count": 109,
      "metadata": {
        "colab": {
          "base_uri": "https://localhost:8080/",
          "height": 0
        },
        "id": "0_I8_NtvlGnv",
        "outputId": "7390b19b-9a55-446e-cc6d-de9a01862474"
      },
      "outputs": [
        {
          "data": {
            "image/png": "[encoded data removed]",
            "text/plain": [
              "<Figure size 432x288 with 1 Axes>"
            ]
          },
          "metadata": {
            "needs_background": "light"
          },
          "output_type": "display_data"
        }
      ],
      "source": [
        "dam = another['reviewText'].iloc[:5]\n",
        "#wordcloud = WordCloud().generate(dam)\n",
        "\n",
        "#figure(figsize= (10,10), dpi= 120)\n",
        "#plt.imshow(wordcloud, interpolation='bilinear')\n",
        "plt.axis(\"off\")\n",
        "plt.show()"
      ]
    },
    {
      "cell_type": "markdown",
      "metadata": {
        "id": "2tUgh9cnwqX7"
      },
      "source": [
        "**Target Distribution**\n"
      ]
    },
    {
      "cell_type": "code",
      "execution_count": 110,
      "metadata": {
        "colab": {
          "base_uri": "https://localhost:8080/",
          "height": 0
        },
        "id": "6lagG0_mTR1W",
        "outputId": "2ca952db-cea4-49ed-d05f-b22a2471c350"
      },
      "outputs": [
        {
          "data": {
            "text/plain": [
              "<matplotlib.axes._subplots.AxesSubplot at 0x7f56e901bad0>"
            ]
          },
          "execution_count": 110,
          "metadata": {},
          "output_type": "execute_result"
        },
        {
          "data": {
            "image/png": "[encoded data removed]",
            "text/plain": [
              "<Figure size 432x288 with 1 Axes>"
            ]
          },
          "metadata": {
            "needs_background": "light"
          },
          "output_type": "display_data"
        }
      ],
      "source": [
        "#visualize number counts of rating\n",
        "sns.countplot('rating', data=another)"
      ]
    },
    {
      "cell_type": "code",
      "execution_count": 111,
      "metadata": {
        "colab": {
          "base_uri": "https://localhost:8080/"
        },
        "id": "yM8P_bskYohW",
        "outputId": "fecb5bed-ff04-430c-bfc4-cf5ad8058996"
      },
      "outputs": [
        {
          "data": {
            "text/plain": [
              "5    3000\n",
              "4    3000\n",
              "3    2000\n",
              "2    2000\n",
              "1    2000\n",
              "Name: rating, dtype: int64"
            ]
          },
          "execution_count": 111,
          "metadata": {},
          "output_type": "execute_result"
        }
      ],
      "source": [
        "#exact counts from Rating Column\n",
        "another.rating.value_counts()"
      ]
    },
    {
      "cell_type": "code",
      "execution_count": 112,
      "metadata": {
        "colab": {
          "base_uri": "https://localhost:8080/",
          "height": 0
        },
        "id": "AgdxLkfoxG-N",
        "outputId": "936fa28c-c5cf-4afd-8e28-5b9bd35d801e"
      },
      "outputs": [
        {
          "data": {
            "text/plain": [
              "<matplotlib.axes._subplots.AxesSubplot at 0x7f56e4c9d350>"
            ]
          },
          "execution_count": 112,
          "metadata": {},
          "output_type": "execute_result"
        },
        {
          "data": {
            "image/png": "[encoded data removed]",
            "text/plain": [
              "<Figure size 432x288 with 1 Axes>"
            ]
          },
          "metadata": {
            "needs_background": "light"
          },
          "output_type": "display_data"
        }
      ],
      "source": [
        "#target distribution based on sentiment\n",
        "sns.countplot('sentiment', data=another)"
      ]
    },
    {
      "cell_type": "code",
      "execution_count": 113,
      "metadata": {
        "colab": {
          "base_uri": "https://localhost:8080/"
        },
        "id": "Mn2njaLAxG-P",
        "outputId": "6569ed12-c92b-4f82-cbec-a5a828a1885e"
      },
      "outputs": [
        {
          "data": {
            "text/plain": [
              "5    3000\n",
              "4    3000\n",
              "3    2000\n",
              "2    2000\n",
              "1    2000\n",
              "Name: rating, dtype: int64"
            ]
          },
          "execution_count": 113,
          "metadata": {},
          "output_type": "execute_result"
        }
      ],
      "source": [
        "#exact counts from Rating Column\n",
        "another.rating.value_counts()"
      ]
    },
    {
      "cell_type": "markdown",
      "metadata": {
        "id": "31vFqQDzTO3V"
      },
      "source": [
        "# 6. Data Preprocessing"
      ]
    },
    {
      "cell_type": "markdown",
      "metadata": {
        "id": "wGfrDmsghUb7"
      },
      "source": [
        "### Pre-processing I (Case Folding)"
      ]
    },
    {
      "cell_type": "code",
      "execution_count": 114,
      "metadata": {
        "id": "0e4gF8Qdh2rI"
      },
      "outputs": [],
      "source": [
        "#prepare the function\n",
        "def remove_digits(string):\n",
        "    return re.sub(r'\\d+', '', string)\n",
        "\n",
        "def remove_punctuation(text):\n",
        "    return text.translate(str.maketrans(\"\",\"\", string.punctuation))\n",
        "\n",
        "def remove_strip(text):\n",
        "    return text.strip()\n",
        "\n",
        "#define for stopwords\n",
        "stop = stopwords.words('english')"
      ]
    },
    {
      "cell_type": "code",
      "execution_count": 115,
      "metadata": {
        "id": "dwEHbYoXDF3z"
      },
      "outputs": [],
      "source": [
        "another['reviewText'] = another['reviewText'].str.lower() #lowercase\n",
        "another['reviewText'] = another['reviewText'].apply(remove_digits) #remove numbers\n",
        "another['reviewText'] = another['reviewText'].apply(remove_punctuation) #remove punctuation\n",
        "another['reviewText'] = another['reviewText'].apply(remove_strip) #remove whitespaces\n",
        "\n",
        "another['reviewText'] = another['reviewText'].apply(lambda x: \" \".join(x for x in x.split() if x not in stop))"
      ]
    },
    {
      "cell_type": "code",
      "execution_count": 116,
      "metadata": {
        "id": "gRWMG9ZInENH"
      },
      "outputs": [],
      "source": [
        "#clean part 2\n",
        "def clean_text_round2(text):\n",
        "    text = re.sub('\\[.*?\\]', '', text)\n",
        "    text = re.sub('[%s]' % re.escape(string.punctuation), '', text)\n",
        "    text = re.sub('\\w*\\d\\w*', '', text)\n",
        "    return text\n",
        "\n",
        "round2 = lambda x: clean_text_round2(x)"
      ]
    },
    {
      "cell_type": "code",
      "execution_count": 117,
      "metadata": {
        "id": "6KihrLWsnJNH"
      },
      "outputs": [],
      "source": [
        "another['reviewText'] = another['reviewText'].apply(round2)"
      ]
    },
    {
      "cell_type": "code",
      "execution_count": 118,
      "metadata": {
        "id": "Vdhjgc2TnOXq"
      },
      "outputs": [],
      "source": [
        "#clean part 3\n",
        "def clean_text_round3(text):\n",
        "    text = re.sub('[‘’“”…]', '', text)\n",
        "    text = re.sub('\\n', '', text)\n",
        "    return text\n",
        "\n",
        "round3 = lambda x: clean_text_round3(x)"
      ]
    },
    {
      "cell_type": "code",
      "execution_count": 119,
      "metadata": {
        "id": "xeVJoPYCnT_o"
      },
      "outputs": [],
      "source": [
        "another['reviewText'] = another['reviewText'].apply(round3)"
      ]
    },
    {
      "cell_type": "markdown",
      "metadata": {
        "id": "916k8tkvy1m7"
      },
      "source": [
        "### Preprocessing II"
      ]
    },
    {
      "cell_type": "code",
      "execution_count": 120,
      "metadata": {
        "colab": {
          "base_uri": "https://localhost:8080/",
          "height": 0
        },
        "id": "KuPk6OPulLIa",
        "outputId": "3351629e-3a3e-4c73-e0ed-f419d5a1963a"
      },
      "outputs": [
        {
          "data": {
            "text/html": [
              "\n",
              "  <div id=\"df-8ed7a9de-9ac6-47e6-9e62-398021aa02d1\">\n",
              "    <div class=\"colab-df-container\">\n",
              "      <div>\n",
              "<style scoped>\n",
              "    .dataframe tbody tr th:only-of-type {\n",
              "        vertical-align: middle;\n",
              "    }\n",
              "\n",
              "    .dataframe tbody tr th {\n",
              "        vertical-align: top;\n",
              "    }\n",
              "\n",
              "    .dataframe thead th {\n",
              "        text-align: right;\n",
              "    }\n",
              "</style>\n",
              "<table border=\"1\" class=\"dataframe\">\n",
              "  <thead>\n",
              "    <tr style=\"text-align: right;\">\n",
              "      <th></th>\n",
              "      <th>reviewText</th>\n",
              "      <th>rating</th>\n",
              "      <th>sentiment</th>\n",
              "    </tr>\n",
              "  </thead>\n",
              "  <tbody>\n",
              "    <tr>\n",
              "      <th>0</th>\n",
              "      <td>jace rankin may short hes nothing mess man hau...</td>\n",
              "      <td>3</td>\n",
              "      <td>Neutral</td>\n",
              "    </tr>\n",
              "    <tr>\n",
              "      <th>1</th>\n",
              "      <td>great short read didnt want put read one sitti...</td>\n",
              "      <td>5</td>\n",
              "      <td>Positive</td>\n",
              "    </tr>\n",
              "    <tr>\n",
              "      <th>2</th>\n",
              "      <td>ill start saying first four books wasnt expect...</td>\n",
              "      <td>3</td>\n",
              "      <td>Neutral</td>\n",
              "    </tr>\n",
              "    <tr>\n",
              "      <th>3</th>\n",
              "      <td>aggie angela lansbury carries pocketbooks inst...</td>\n",
              "      <td>3</td>\n",
              "      <td>Neutral</td>\n",
              "    </tr>\n",
              "    <tr>\n",
              "      <th>4</th>\n",
              "      <td>expect type book library pleased find price right</td>\n",
              "      <td>4</td>\n",
              "      <td>Positive</td>\n",
              "    </tr>\n",
              "  </tbody>\n",
              "</table>\n",
              "</div>\n",
              "      <button class=\"colab-df-convert\" onclick=\"convertToInteractive('df-8ed7a9de-9ac6-47e6-9e62-398021aa02d1')\"\n",
              "              title=\"Convert this dataframe to an interactive table.\"\n",
              "              style=\"display:none;\">\n",
              "        \n",
              "  <svg xmlns=\"http://www.w3.org/2000/svg\" height=\"24px\"viewBox=\"0 0 24 24\"\n",
              "       width=\"24px\">\n",
              "    <path d=\"M0 0h24v24H0V0z\" fill=\"none\"/>\n",
              "    <path d=\"M18.56 5.44l.94 2.06.94-2.06 2.06-.94-2.06-.94-.94-2.06-.94 2.06-2.06.94zm-11 1L8.5 8.5l.94-2.06 2.06-.94-2.06-.94L8.5 2.5l-.94 2.06-2.06.94zm10 10l.94 2.06.94-2.06 2.06-.94-2.06-.94-.94-2.06-.94 2.06-2.06.94z\"/><path d=\"M17.41 7.96l-1.37-1.37c-.4-.4-.92-.59-1.43-.59-.52 0-1.04.2-1.43.59L10.3 9.45l-7.72 7.72c-.78.78-.78 2.05 0 2.83L4 21.41c.39.39.9.59 1.41.59.51 0 1.02-.2 1.41-.59l7.78-7.78 2.81-2.81c.8-.78.8-2.07 0-2.86zM5.41 20L4 18.59l7.72-7.72 1.47 1.35L5.41 20z\"/>\n",
              "  </svg>\n",
              "      </button>\n",
              "      \n",
              "  <style>\n",
              "    .colab-df-container {\n",
              "      display:flex;\n",
              "      flex-wrap:wrap;\n",
              "      gap: 12px;\n",
              "    }\n",
              "\n",
              "    .colab-df-convert {\n",
              "      background-color: #E8F0FE;\n",
              "      border: none;\n",
              "      border-radius: 50%;\n",
              "      cursor: pointer;\n",
              "      display: none;\n",
              "      fill: #1967D2;\n",
              "      height: 32px;\n",
              "      padding: 0 0 0 0;\n",
              "      width: 32px;\n",
              "    }\n",
              "\n",
              "    .colab-df-convert:hover {\n",
              "      background-color: #E2EBFA;\n",
              "      box-shadow: 0px 1px 2px rgba(60, 64, 67, 0.3), 0px 1px 3px 1px rgba(60, 64, 67, 0.15);\n",
              "      fill: #174EA6;\n",
              "    }\n",
              "\n",
              "    [theme=dark] .colab-df-convert {\n",
              "      background-color: #3B4455;\n",
              "      fill: #D2E3FC;\n",
              "    }\n",
              "\n",
              "    [theme=dark] .colab-df-convert:hover {\n",
              "      background-color: #434B5C;\n",
              "      box-shadow: 0px 1px 3px 1px rgba(0, 0, 0, 0.15);\n",
              "      filter: drop-shadow(0px 1px 2px rgba(0, 0, 0, 0.3));\n",
              "      fill: #FFFFFF;\n",
              "    }\n",
              "  </style>\n",
              "\n",
              "      <script>\n",
              "        const buttonEl =\n",
              "          document.querySelector('#df-8ed7a9de-9ac6-47e6-9e62-398021aa02d1 button.colab-df-convert');\n",
              "        buttonEl.style.display =\n",
              "          google.colab.kernel.accessAllowed ? 'block' : 'none';\n",
              "\n",
              "        async function convertToInteractive(key) {\n",
              "          const element = document.querySelector('#df-8ed7a9de-9ac6-47e6-9e62-398021aa02d1');\n",
              "          const dataTable =\n",
              "            await google.colab.kernel.invokeFunction('convertToInteractive',\n",
              "                                                     [key], {});\n",
              "          if (!dataTable) return;\n",
              "\n",
              "          const docLinkHtml = 'Like what you see? Visit the ' +\n",
              "            '<a target=\"_blank\" href=https://colab.research.google.com/notebooks/data_table.ipynb>data table notebook</a>'\n",
              "            + ' to learn more about interactive tables.';\n",
              "          element.innerHTML = '';\n",
              "          dataTable['output_type'] = 'display_data';\n",
              "          await google.colab.output.renderOutput(dataTable, element);\n",
              "          const docLink = document.createElement('div');\n",
              "          docLink.innerHTML = docLinkHtml;\n",
              "          element.appendChild(docLink);\n",
              "        }\n",
              "      </script>\n",
              "    </div>\n",
              "  </div>\n",
              "  "
            ],
            "text/plain": [
              "                                          reviewText  rating sentiment\n",
              "0  jace rankin may short hes nothing mess man hau...       3   Neutral\n",
              "1  great short read didnt want put read one sitti...       5  Positive\n",
              "2  ill start saying first four books wasnt expect...       3   Neutral\n",
              "3  aggie angela lansbury carries pocketbooks inst...       3   Neutral\n",
              "4  expect type book library pleased find price right       4  Positive"
            ]
          },
          "execution_count": 120,
          "metadata": {},
          "output_type": "execute_result"
        }
      ],
      "source": [
        "#after\n",
        "another = another[['reviewText', 'rating', 'sentiment']]\n",
        "another.head()"
      ]
    },
    {
      "cell_type": "code",
      "execution_count": 121,
      "metadata": {
        "colab": {
          "base_uri": "https://localhost:8080/"
        },
        "id": "fJcSKfIf0Ni8",
        "outputId": "9adb2a24-f65c-4f50-d710-f447c9ed34cf"
      },
      "outputs": [
        {
          "name": "stdout",
          "output_type": "stream",
          "text": [
            "Input Training: (9600,)\n",
            "Output Training: (9600,)\n",
            "Input Val: (1200,)\n",
            "Output Val: (1200,)\n",
            "Input Test: (1200,)\n",
            "Output Test: (1200,)\n"
          ]
        },
        {
          "data": {
            "text/plain": [
              "(None, None)"
            ]
          },
          "execution_count": 121,
          "metadata": {},
          "output_type": "execute_result"
        }
      ],
      "source": [
        "X = another.reviewText\n",
        "y = another.rating\n",
        "\n",
        "#first split into X_train and X_remaining 80:20\n",
        "X_train, X_rem, y_train, y_rem = train_test_split(X.to_numpy(), y, stratify = y, train_size=0.8)\n",
        "\n",
        "#second split. from X_remain to X_val+X_test\n",
        "X_val, X_test, y_val, y_test = train_test_split(X_rem, y_rem, test_size=0.5)\n",
        "\n",
        "#numbers\n",
        "print(\"Input Training:\", X_train.shape), print(\"Output Training:\", y_train.shape)\n",
        "print(\"Input Val:\", X_val.shape), print(\"Output Val:\", y_val.shape)\n",
        "print(\"Input Test:\", X_test.shape), print(\"Output Test:\", y_test.shape)"
      ]
    },
    {
      "cell_type": "code",
      "execution_count": 122,
      "metadata": {
        "id": "yAqsNkrHy1H7"
      },
      "outputs": [],
      "source": [
        "#encode target\n",
        "def prepare_target(y_train, y_val, y_test):\n",
        "  y_train_enc = to_categorical(y_train)\n",
        "  y_val_enc = to_categorical(y_val)\n",
        "  y_test_enc = to_categorical(y_test)\n",
        "  return y_train_enc, y_val_enc, y_test_enc\n",
        "\n",
        "y_train, y_val, y_test = prepare_target(y_train, y_val, y_test)"
      ]
    },
    {
      "cell_type": "code",
      "execution_count": 123,
      "metadata": {
        "colab": {
          "base_uri": "https://localhost:8080/"
        },
        "id": "27Ip4BQFJKjt",
        "outputId": "df97bf0b-ebee-4ed6-a472-fa7cfb003c01"
      },
      "outputs": [
        {
          "data": {
            "text/plain": [
              "(array(['perhaps book meant trite sarcastic waste time umm yeah goal guess need rethink rating umm actually book got two stars trite sarcastic writing style make laugh list traveling tips regarding traveling vampire many plain simple sorry first taste author glad freebie',\n",
              "        'book laid little groundwork meacutenage story felt rushed plot fine bit mystery blended stretched credibility much taste things developed quickly',\n",
              "        'read books cassandra carr enjoyed intrigued saw book contains novellas different authorsgoing remarkable pageturning read love hockey combination romance hockey winwin thoroughly enjoyed way authors intermingled stories yes read standalones miss anything great read one otheri usually pick novellas short concept definitely winner three short stories yet feel one story',\n",
              "        'couldnt finish writing wasnt bad characters lexie wasnt bad wanted smack lucy upside head judgemental fundamentalist outlook life people appalling shes type christian gives christians bad name got third way forcing keep reading finally couldnt take anymore',\n",
              "        'like short story anthology could get past first pages free interested new orleans',\n",
              "        'finished stranger almost months ago couldnt put thoughts words reviewafter reading first chapter unsure whether id read didnt like idea hero deceiving heroine grew story years ago caleb half brothers pass shafton farm house ask meal laura shaftons naive husband welcomes strangers open arms soon unthinkable happens one brothers attempts rape pregnant laura caleb tries stop brother lauras trauma attempted attack murder husband implementing brothers crimes including caleb brothers leave laura left scarred traumatized widow baby wayfast forward years later released prison caught scapegoat brothers get away caleb still remembers pretty laura shafton happened ranch passes wondering shes okay happened gets finds laura year old son seeing scarred face haunted eyes brings back memories absolve even offers help around ranch cautiously takes strangers offer soon finds befriending mysterious rugged caleb son falls love male figure aroundi really surprised find actually liking story laura strong heroine youll cry shes lost family raising son alone losing confidence showing face town embarrassed scarred face survived ordeal kept moving makes heroine love caleb hero sympathize half breed americannative american feel wanting around brothers accepted realizing evil trying fully break free holds even theyre aroundi enjoyed caleb laura separated definitely together son adorable relationship caleb calebs fatherly patience made like caleb even moreoverall id definitely pick one take one picky reader say'],\n",
              "       dtype=object), array([[0., 0., 1., 0., 0., 0.],\n",
              "        [0., 0., 1., 0., 0., 0.],\n",
              "        [0., 0., 0., 0., 1., 0.],\n",
              "        [0., 1., 0., 0., 0., 0.],\n",
              "        [0., 1., 0., 0., 0., 0.],\n",
              "        [0., 0., 0., 0., 1., 0.]], dtype=float32))"
            ]
          },
          "execution_count": 123,
          "metadata": {},
          "output_type": "execute_result"
        }
      ],
      "source": [
        "X_train[:6], y_train[:6]"
      ]
    },
    {
      "cell_type": "markdown",
      "metadata": {
        "id": "aFQzW0OEKOYK"
      },
      "source": [
        "### Tokenization"
      ]
    },
    {
      "cell_type": "code",
      "execution_count": 124,
      "metadata": {
        "colab": {
          "base_uri": "https://localhost:8080/"
        },
        "id": "UchU7RWpJ8bR",
        "outputId": "c9034df9-3cc1-463c-be26-c2de9162d6f7"
      },
      "outputs": [
        {
          "data": {
            "text/plain": [
              "54"
            ]
          },
          "execution_count": 124,
          "metadata": {},
          "output_type": "execute_result"
        }
      ],
      "source": [
        "#numbers for max_length\n",
        "num_length = round(sum([len(i.split()) for i in X_train])/len(X_train))\n",
        "num_length"
      ]
    },
    {
      "cell_type": "code",
      "execution_count": 125,
      "metadata": {
        "id": "BpN-_tRqKUUK"
      },
      "outputs": [],
      "source": [
        "# setup text vect\n",
        "max_vocab_length = 10000\n",
        "max_length = num_length\n",
        "\n",
        "text_vectorization = TextVectorization(max_tokens=max_vocab_length,\n",
        "                                       standardize=\"lower_and_strip_punctuation\",\n",
        "                                       split=\"whitespace\",\n",
        "                                       ngrams=None,\n",
        "                                       output_mode='int',\n",
        "                                       output_sequence_length=max_length)"
      ]
    },
    {
      "cell_type": "code",
      "execution_count": 126,
      "metadata": {
        "id": "fzN58s3iL8-X"
      },
      "outputs": [],
      "source": [
        "text_vectorization.adapt(X_train)"
      ]
    },
    {
      "cell_type": "markdown",
      "metadata": {
        "id": "Ga7WrwKPQ7wW"
      },
      "source": [
        "### Set Up Embedding Layer"
      ]
    },
    {
      "cell_type": "code",
      "execution_count": 127,
      "metadata": {
        "id": "nyvtMNLURB0X"
      },
      "outputs": [],
      "source": [
        "output_dim = 64\n",
        "\n",
        "embedding = layers.Embedding(input_dim=max_vocab_length,\n",
        "                             output_dim=output_dim,\n",
        "                             embeddings_initializer=\"uniform\",\n",
        "                             input_length=max_length)"
      ]
    },
    {
      "cell_type": "markdown",
      "metadata": {
        "id": "9MbJQyesyUqe"
      },
      "source": [
        "# 7. Model Definition"
      ]
    },
    {
      "cell_type": "code",
      "execution_count": 128,
      "metadata": {
        "id": "_nnlKHG6vMzb"
      },
      "outputs": [],
      "source": [
        "tf.keras.backend.clear_session()\n",
        "np.random.seed(42)\n",
        "tf.random.set_seed(42)"
      ]
    },
    {
      "cell_type": "markdown",
      "metadata": {
        "id": "c_vIR1fTYS8b"
      },
      "source": [
        "### Base Model"
      ]
    },
    {
      "cell_type": "code",
      "execution_count": 129,
      "metadata": {
        "id": "lUEHp6iuyatV"
      },
      "outputs": [],
      "source": [
        "#definition\n",
        "inputs = Input(shape=(1,), dtype=\"string\")\n",
        "x = text_vectorization(inputs)\n",
        "x = embedding(x)\n",
        "x = layers.GlobalAveragePooling1D()(x)\n",
        "output = Dense(6, activation=\"softmax\")(x)\n",
        "base_model = keras.Model(inputs, output, name=\"base_model\")\n",
        "\n",
        "#compile\n",
        "base_model.compile(loss='categorical_crossentropy', \n",
        "                   optimizer='adam',\n",
        "                   metrics=[\"accuracy\"])"
      ]
    },
    {
      "cell_type": "code",
      "execution_count": 130,
      "metadata": {
        "colab": {
          "base_uri": "https://localhost:8080/"
        },
        "id": "pgIIHwiaVmRy",
        "outputId": "2ca0aa5e-126a-41c4-d20b-732f511fc014"
      },
      "outputs": [
        {
          "name": "stdout",
          "output_type": "stream",
          "text": [
            "Model: \"base_model\"\n",
            "_________________________________________________________________\n",
            " Layer (type)                Output Shape              Param #   \n",
            "=================================================================\n",
            " input_1 (InputLayer)        [(None, 1)]               0         \n",
            "                                                                 \n",
            " text_vectorization_1 (TextV  (None, 54)               0         \n",
            " ectorization)                                                   \n",
            "                                                                 \n",
            " embedding_1 (Embedding)     (None, 54, 64)            640000    \n",
            "                                                                 \n",
            " global_average_pooling1d (G  (None, 64)               0         \n",
            " lobalAveragePooling1D)                                          \n",
            "                                                                 \n",
            " dense (Dense)               (None, 6)                 390       \n",
            "                                                                 \n",
            "=================================================================\n",
            "Total params: 640,390\n",
            "Trainable params: 640,390\n",
            "Non-trainable params: 0\n",
            "_________________________________________________________________\n"
          ]
        }
      ],
      "source": [
        "#base model architecture\n",
        "base_model.summary()"
      ]
    },
    {
      "cell_type": "markdown",
      "metadata": {
        "id": "mfJnXzVeYVyR"
      },
      "source": [
        "### LSTM Model"
      ]
    },
    {
      "cell_type": "code",
      "execution_count": 131,
      "metadata": {
        "id": "z55pDvkHYXe0"
      },
      "outputs": [],
      "source": [
        "#definition\n",
        "inputs = Input(shape=(1,), dtype=\"string\")\n",
        "x = text_vectorization(inputs)\n",
        "x = embedding(x)\n",
        "x = layers.LSTM(8)(x)\n",
        "output = Dense(6, activation=\"softmax\")(x)\n",
        "lstm_model = keras.Model(inputs, output, name=\"lstm_model\")\n",
        "\n",
        "#compile\n",
        "lstm_model.compile(loss='categorical_crossentropy', \n",
        "                   optimizer='adam',\n",
        "                   metrics=[\"accuracy\"])"
      ]
    },
    {
      "cell_type": "code",
      "execution_count": 132,
      "metadata": {
        "colab": {
          "base_uri": "https://localhost:8080/"
        },
        "id": "hB450yX1Ywbf",
        "outputId": "56164142-b822-4388-d13c-d0a416098925"
      },
      "outputs": [
        {
          "name": "stdout",
          "output_type": "stream",
          "text": [
            "Model: \"lstm_model\"\n",
            "_________________________________________________________________\n",
            " Layer (type)                Output Shape              Param #   \n",
            "=================================================================\n",
            " input_2 (InputLayer)        [(None, 1)]               0         \n",
            "                                                                 \n",
            " text_vectorization_1 (TextV  (None, 54)               0         \n",
            " ectorization)                                                   \n",
            "                                                                 \n",
            " embedding_1 (Embedding)     (None, 54, 64)            640000    \n",
            "                                                                 \n",
            " lstm (LSTM)                 (None, 8)                 2336      \n",
            "                                                                 \n",
            " dense_1 (Dense)             (None, 6)                 54        \n",
            "                                                                 \n",
            "=================================================================\n",
            "Total params: 642,390\n",
            "Trainable params: 642,390\n",
            "Non-trainable params: 0\n",
            "_________________________________________________________________\n"
          ]
        }
      ],
      "source": [
        "#lstm model architecture\n",
        "lstm_model.summary()"
      ]
    },
    {
      "cell_type": "markdown",
      "metadata": {
        "id": "QtDtSIAScL7a"
      },
      "source": [
        "### GRU Model"
      ]
    },
    {
      "cell_type": "code",
      "execution_count": 133,
      "metadata": {
        "id": "Af5vk-NgcLYs"
      },
      "outputs": [],
      "source": [
        "#definition\n",
        "inputs = Input(shape=(1,), dtype=\"string\")\n",
        "x = text_vectorization(inputs)\n",
        "x = embedding(x)\n",
        "x = layers.GRU(64)(x)\n",
        "output = Dense(6, activation=\"softmax\")(x)\n",
        "gru_model = keras.Model(inputs, output, name=\"gru_model\")\n",
        "\n",
        "#compile\n",
        "gru_model.compile(loss='categorical_crossentropy', \n",
        "                   optimizer='adam',\n",
        "                   metrics=[\"accuracy\"])"
      ]
    },
    {
      "cell_type": "code",
      "execution_count": 134,
      "metadata": {
        "colab": {
          "base_uri": "https://localhost:8080/"
        },
        "id": "gJOM6DL3cdv1",
        "outputId": "89269aea-3e23-438a-9a31-bcaa53ab009d"
      },
      "outputs": [
        {
          "name": "stdout",
          "output_type": "stream",
          "text": [
            "Model: \"gru_model\"\n",
            "_________________________________________________________________\n",
            " Layer (type)                Output Shape              Param #   \n",
            "=================================================================\n",
            " input_3 (InputLayer)        [(None, 1)]               0         \n",
            "                                                                 \n",
            " text_vectorization_1 (TextV  (None, 54)               0         \n",
            " ectorization)                                                   \n",
            "                                                                 \n",
            " embedding_1 (Embedding)     (None, 54, 64)            640000    \n",
            "                                                                 \n",
            " gru (GRU)                   (None, 64)                24960     \n",
            "                                                                 \n",
            " dense_2 (Dense)             (None, 6)                 390       \n",
            "                                                                 \n",
            "=================================================================\n",
            "Total params: 665,350\n",
            "Trainable params: 665,350\n",
            "Non-trainable params: 0\n",
            "_________________________________________________________________\n"
          ]
        }
      ],
      "source": [
        "#GRU model architecture\n",
        "gru_model.summary()"
      ]
    },
    {
      "cell_type": "markdown",
      "metadata": {
        "id": "ATbV3epkyb6k"
      },
      "source": [
        "# 8. Model Training"
      ]
    },
    {
      "cell_type": "markdown",
      "metadata": {
        "id": "wMPJOaMXY73D"
      },
      "source": [
        "### Base Model"
      ]
    },
    {
      "cell_type": "code",
      "execution_count": null,
      "metadata": {
        "id": "2sjMw3sAylft"
      },
      "outputs": [],
      "source": [
        "#callback (optional)\n",
        "callback1 = tf.keras.callbacks.EarlyStopping(monitor='loss', patience=5)\n",
        "callback2 = tf.keras.callbacks.ModelCheckpoint(\n",
        "    \"base_model.h5\",\n",
        "    save_weights_only=True,\n",
        "    monitor='val_loss',\n",
        "    mode='auto',\n",
        "    save_best_only=True)\n",
        "\n",
        "base_history = base_model.fit(X_train, y_train, epochs=20, \n",
        "                              validation_data=(X_val, y_val),\n",
        "                              callbacks=[callback1, callback2])"
      ]
    },
    {
      "cell_type": "code",
      "execution_count": null,
      "metadata": {
        "colab": {
          "base_uri": "https://localhost:8080/"
        },
        "id": "ZmohduXrXQRM",
        "outputId": "411c6391-48e2-4e8b-96cb-287d57668a65"
      },
      "outputs": [
        {
          "name": "stdout",
          "output_type": "stream",
          "text": [
            "38/38 [==============================] - 0s 2ms/step - loss: 1.3375 - accuracy: 0.4958\n"
          ]
        },
        {
          "data": {
            "text/plain": [
              "[1.3375155925750732, 0.4958333373069763]"
            ]
          },
          "execution_count": 58,
          "metadata": {},
          "output_type": "execute_result"
        }
      ],
      "source": [
        "base_model.evaluate(X_val, y_val)"
      ]
    },
    {
      "cell_type": "code",
      "execution_count": null,
      "metadata": {
        "id": "I7oc-k3_Xmu3"
      },
      "outputs": [],
      "source": [
        "def plot_loss_curves(history):\n",
        "  loss = history.history['loss']\n",
        "  val_loss = history.history['val_loss']\n",
        "\n",
        "  accuracy = history.history['accuracy']\n",
        "  val_accuracy = history.history['val_accuracy']\n",
        "\n",
        "  epochs = range(len(loss))\n",
        "\n",
        "  plt.plot(epochs, loss, label='training_loss')\n",
        "  plt.plot(epochs, val_loss, label='val_loss')\n",
        "  plt.title(\"Loss Curves\")\n",
        "  plt.xlabel(\"Epochs\")\n",
        "  plt.legend()\n",
        "\n",
        "  plt.figure()\n",
        "  plt.plot(epochs, accuracy, label='training_accuracy')\n",
        "  plt.plot(epochs, val_accuracy, label='val_accuracy')\n",
        "  plt.title(\"Accuracy Curves\")\n",
        "  plt.xlabel(\"Epochs\")\n",
        "  plt.legend()"
      ]
    },
    {
      "cell_type": "code",
      "execution_count": null,
      "metadata": {
        "colab": {
          "base_uri": "https://localhost:8080/",
          "height": 573
        },
        "id": "ooWEi7oBXux1",
        "outputId": "c11c8759-dfe7-469d-a9a2-2877124345c2"
      },
      "outputs": [
        {
          "data": {
            "image/png": "[encoded data removed]",
            "text/plain": [
              "<Figure size 432x288 with 1 Axes>"
            ]
          },
          "metadata": {
            "needs_background": "light"
          },
          "output_type": "display_data"
        },
        {
          "data": {
            "image/png": "[encoded data removed]",
            "text/plain": [
              "<Figure size 432x288 with 1 Axes>"
            ]
          },
          "metadata": {
            "needs_background": "light"
          },
          "output_type": "display_data"
        }
      ],
      "source": [
        "plot_loss_curves(base_history)"
      ]
    },
    {
      "cell_type": "code",
      "execution_count": null,
      "metadata": {
        "colab": {
          "base_uri": "https://localhost:8080/"
        },
        "id": "u393SNKnyhvm",
        "outputId": "5dbdd57d-0af8-46c2-e9b0-e5fa1b09ad1d"
      },
      "outputs": [
        {
          "name": "stdout",
          "output_type": "stream",
          "text": [
            "              precision    recall  f1-score   support\n",
            "\n",
            "           1       0.51      0.62      0.56       195\n",
            "           2       0.42      0.33      0.37       207\n",
            "           3       0.42      0.35      0.38       202\n",
            "           4       0.49      0.46      0.47       304\n",
            "           5       0.56      0.67      0.61       292\n",
            "\n",
            "    accuracy                           0.50      1200\n",
            "   macro avg       0.48      0.49      0.48      1200\n",
            "weighted avg       0.49      0.50      0.49      1200\n",
            "\n"
          ]
        }
      ],
      "source": [
        "#classification report\n",
        "from sklearn.metrics import classification_report\n",
        "\n",
        "pred = base_model.predict(X_val)\n",
        "pred = np.argmax(pred, axis=1)\n",
        "\n",
        "y_pred = np.argmax(y_val, axis=1)\n",
        "\n",
        "print(classification_report(y_pred, pred))"
      ]
    },
    {
      "cell_type": "markdown",
      "metadata": {
        "id": "KA3oZAKGY-bN"
      },
      "source": [
        "### LSTM Model"
      ]
    },
    {
      "cell_type": "code",
      "execution_count": null,
      "metadata": {
        "colab": {
          "base_uri": "https://localhost:8080/"
        },
        "id": "lS8rPcNuY_xf",
        "outputId": "fa85d571-d4a6-4202-eec8-c7fac3640f13"
      },
      "outputs": [
        {
          "name": "stdout",
          "output_type": "stream",
          "text": [
            "Epoch 1/20\n",
            "300/300 [==============================] - 15s 41ms/step - loss: 1.5336 - accuracy: 0.3727 - val_loss: 1.6290 - val_accuracy: 0.3208\n",
            "Epoch 2/20\n",
            "300/300 [==============================] - 10s 33ms/step - loss: 1.2285 - accuracy: 0.5043 - val_loss: 1.5099 - val_accuracy: 0.4233\n",
            "Epoch 3/20\n",
            "300/300 [==============================] - 10s 35ms/step - loss: 1.0097 - accuracy: 0.6230 - val_loss: 1.4619 - val_accuracy: 0.4258\n",
            "Epoch 4/20\n",
            "300/300 [==============================] - 10s 34ms/step - loss: 0.7648 - accuracy: 0.7437 - val_loss: 1.5045 - val_accuracy: 0.4408\n",
            "Epoch 5/20\n",
            "300/300 [==============================] - 11s 35ms/step - loss: 0.8861 - accuracy: 0.7018 - val_loss: 1.6947 - val_accuracy: 0.3983\n",
            "Epoch 6/20\n",
            "300/300 [==============================] - 10s 34ms/step - loss: 0.6582 - accuracy: 0.8107 - val_loss: 1.7404 - val_accuracy: 0.4283\n",
            "Epoch 7/20\n",
            "300/300 [==============================] - 10s 34ms/step - loss: 0.5417 - accuracy: 0.8558 - val_loss: 1.8691 - val_accuracy: 0.4208\n",
            "Epoch 8/20\n",
            "300/300 [==============================] - 11s 36ms/step - loss: 0.4378 - accuracy: 0.8818 - val_loss: 1.8227 - val_accuracy: 0.4342\n",
            "Epoch 9/20\n",
            "300/300 [==============================] - 10s 34ms/step - loss: 0.3772 - accuracy: 0.8973 - val_loss: 1.8843 - val_accuracy: 0.4425\n",
            "Epoch 10/20\n",
            "300/300 [==============================] - 11s 35ms/step - loss: 0.3256 - accuracy: 0.9165 - val_loss: 1.9376 - val_accuracy: 0.4533\n",
            "Epoch 11/20\n",
            "300/300 [==============================] - 11s 36ms/step - loss: 0.3111 - accuracy: 0.9191 - val_loss: 2.0365 - val_accuracy: 0.4350\n",
            "Epoch 12/20\n",
            "300/300 [==============================] - 11s 35ms/step - loss: 0.2753 - accuracy: 0.9292 - val_loss: 2.0551 - val_accuracy: 0.4400\n",
            "Epoch 13/20\n",
            "300/300 [==============================] - 10s 35ms/step - loss: 0.4391 - accuracy: 0.8748 - val_loss: 2.1374 - val_accuracy: 0.4183\n",
            "Epoch 14/20\n",
            "300/300 [==============================] - 10s 34ms/step - loss: 0.3004 - accuracy: 0.9261 - val_loss: 2.1766 - val_accuracy: 0.4125\n",
            "Epoch 15/20\n",
            "300/300 [==============================] - 10s 32ms/step - loss: 0.2521 - accuracy: 0.9400 - val_loss: 2.2975 - val_accuracy: 0.4125\n",
            "Epoch 16/20\n",
            "300/300 [==============================] - 10s 35ms/step - loss: 0.2232 - accuracy: 0.9467 - val_loss: 2.3711 - val_accuracy: 0.4167\n",
            "Epoch 17/20\n",
            "300/300 [==============================] - 10s 34ms/step - loss: 0.1994 - accuracy: 0.9518 - val_loss: 2.3602 - val_accuracy: 0.4275\n",
            "Epoch 18/20\n",
            "300/300 [==============================] - 10s 35ms/step - loss: 0.1842 - accuracy: 0.9559 - val_loss: 2.3970 - val_accuracy: 0.4200\n",
            "Epoch 19/20\n",
            "300/300 [==============================] - 10s 35ms/step - loss: 0.1705 - accuracy: 0.9596 - val_loss: 2.4980 - val_accuracy: 0.4292\n",
            "Epoch 20/20\n",
            "300/300 [==============================] - 10s 35ms/step - loss: 0.1724 - accuracy: 0.9598 - val_loss: 2.4030 - val_accuracy: 0.4308\n"
          ]
        }
      ],
      "source": [
        "lstm_history = lstm_model.fit(X_train, y_train, epochs=20, \n",
        "                              validation_data=(X_val, y_val))"
      ]
    },
    {
      "cell_type": "code",
      "execution_count": null,
      "metadata": {
        "colab": {
          "base_uri": "https://localhost:8080/"
        },
        "id": "hnu4qu3lbxjM",
        "outputId": "ab52a931-3b16-4bfc-b5da-9e5975a9cee7"
      },
      "outputs": [
        {
          "name": "stdout",
          "output_type": "stream",
          "text": [
            "38/38 [==============================] - 0s 7ms/step - loss: 2.4030 - accuracy: 0.4308\n"
          ]
        },
        {
          "data": {
            "text/plain": [
              "[2.402984380722046, 0.4308333396911621]"
            ]
          },
          "execution_count": 63,
          "metadata": {},
          "output_type": "execute_result"
        }
      ],
      "source": [
        "lstm_model.evaluate(X_val, y_val)"
      ]
    },
    {
      "cell_type": "code",
      "execution_count": null,
      "metadata": {
        "colab": {
          "base_uri": "https://localhost:8080/",
          "height": 573
        },
        "id": "ce6bhJFob1RH",
        "outputId": "6081b257-1769-4436-cbb4-4a9c12af21ef"
      },
      "outputs": [
        {
          "data": {
            "image/png": "[encoded data removed]",
            "text/plain": [
              "<Figure size 432x288 with 1 Axes>"
            ]
          },
          "metadata": {
            "needs_background": "light"
          },
          "output_type": "display_data"
        },
        {
          "data": {
            "image/png": "[encoded data removed]",
            "text/plain": [
              "<Figure size 432x288 with 1 Axes>"
            ]
          },
          "metadata": {
            "needs_background": "light"
          },
          "output_type": "display_data"
        }
      ],
      "source": [
        "plot_loss_curves(lstm_history)"
      ]
    },
    {
      "cell_type": "code",
      "execution_count": null,
      "metadata": {
        "colab": {
          "base_uri": "https://localhost:8080/"
        },
        "id": "H4G-dLHEyr0a",
        "outputId": "093cffb3-61c5-4a9b-b4f8-891befeaf8ec"
      },
      "outputs": [
        {
          "name": "stdout",
          "output_type": "stream",
          "text": [
            "              precision    recall  f1-score   support\n",
            "\n",
            "           1       0.45      0.52      0.49       195\n",
            "           2       0.34      0.30      0.32       207\n",
            "           3       0.33      0.28      0.30       202\n",
            "           4       0.44      0.39      0.41       304\n",
            "           5       0.51      0.61      0.55       292\n",
            "\n",
            "    accuracy                           0.43      1200\n",
            "   macro avg       0.41      0.42      0.42      1200\n",
            "weighted avg       0.42      0.43      0.42      1200\n",
            "\n"
          ]
        }
      ],
      "source": [
        "#classification report\n",
        "from sklearn.metrics import classification_report\n",
        "\n",
        "pred = lstm_model.predict(X_val)\n",
        "pred = np.argmax(pred, axis=1)\n",
        "\n",
        "y_pred = np.argmax(y_val, axis=1)\n",
        "\n",
        "print(classification_report(y_pred, pred))"
      ]
    },
    {
      "cell_type": "markdown",
      "metadata": {
        "id": "E2SHkF3RcjGE"
      },
      "source": [
        "### GRU Model"
      ]
    },
    {
      "cell_type": "code",
      "execution_count": null,
      "metadata": {
        "colab": {
          "base_uri": "https://localhost:8080/"
        },
        "id": "x7rHws-Ocm6S",
        "outputId": "d7d45528-ef24-4412-d631-9350deae7253"
      },
      "outputs": [
        {
          "name": "stdout",
          "output_type": "stream",
          "text": [
            "Epoch 1/20\n",
            "300/300 [==============================] - 17s 49ms/step - loss: 1.0559 - accuracy: 0.5493 - val_loss: 1.4305 - val_accuracy: 0.4658\n",
            "Epoch 2/20\n",
            "300/300 [==============================] - 14s 45ms/step - loss: 0.3002 - accuracy: 0.9002 - val_loss: 2.0067 - val_accuracy: 0.4350\n",
            "Epoch 3/20\n",
            "300/300 [==============================] - 14s 48ms/step - loss: 0.1952 - accuracy: 0.9402 - val_loss: 2.2761 - val_accuracy: 0.4167\n",
            "Epoch 4/20\n",
            "300/300 [==============================] - 13s 45ms/step - loss: 0.1494 - accuracy: 0.9554 - val_loss: 2.5440 - val_accuracy: 0.4158\n",
            "Epoch 5/20\n",
            "300/300 [==============================] - 13s 45ms/step - loss: 0.1182 - accuracy: 0.9655 - val_loss: 2.6214 - val_accuracy: 0.4183\n",
            "Epoch 6/20\n",
            "300/300 [==============================] - 13s 45ms/step - loss: 0.0967 - accuracy: 0.9728 - val_loss: 3.0040 - val_accuracy: 0.4133\n",
            "Epoch 7/20\n",
            "300/300 [==============================] - 14s 46ms/step - loss: 0.0825 - accuracy: 0.9759 - val_loss: 3.0702 - val_accuracy: 0.4175\n",
            "Epoch 8/20\n",
            "300/300 [==============================] - 14s 45ms/step - loss: 0.0693 - accuracy: 0.9806 - val_loss: 3.0971 - val_accuracy: 0.4017\n",
            "Epoch 9/20\n",
            "300/300 [==============================] - 13s 44ms/step - loss: 0.0586 - accuracy: 0.9829 - val_loss: 3.4753 - val_accuracy: 0.4000\n",
            "Epoch 10/20\n",
            "300/300 [==============================] - 14s 46ms/step - loss: 0.0482 - accuracy: 0.9872 - val_loss: 3.7105 - val_accuracy: 0.4025\n",
            "Epoch 11/20\n",
            "300/300 [==============================] - 14s 45ms/step - loss: 0.0454 - accuracy: 0.9867 - val_loss: 3.7121 - val_accuracy: 0.4000\n",
            "Epoch 12/20\n",
            "300/300 [==============================] - 14s 47ms/step - loss: 0.0462 - accuracy: 0.9872 - val_loss: 3.5913 - val_accuracy: 0.3975\n",
            "Epoch 13/20\n",
            "300/300 [==============================] - 13s 45ms/step - loss: 0.0298 - accuracy: 0.9920 - val_loss: 4.1760 - val_accuracy: 0.3975\n",
            "Epoch 14/20\n",
            "300/300 [==============================] - 14s 48ms/step - loss: 0.0352 - accuracy: 0.9910 - val_loss: 3.9157 - val_accuracy: 0.3975\n",
            "Epoch 15/20\n",
            "300/300 [==============================] - 14s 46ms/step - loss: 0.0202 - accuracy: 0.9949 - val_loss: 4.2949 - val_accuracy: 0.4000\n",
            "Epoch 16/20\n",
            "300/300 [==============================] - 14s 45ms/step - loss: 0.0184 - accuracy: 0.9952 - val_loss: 4.5747 - val_accuracy: 0.4008\n",
            "Epoch 17/20\n",
            "300/300 [==============================] - 14s 46ms/step - loss: 0.0171 - accuracy: 0.9951 - val_loss: 4.5708 - val_accuracy: 0.4017\n",
            "Epoch 18/20\n",
            "300/300 [==============================] - 14s 46ms/step - loss: 0.0261 - accuracy: 0.9922 - val_loss: 4.1504 - val_accuracy: 0.3925\n",
            "Epoch 19/20\n",
            "300/300 [==============================] - 13s 44ms/step - loss: 0.0303 - accuracy: 0.9910 - val_loss: 4.1359 - val_accuracy: 0.3933\n",
            "Epoch 20/20\n",
            "300/300 [==============================] - 13s 44ms/step - loss: 0.0151 - accuracy: 0.9953 - val_loss: 4.3405 - val_accuracy: 0.3908\n"
          ]
        }
      ],
      "source": [
        "gru_history = gru_model.fit(X_train, y_train, epochs=20, \n",
        "                              validation_data=(X_val, y_val))"
      ]
    },
    {
      "cell_type": "code",
      "execution_count": null,
      "metadata": {
        "colab": {
          "base_uri": "https://localhost:8080/"
        },
        "id": "7JK49EsMeGHu",
        "outputId": "73678ad5-0be2-47a3-e44f-d814bfc5246f"
      },
      "outputs": [
        {
          "name": "stdout",
          "output_type": "stream",
          "text": [
            "38/38 [==============================] - 0s 11ms/step - loss: 4.3405 - accuracy: 0.3908\n"
          ]
        },
        {
          "data": {
            "text/plain": [
              "[4.34048318862915, 0.3908333480358124]"
            ]
          },
          "execution_count": 67,
          "metadata": {},
          "output_type": "execute_result"
        }
      ],
      "source": [
        "gru_model.evaluate(X_val, y_val)"
      ]
    },
    {
      "cell_type": "code",
      "execution_count": null,
      "metadata": {
        "colab": {
          "base_uri": "https://localhost:8080/",
          "height": 573
        },
        "id": "WXqDPRw8eH4H",
        "outputId": "4edc3839-c798-44ed-8d12-e1d9938feb26"
      },
      "outputs": [
        {
          "data": {
            "image/png": "[encoded data removed]",
            "text/plain": [
              "<Figure size 432x288 with 1 Axes>"
            ]
          },
          "metadata": {
            "needs_background": "light"
          },
          "output_type": "display_data"
        },
        {
          "data": {
            "image/png": "[encoded data removed]",
            "text/plain": [
              "<Figure size 432x288 with 1 Axes>"
            ]
          },
          "metadata": {
            "needs_background": "light"
          },
          "output_type": "display_data"
        }
      ],
      "source": [
        "plot_loss_curves(gru_history)"
      ]
    },
    {
      "cell_type": "code",
      "execution_count": null,
      "metadata": {
        "colab": {
          "base_uri": "https://localhost:8080/"
        },
        "id": "EijMk4eCyytS",
        "outputId": "59b5f7f3-d2ae-4e71-f160-6bd67890b6dd"
      },
      "outputs": [
        {
          "name": "stdout",
          "output_type": "stream",
          "text": [
            "              precision    recall  f1-score   support\n",
            "\n",
            "           1       0.46      0.46      0.46       195\n",
            "           2       0.32      0.29      0.30       207\n",
            "           3       0.29      0.34      0.31       202\n",
            "           4       0.39      0.32      0.35       304\n",
            "           5       0.47      0.52      0.50       292\n",
            "\n",
            "    accuracy                           0.39      1200\n",
            "   macro avg       0.38      0.39      0.38      1200\n",
            "weighted avg       0.39      0.39      0.39      1200\n",
            "\n"
          ]
        }
      ],
      "source": [
        "#classification report\n",
        "from sklearn.metrics import classification_report\n",
        "\n",
        "pred = gru_model.predict(X_val)\n",
        "pred = np.argmax(pred, axis=1)\n",
        "\n",
        "y_pred = np.argmax(y_val, axis=1)\n",
        "\n",
        "print(classification_report(y_pred, pred))"
      ]
    },
    {
      "cell_type": "markdown",
      "metadata": {
        "id": "s1XlkLJiybw8"
      },
      "source": [
        "# 9. Model Evaluation"
      ]
    },
    {
      "cell_type": "markdown",
      "metadata": {
        "id": "Uh3GJdYBfDnW"
      },
      "source": [
        "Based on the three types of models that we have made above, the three of them can still be said to be less good models.\n",
        "\n",
        "It can be seen that although the loss value and accuracy are good, when trained on validation data the results show that the three models tend to be overfitting.\n",
        "\n",
        "However, overall what happens is that the base model is better at the beginning of the epoch. Therefore, I think it is necessary to do some improvement training by adding certain layers like Dropout. Later we will also try to use bidimensional layers."
      ]
    },
    {
      "cell_type": "code",
      "execution_count": null,
      "metadata": {
        "id": "HsgRQiEm5-eB"
      },
      "outputs": [],
      "source": [
        "tf.keras.backend.clear_session()\n",
        "np.random.seed(42)\n",
        "tf.random.set_seed(42)"
      ]
    },
    {
      "cell_type": "markdown",
      "metadata": {
        "id": "722T0LAVj0KV"
      },
      "source": [
        "### Model Improvement I (Vector+Embed+Bi+Bi+Dense)"
      ]
    },
    {
      "cell_type": "code",
      "execution_count": null,
      "metadata": {
        "id": "KfkpHFGni4Lq"
      },
      "outputs": [],
      "source": [
        "# setup text vect\n",
        "max_vocab_length = 4000\n",
        "max_length = num_length\n",
        "\n",
        "text_vectorization = TextVectorization(max_tokens=max_vocab_length,\n",
        "                                       standardize=\"lower_and_strip_punctuation\",\n",
        "                                       split=\"whitespace\",\n",
        "                                       ngrams=None,\n",
        "                                       output_mode='int',\n",
        "                                       output_sequence_length=max_length)\n",
        "\n",
        "text_vectorization.adapt(X_train)"
      ]
    },
    {
      "cell_type": "code",
      "execution_count": null,
      "metadata": {
        "id": "2hZO1qfXylPm"
      },
      "outputs": [],
      "source": [
        "#embedding\n",
        "embedding = layers.Embedding(input_dim=max_vocab_length,\n",
        "                             output_dim=64,\n",
        "                             embeddings_initializer=\"uniform\",\n",
        "                             input_length=max_length)"
      ]
    },
    {
      "cell_type": "code",
      "execution_count": null,
      "metadata": {
        "id": "9YuvSj8XjYS6"
      },
      "outputs": [],
      "source": [
        "#definition\n",
        "inputs = Input(shape=(1,), dtype=\"string\")\n",
        "x = text_vectorization(inputs)\n",
        "x = embedding(x)\n",
        "x = layers.Bidirectional(tf.keras.layers.LSTM(64, return_sequences=True))(x)\n",
        "x = layers.Bidirectional(tf.keras.layers.LSTM(32))(x)\n",
        "output = Dense(6, activation=\"softmax\")(x)\n",
        "imp_model = keras.Model(inputs, output, name=\"imp_model\")\n",
        "\n",
        "#compile\n",
        "imp_model.compile(loss='categorical_crossentropy', \n",
        "                   optimizer='adam',\n",
        "                   metrics=[\"accuracy\"])"
      ]
    },
    {
      "cell_type": "code",
      "execution_count": null,
      "metadata": {
        "colab": {
          "base_uri": "https://localhost:8080/"
        },
        "id": "5VI4VbwQjYS8",
        "outputId": "0dd539b3-d86c-420c-d8de-27b88ab7a53d"
      },
      "outputs": [
        {
          "name": "stdout",
          "output_type": "stream",
          "text": [
            "Model: \"imp_model\"\n",
            "_________________________________________________________________\n",
            " Layer (type)                Output Shape              Param #   \n",
            "=================================================================\n",
            " input_1 (InputLayer)        [(None, 1)]               0         \n",
            "                                                                 \n",
            " text_vectorization (TextVec  (None, 54)               0         \n",
            " torization)                                                     \n",
            "                                                                 \n",
            " embedding (Embedding)       (None, 54, 64)            256000    \n",
            "                                                                 \n",
            " bidirectional (Bidirectiona  (None, 54, 128)          66048     \n",
            " l)                                                              \n",
            "                                                                 \n",
            " bidirectional_1 (Bidirectio  (None, 64)               41216     \n",
            " nal)                                                            \n",
            "                                                                 \n",
            " dense (Dense)               (None, 6)                 390       \n",
            "                                                                 \n",
            "=================================================================\n",
            "Total params: 363,654\n",
            "Trainable params: 363,654\n",
            "Non-trainable params: 0\n",
            "_________________________________________________________________\n"
          ]
        }
      ],
      "source": [
        "#lstm model architecture\n",
        "imp_model.summary()"
      ]
    },
    {
      "cell_type": "code",
      "execution_count": 76,
      "metadata": {
        "colab": {
          "base_uri": "https://localhost:8080/"
        },
        "id": "Z6y-H5k6j_4X",
        "outputId": "d3ab5633-7b90-4b82-ade2-e0d1e4f3e545"
      },
      "outputs": [
        {
          "name": "stdout",
          "output_type": "stream",
          "text": [
            "Epoch 1/20\n",
            "300/300 [==============================] - 85s 284ms/step - loss: 0.5938 - accuracy: 0.7785 - val_loss: 1.6659 - val_accuracy: 0.4208\n",
            "Epoch 2/20\n",
            "300/300 [==============================] - 43s 144ms/step - loss: 0.5082 - accuracy: 0.8175 - val_loss: 1.8162 - val_accuracy: 0.4342\n",
            "Epoch 3/20\n",
            "300/300 [==============================] - 38s 128ms/step - loss: 0.4461 - accuracy: 0.8451 - val_loss: 1.9281 - val_accuracy: 0.4133\n",
            "Epoch 4/20\n",
            "300/300 [==============================] - 35s 117ms/step - loss: 0.3841 - accuracy: 0.8742 - val_loss: 2.0391 - val_accuracy: 0.4208\n",
            "Epoch 5/20\n",
            "300/300 [==============================] - 35s 118ms/step - loss: 0.3422 - accuracy: 0.8876 - val_loss: 2.2406 - val_accuracy: 0.4067\n",
            "Epoch 6/20\n",
            "300/300 [==============================] - 37s 125ms/step - loss: 0.3061 - accuracy: 0.9027 - val_loss: 2.3363 - val_accuracy: 0.4158\n",
            "Epoch 7/20\n",
            "300/300 [==============================] - 35s 117ms/step - loss: 0.2605 - accuracy: 0.9190 - val_loss: 2.4669 - val_accuracy: 0.3933\n",
            "Epoch 8/20\n",
            "300/300 [==============================] - 36s 119ms/step - loss: 0.2369 - accuracy: 0.9254 - val_loss: 2.5448 - val_accuracy: 0.4025\n",
            "Epoch 9/20\n",
            "300/300 [==============================] - 36s 118ms/step - loss: 0.1998 - accuracy: 0.9399 - val_loss: 2.7554 - val_accuracy: 0.4058\n",
            "Epoch 10/20\n",
            "300/300 [==============================] - 36s 120ms/step - loss: 0.1738 - accuracy: 0.9486 - val_loss: 2.7707 - val_accuracy: 0.4075\n",
            "Epoch 11/20\n",
            "300/300 [==============================] - 36s 120ms/step - loss: 0.1607 - accuracy: 0.9510 - val_loss: 2.9022 - val_accuracy: 0.4000\n",
            "Epoch 12/20\n",
            "300/300 [==============================] - 36s 120ms/step - loss: 0.1465 - accuracy: 0.9550 - val_loss: 2.9729 - val_accuracy: 0.4092\n",
            "Epoch 13/20\n",
            "300/300 [==============================] - 36s 119ms/step - loss: 0.1306 - accuracy: 0.9605 - val_loss: 3.1162 - val_accuracy: 0.3883\n",
            "Epoch 14/20\n",
            "300/300 [==============================] - 35s 118ms/step - loss: 0.1107 - accuracy: 0.9685 - val_loss: 3.2496 - val_accuracy: 0.3892\n",
            "Epoch 15/20\n",
            "300/300 [==============================] - 36s 119ms/step - loss: 0.1041 - accuracy: 0.9690 - val_loss: 3.3163 - val_accuracy: 0.3867\n",
            "Epoch 16/20\n",
            "300/300 [==============================] - 36s 119ms/step - loss: 0.0958 - accuracy: 0.9716 - val_loss: 3.3087 - val_accuracy: 0.3967\n",
            "Epoch 17/20\n",
            "300/300 [==============================] - 36s 119ms/step - loss: 0.0861 - accuracy: 0.9752 - val_loss: 3.4486 - val_accuracy: 0.4017\n",
            "Epoch 18/20\n",
            "300/300 [==============================] - 35s 118ms/step - loss: 0.0654 - accuracy: 0.9823 - val_loss: 3.6696 - val_accuracy: 0.3842\n",
            "Epoch 19/20\n",
            "300/300 [==============================] - 35s 116ms/step - loss: 0.0811 - accuracy: 0.9749 - val_loss: 3.6515 - val_accuracy: 0.3958\n",
            "Epoch 20/20\n",
            "300/300 [==============================] - 35s 117ms/step - loss: 0.0559 - accuracy: 0.9834 - val_loss: 3.8387 - val_accuracy: 0.3717\n"
          ]
        }
      ],
      "source": [
        "imp_history = imp_model.fit(X_train, y_train, epochs=20, \n",
        "                                 validation_data=(X_val, y_val))"
      ]
    },
    {
      "cell_type": "code",
      "execution_count": 77,
      "metadata": {
        "colab": {
          "base_uri": "https://localhost:8080/"
        },
        "id": "bHeYbuVikNhQ",
        "outputId": "7a1c316b-f5c6-40bf-c774-88a01581d884"
      },
      "outputs": [
        {
          "name": "stdout",
          "output_type": "stream",
          "text": [
            "38/38 [==============================] - 1s 29ms/step - loss: 3.8387 - accuracy: 0.3717\n"
          ]
        },
        {
          "data": {
            "text/plain": [
              "[3.838693857192993, 0.37166666984558105]"
            ]
          },
          "execution_count": 77,
          "metadata": {},
          "output_type": "execute_result"
        }
      ],
      "source": [
        "imp_model.evaluate(X_val, y_val)"
      ]
    },
    {
      "cell_type": "code",
      "execution_count": 78,
      "metadata": {
        "colab": {
          "base_uri": "https://localhost:8080/",
          "height": 573
        },
        "id": "X-Grg3tHkWkR",
        "outputId": "a3efc8d3-aa99-4fba-b1b9-1376b958f329"
      },
      "outputs": [
        {
          "data": {
            "image/png": "[encoded data removed]",
            "text/plain": [
              "<Figure size 432x288 with 1 Axes>"
            ]
          },
          "metadata": {
            "needs_background": "light"
          },
          "output_type": "display_data"
        },
        {
          "data": {
            "image/png": "[encoded data removed]",
            "text/plain": [
              "<Figure size 432x288 with 1 Axes>"
            ]
          },
          "metadata": {
            "needs_background": "light"
          },
          "output_type": "display_data"
        }
      ],
      "source": [
        "plot_loss_curves(imp_history)"
      ]
    },
    {
      "cell_type": "code",
      "execution_count": 79,
      "metadata": {
        "colab": {
          "base_uri": "https://localhost:8080/"
        },
        "id": "b8gvIXsMZE1u",
        "outputId": "2f0b0f0f-f4a0-43e2-b2ea-868e0a863111"
      },
      "outputs": [
        {
          "name": "stdout",
          "output_type": "stream",
          "text": [
            "              precision    recall  f1-score   support\n",
            "\n",
            "           1       0.38      0.43      0.40       195\n",
            "           2       0.29      0.24      0.26       207\n",
            "           3       0.29      0.33      0.31       202\n",
            "           4       0.38      0.40      0.39       304\n",
            "           5       0.48      0.43      0.45       292\n",
            "\n",
            "    accuracy                           0.37      1200\n",
            "   macro avg       0.36      0.36      0.36      1200\n",
            "weighted avg       0.37      0.37      0.37      1200\n",
            "\n"
          ]
        }
      ],
      "source": [
        "#classification report\n",
        "from sklearn.metrics import classification_report\n",
        "\n",
        "pred = imp_model.predict(X_val)\n",
        "pred = np.argmax(pred, axis=1)\n",
        "\n",
        "y_pred = np.argmax(y_val, axis=1)\n",
        "print(classification_report(y_pred, pred))"
      ]
    },
    {
      "cell_type": "markdown",
      "metadata": {
        "id": "_ZE8fN9lmC-5"
      },
      "source": [
        "### Model Improvement II (Vector+Embed+Global Average+Dropout+Batch Normalization+Dense)"
      ]
    },
    {
      "cell_type": "code",
      "execution_count": 139,
      "metadata": {
        "id": "ELCwIFKUzLvY"
      },
      "outputs": [],
      "source": [
        "tf.keras.backend.clear_session()\n",
        "np.random.seed(42)\n",
        "tf.random.set_seed(42)"
      ]
    },
    {
      "cell_type": "code",
      "execution_count": 140,
      "metadata": {
        "id": "04ONFkcBzLvZ"
      },
      "outputs": [],
      "source": [
        "# setup text vect\n",
        "max_vocab_length = 10000\n",
        "max_length = num_length\n",
        "\n",
        "text_vectorization = TextVectorization(max_tokens=max_vocab_length,\n",
        "                                       standardize=\"lower_and_strip_punctuation\",\n",
        "                                       split=\"whitespace\",\n",
        "                                       ngrams=None,\n",
        "                                       output_mode='int',\n",
        "                                       output_sequence_length=max_length)\n",
        "\n",
        "text_vectorization.adapt(X_train)"
      ]
    },
    {
      "cell_type": "code",
      "execution_count": 141,
      "metadata": {
        "id": "BY67CXaCzLva"
      },
      "outputs": [],
      "source": [
        "#embedding\n",
        "embedding = layers.Embedding(input_dim=max_vocab_length,\n",
        "                             output_dim=64,\n",
        "                             embeddings_initializer=\"uniform\",\n",
        "                             input_length=max_length)"
      ]
    },
    {
      "cell_type": "code",
      "execution_count": 142,
      "metadata": {
        "colab": {
          "base_uri": "https://localhost:8080/"
        },
        "id": "7GFzhV16zLva",
        "outputId": "c70b239a-dbfb-41a9-814f-e6e1dc2229ad"
      },
      "outputs": [
        {
          "name": "stdout",
          "output_type": "stream",
          "text": [
            "Model: \"sec_model\"\n",
            "_________________________________________________________________\n",
            " Layer (type)                Output Shape              Param #   \n",
            "=================================================================\n",
            " input_1 (InputLayer)        [(None, 1)]               0         \n",
            "                                                                 \n",
            " text_vectorization (TextVec  (None, 54)               0         \n",
            " torization)                                                     \n",
            "                                                                 \n",
            " embedding (Embedding)       (None, 54, 64)            640000    \n",
            "                                                                 \n",
            " global_average_pooling1d (G  (None, 64)               0         \n",
            " lobalAveragePooling1D)                                          \n",
            "                                                                 \n",
            " dropout (Dropout)           (None, 64)                0         \n",
            "                                                                 \n",
            " batch_normalization (BatchN  (None, 64)               256       \n",
            " ormalization)                                                   \n",
            "                                                                 \n",
            " dense (Dense)               (None, 8)                 520       \n",
            "                                                                 \n",
            " dense_1 (Dense)             (None, 6)                 54        \n",
            "                                                                 \n",
            "=================================================================\n",
            "Total params: 640,830\n",
            "Trainable params: 640,702\n",
            "Non-trainable params: 128\n",
            "_________________________________________________________________\n"
          ]
        }
      ],
      "source": [
        "#definition\n",
        "inputs = Input(shape=(1,), dtype=\"string\")\n",
        "x = text_vectorization(inputs)\n",
        "x = embedding(x)\n",
        "x = layers.GlobalAveragePooling1D()(x)\n",
        "x = Dropout(rate=0.2)(x)\n",
        "x = BatchNormalization()(x)\n",
        "x = Dense(8)(x)\n",
        "output = Dense(6, activation=\"softmax\")(x)\n",
        "sec_model = keras.Model(inputs, output, name=\"sec_model\")\n",
        "\n",
        "#compile\n",
        "sec_model.compile(loss='categorical_crossentropy', \n",
        "                   optimizer='adam',\n",
        "                   metrics=[\"accuracy\"])\n",
        "\n",
        "#second model architecture\n",
        "sec_model.summary()"
      ]
    },
    {
      "cell_type": "code",
      "execution_count": 145,
      "metadata": {
        "colab": {
          "base_uri": "https://localhost:8080/"
        },
        "id": "gjYls6ZzzLvb",
        "outputId": "2958c196-2be3-45b9-b84d-9e694ab84de4"
      },
      "outputs": [
        {
          "name": "stdout",
          "output_type": "stream",
          "text": [
            "Epoch 1/20\n",
            "300/300 [==============================] - 6s 19ms/step - loss: 0.9801 - accuracy: 0.6115 - val_loss: 1.2352 - val_accuracy: 0.4717\n",
            "Epoch 2/20\n",
            "300/300 [==============================] - 5s 18ms/step - loss: 0.7438 - accuracy: 0.7189 - val_loss: 1.3739 - val_accuracy: 0.4650\n",
            "Epoch 3/20\n",
            "300/300 [==============================] - 6s 20ms/step - loss: 0.5724 - accuracy: 0.7849 - val_loss: 1.6068 - val_accuracy: 0.4500\n",
            "Epoch 4/20\n",
            "300/300 [==============================] - 3s 12ms/step - loss: 0.4620 - accuracy: 0.8304 - val_loss: 1.8434 - val_accuracy: 0.4292\n",
            "Epoch 5/20\n",
            "300/300 [==============================] - 6s 21ms/step - loss: 0.3844 - accuracy: 0.8547 - val_loss: 2.1069 - val_accuracy: 0.4317\n",
            "Epoch 6/20\n",
            "300/300 [==============================] - 6s 18ms/step - loss: 0.3215 - accuracy: 0.8806 - val_loss: 2.3841 - val_accuracy: 0.4225\n",
            "Epoch 7/20\n",
            "300/300 [==============================] - 4s 12ms/step - loss: 0.2895 - accuracy: 0.8953 - val_loss: 2.5929 - val_accuracy: 0.4375\n",
            "Epoch 8/20\n",
            "300/300 [==============================] - 3s 11ms/step - loss: 0.2728 - accuracy: 0.9017 - val_loss: 2.8270 - val_accuracy: 0.4408\n",
            "Epoch 9/20\n",
            "300/300 [==============================] - 4s 12ms/step - loss: 0.2491 - accuracy: 0.9091 - val_loss: 3.0272 - val_accuracy: 0.4300\n",
            "Epoch 10/20\n",
            "300/300 [==============================] - 4s 12ms/step - loss: 0.2330 - accuracy: 0.9143 - val_loss: 3.1657 - val_accuracy: 0.4208\n",
            "Epoch 11/20\n",
            "300/300 [==============================] - 5s 16ms/step - loss: 0.2126 - accuracy: 0.9235 - val_loss: 3.3405 - val_accuracy: 0.4150\n",
            "Epoch 12/20\n",
            "300/300 [==============================] - 4s 13ms/step - loss: 0.1970 - accuracy: 0.9265 - val_loss: 3.6542 - val_accuracy: 0.4025\n",
            "Epoch 13/20\n",
            "300/300 [==============================] - 3s 11ms/step - loss: 0.1941 - accuracy: 0.9291 - val_loss: 3.6578 - val_accuracy: 0.4058\n",
            "Epoch 14/20\n",
            "300/300 [==============================] - 4s 12ms/step - loss: 0.1849 - accuracy: 0.9319 - val_loss: 3.8246 - val_accuracy: 0.4158\n",
            "Epoch 15/20\n",
            "300/300 [==============================] - 3s 11ms/step - loss: 0.1876 - accuracy: 0.9299 - val_loss: 3.8783 - val_accuracy: 0.4233\n",
            "Epoch 16/20\n",
            "300/300 [==============================] - 4s 12ms/step - loss: 0.1856 - accuracy: 0.9342 - val_loss: 4.1104 - val_accuracy: 0.4100\n",
            "Epoch 17/20\n",
            "300/300 [==============================] - 3s 11ms/step - loss: 0.1749 - accuracy: 0.9379 - val_loss: 4.2018 - val_accuracy: 0.4267\n",
            "Epoch 18/20\n",
            "300/300 [==============================] - 4s 12ms/step - loss: 0.1659 - accuracy: 0.9391 - val_loss: 4.3277 - val_accuracy: 0.4000\n",
            "Epoch 19/20\n",
            "300/300 [==============================] - 4s 13ms/step - loss: 0.1565 - accuracy: 0.9445 - val_loss: 4.4541 - val_accuracy: 0.4150\n",
            "Epoch 20/20\n",
            "300/300 [==============================] - 4s 13ms/step - loss: 0.1652 - accuracy: 0.9383 - val_loss: 4.4268 - val_accuracy: 0.4150\n"
          ]
        }
      ],
      "source": [
        "sec_history = sec_model.fit(X_train, y_train, epochs=20, \n",
        "                                 validation_data=(X_val, y_val))"
      ]
    },
    {
      "cell_type": "code",
      "execution_count": 146,
      "metadata": {
        "colab": {
          "base_uri": "https://localhost:8080/",
          "height": 573
        },
        "id": "2A-5_hDdzLvf",
        "outputId": "24526481-a5ac-4451-b465-20e4114a571e"
      },
      "outputs": [
        {
          "data": {
            "image/png": "[encoded data removed]",
            "text/plain": [
              "<Figure size 432x288 with 1 Axes>"
            ]
          },
          "metadata": {
            "needs_background": "light"
          },
          "output_type": "display_data"
        },
        {
          "data": {
            "image/png": "[encoded data removed]",
            "text/plain": [
              "<Figure size 432x288 with 1 Axes>"
            ]
          },
          "metadata": {
            "needs_background": "light"
          },
          "output_type": "display_data"
        }
      ],
      "source": [
        "plot_loss_curves(sec_history)"
      ]
    },
    {
      "cell_type": "code",
      "execution_count": 147,
      "metadata": {
        "colab": {
          "base_uri": "https://localhost:8080/"
        },
        "id": "bA2QccW2zLvf",
        "outputId": "b89d22db-5063-42a7-c985-94527aabea8e"
      },
      "outputs": [
        {
          "name": "stdout",
          "output_type": "stream",
          "text": [
            "              precision    recall  f1-score   support\n",
            "\n",
            "           1       0.46      0.39      0.42       200\n",
            "           2       0.32      0.37      0.34       194\n",
            "           3       0.30      0.27      0.29       202\n",
            "           4       0.41      0.37      0.39       305\n",
            "           5       0.52      0.61      0.56       299\n",
            "\n",
            "    accuracy                           0.41      1200\n",
            "   macro avg       0.40      0.40      0.40      1200\n",
            "weighted avg       0.41      0.41      0.41      1200\n",
            "\n"
          ]
        }
      ],
      "source": [
        "#classification report\n",
        "from sklearn.metrics import classification_report\n",
        "\n",
        "pred = sec_model.predict(X_val)\n",
        "pred = np.argmax(pred, axis=1)\n",
        "\n",
        "y_pred = np.argmax(y_val, axis=1)\n",
        "print(classification_report(y_pred, pred))"
      ]
    },
    {
      "cell_type": "markdown",
      "metadata": {
        "id": "PNFcd_d1-sr9"
      },
      "source": [
        "### Model Improvement III"
      ]
    },
    {
      "cell_type": "code",
      "execution_count": 170,
      "metadata": {
        "id": "xsQozUMo-zOn"
      },
      "outputs": [],
      "source": [
        "tf.keras.backend.clear_session()\n",
        "np.random.seed(42)\n",
        "tf.random.set_seed(42)"
      ]
    },
    {
      "cell_type": "code",
      "execution_count": 171,
      "metadata": {
        "id": "E4MHMdKb-zOn"
      },
      "outputs": [],
      "source": [
        "# setup text vect\n",
        "max_vocab_length = 10000\n",
        "max_length = num_length\n",
        "\n",
        "text_vectorization = TextVectorization(max_tokens=max_vocab_length,\n",
        "                                       standardize=\"lower_and_strip_punctuation\",\n",
        "                                       split=\"whitespace\",\n",
        "                                       ngrams=None,\n",
        "                                       output_mode='int',\n",
        "                                       output_sequence_length=max_length)\n",
        "\n",
        "text_vectorization.adapt(X_train)"
      ]
    },
    {
      "cell_type": "code",
      "execution_count": 172,
      "metadata": {
        "id": "WQDP3ImM-zOo"
      },
      "outputs": [],
      "source": [
        "#embedding\n",
        "embedding = layers.Embedding(input_dim=max_vocab_length,\n",
        "                             output_dim=64,\n",
        "                             embeddings_initializer=\"uniform\",\n",
        "                             input_length=max_length)"
      ]
    },
    {
      "cell_type": "code",
      "execution_count": 173,
      "metadata": {
        "colab": {
          "base_uri": "https://localhost:8080/"
        },
        "id": "RqbDKF3p-zOo",
        "outputId": "7365b801-f510-4798-c0c8-c43c37652c8b"
      },
      "outputs": [
        {
          "name": "stdout",
          "output_type": "stream",
          "text": [
            "Model: \"third_model\"\n",
            "_________________________________________________________________\n",
            " Layer (type)                Output Shape              Param #   \n",
            "=================================================================\n",
            " input_1 (InputLayer)        [(None, 1)]               0         \n",
            "                                                                 \n",
            " text_vectorization (TextVec  (None, 54)               0         \n",
            " torization)                                                     \n",
            "                                                                 \n",
            " embedding (Embedding)       (None, 54, 64)            640000    \n",
            "                                                                 \n",
            " bidirectional (Bidirectiona  (None, 54, 128)          66048     \n",
            " l)                                                              \n",
            "                                                                 \n",
            " bidirectional_1 (Bidirectio  (None, 64)               41216     \n",
            " nal)                                                            \n",
            "                                                                 \n",
            " dense (Dense)               (None, 8)                 520       \n",
            "                                                                 \n",
            " dense_1 (Dense)             (None, 6)                 54        \n",
            "                                                                 \n",
            "=================================================================\n",
            "Total params: 747,838\n",
            "Trainable params: 747,838\n",
            "Non-trainable params: 0\n",
            "_________________________________________________________________\n"
          ]
        }
      ],
      "source": [
        "#definition\n",
        "inputs = Input(shape=(1,), dtype=\"string\")\n",
        "x = text_vectorization(inputs)\n",
        "x = embedding(x)\n",
        "x = layers.Bidirectional(tf.keras.layers.LSTM(64, return_sequences=True))(x)\n",
        "x = layers.Bidirectional(tf.keras.layers.LSTM(32))(x)\n",
        "x = Dense(8)(x)\n",
        "output = Dense(6, activation=\"softmax\")(x)\n",
        "third_model = keras.Model(inputs, output, name=\"third_model\")\n",
        "\n",
        "#compile\n",
        "third_model.compile(loss='categorical_crossentropy', \n",
        "                   optimizer='adam',\n",
        "                   metrics=[\"accuracy\"])\n",
        "\n",
        "#second model architecture\n",
        "third_model.summary()"
      ]
    },
    {
      "cell_type": "code",
      "execution_count": 174,
      "metadata": {
        "colab": {
          "base_uri": "https://localhost:8080/"
        },
        "id": "xQ-aJSjfAhQp",
        "outputId": "1b7ef34e-0704-4375-959a-f8aa45f8abd2"
      },
      "outputs": [
        {
          "name": "stdout",
          "output_type": "stream",
          "text": [
            "Epoch 1/20\n",
            "300/300 [==============================] - 60s 177ms/step - loss: 1.4555 - accuracy: 0.3168 - val_loss: 1.3048 - val_accuracy: 0.3892\n",
            "Epoch 2/20\n",
            "300/300 [==============================] - 54s 180ms/step - loss: 1.1282 - accuracy: 0.4785 - val_loss: 1.2586 - val_accuracy: 0.4408\n",
            "Epoch 3/20\n",
            "300/300 [==============================] - 57s 190ms/step - loss: 0.8915 - accuracy: 0.6030 - val_loss: 1.3465 - val_accuracy: 0.4408\n",
            "Epoch 4/20\n",
            "300/300 [==============================] - 44s 146ms/step - loss: 0.6932 - accuracy: 0.7214 - val_loss: 1.5139 - val_accuracy: 0.4367\n",
            "Epoch 5/20\n",
            "300/300 [==============================] - 38s 127ms/step - loss: 0.5311 - accuracy: 0.8026 - val_loss: 1.7237 - val_accuracy: 0.4333\n",
            "Epoch 6/20\n",
            "300/300 [==============================] - 52s 174ms/step - loss: 0.4094 - accuracy: 0.8583 - val_loss: 1.9303 - val_accuracy: 0.4167\n",
            "Epoch 7/20\n",
            "300/300 [==============================] - 50s 166ms/step - loss: 0.3244 - accuracy: 0.8909 - val_loss: 2.2231 - val_accuracy: 0.4258\n",
            "Epoch 8/20\n",
            "300/300 [==============================] - 38s 127ms/step - loss: 0.2660 - accuracy: 0.9130 - val_loss: 2.4199 - val_accuracy: 0.4267\n",
            "Epoch 9/20\n",
            "300/300 [==============================] - 40s 132ms/step - loss: 0.2194 - accuracy: 0.9291 - val_loss: 2.5250 - val_accuracy: 0.4117\n",
            "Epoch 10/20\n",
            "300/300 [==============================] - 39s 130ms/step - loss: 0.1743 - accuracy: 0.9453 - val_loss: 2.7228 - val_accuracy: 0.4200\n",
            "Epoch 11/20\n",
            "300/300 [==============================] - 38s 128ms/step - loss: 0.1434 - accuracy: 0.9568 - val_loss: 2.9380 - val_accuracy: 0.4275\n",
            "Epoch 12/20\n",
            "300/300 [==============================] - 39s 129ms/step - loss: 0.1276 - accuracy: 0.9627 - val_loss: 3.1949 - val_accuracy: 0.4158\n",
            "Epoch 13/20\n",
            "300/300 [==============================] - 38s 128ms/step - loss: 0.1108 - accuracy: 0.9679 - val_loss: 3.2828 - val_accuracy: 0.3975\n",
            "Epoch 14/20\n",
            "300/300 [==============================] - 37s 125ms/step - loss: 0.0991 - accuracy: 0.9705 - val_loss: 3.3228 - val_accuracy: 0.4125\n",
            "Epoch 15/20\n",
            "300/300 [==============================] - 38s 127ms/step - loss: 0.0796 - accuracy: 0.9767 - val_loss: 3.4497 - val_accuracy: 0.4058\n",
            "Epoch 16/20\n",
            "300/300 [==============================] - 38s 128ms/step - loss: 0.0783 - accuracy: 0.9760 - val_loss: 3.7292 - val_accuracy: 0.3983\n",
            "Epoch 17/20\n",
            "300/300 [==============================] - 46s 153ms/step - loss: 0.0791 - accuracy: 0.9758 - val_loss: 3.6219 - val_accuracy: 0.4233\n",
            "Epoch 18/20\n",
            "300/300 [==============================] - 38s 127ms/step - loss: 0.0517 - accuracy: 0.9854 - val_loss: 3.8706 - val_accuracy: 0.4058\n",
            "Epoch 19/20\n",
            "300/300 [==============================] - 38s 128ms/step - loss: 0.0470 - accuracy: 0.9859 - val_loss: 4.0705 - val_accuracy: 0.4083\n",
            "Epoch 20/20\n",
            "300/300 [==============================] - 37s 125ms/step - loss: 0.0581 - accuracy: 0.9819 - val_loss: 4.2618 - val_accuracy: 0.4058\n"
          ]
        }
      ],
      "source": [
        "third_history = third_model.fit(X_train, y_train, epochs=20, \n",
        "                                validation_data=(X_val, y_val))"
      ]
    },
    {
      "cell_type": "code",
      "execution_count": 175,
      "metadata": {
        "colab": {
          "base_uri": "https://localhost:8080/",
          "height": 573
        },
        "id": "T1dMjauJAowl",
        "outputId": "8bbaa154-515b-4633-e968-8342bf258c4e"
      },
      "outputs": [
        {
          "data": {
            "image/png": "[encoded data removed]",
            "text/plain": [
              "<Figure size 432x288 with 1 Axes>"
            ]
          },
          "metadata": {
            "needs_background": "light"
          },
          "output_type": "display_data"
        },
        {
          "data": {
            "image/png": "[encoded data removed]",
            "text/plain": [
              "<Figure size 432x288 with 1 Axes>"
            ]
          },
          "metadata": {
            "needs_background": "light"
          },
          "output_type": "display_data"
        }
      ],
      "source": [
        "plot_loss_curves(third_history)"
      ]
    },
    {
      "cell_type": "code",
      "execution_count": 176,
      "metadata": {
        "colab": {
          "base_uri": "https://localhost:8080/"
        },
        "id": "PdXdCt-JAowm",
        "outputId": "fd04c540-4172-4c35-9f70-608f3038b41e"
      },
      "outputs": [
        {
          "name": "stdout",
          "output_type": "stream",
          "text": [
            "              precision    recall  f1-score   support\n",
            "\n",
            "           1       0.47      0.36      0.41       200\n",
            "           2       0.31      0.37      0.34       194\n",
            "           3       0.30      0.26      0.28       202\n",
            "           4       0.38      0.46      0.41       305\n",
            "           5       0.56      0.50      0.53       299\n",
            "\n",
            "    accuracy                           0.41      1200\n",
            "   macro avg       0.40      0.39      0.39      1200\n",
            "weighted avg       0.42      0.41      0.41      1200\n",
            "\n"
          ]
        }
      ],
      "source": [
        "#classification report\n",
        "from sklearn.metrics import classification_report\n",
        "\n",
        "pred = third_model.predict(X_val)\n",
        "pred = np.argmax(pred, axis=1)\n",
        "\n",
        "y_pred = np.argmax(y_val, axis=1)\n",
        "print(classification_report(y_pred, pred))"
      ]
    },
    {
      "cell_type": "markdown",
      "metadata": {
        "id": "hcRmE-wrybqb"
      },
      "source": [
        "# 10. Model Saving"
      ]
    },
    {
      "cell_type": "code",
      "execution_count": 181,
      "metadata": {
        "colab": {
          "base_uri": "https://localhost:8080/",
          "height": 34
        },
        "id": "CCI6pRL-yk81",
        "outputId": "b78f9e66-539c-40db-93a4-5c4b4b0e282c"
      },
      "outputs": [
        {
          "data": {
            "application/vnd.google.colaboratory.intrinsic+json": {
              "type": "string"
            },
            "text/plain": [
              "'my_base_model/0001'"
            ]
          },
          "execution_count": 181,
          "metadata": {},
          "output_type": "execute_result"
        }
      ],
      "source": [
        "import os\n",
        "\n",
        "model_version = \"0001\"\n",
        "model_name = \"my_base_model\"\n",
        "model_path = os.path.join(model_name, model_version)\n",
        "model_path"
      ]
    },
    {
      "cell_type": "code",
      "execution_count": 182,
      "metadata": {
        "colab": {
          "base_uri": "https://localhost:8080/"
        },
        "id": "dEOMavJSYGrx",
        "outputId": "a56c70df-88a8-426d-c6f7-d4be6f9a617e"
      },
      "outputs": [
        {
          "name": "stdout",
          "output_type": "stream",
          "text": [
            "INFO:tensorflow:Assets written to: my_base_model/0001/assets\n"
          ]
        }
      ],
      "source": [
        "tf.saved_model.save(base_model, model_path)"
      ]
    },
    {
      "cell_type": "markdown",
      "metadata": {
        "id": "taSY3LLuybiS"
      },
      "source": [
        "# 11. Model Inference"
      ]
    },
    {
      "cell_type": "code",
      "execution_count": 179,
      "metadata": {
        "colab": {
          "base_uri": "https://localhost:8080/"
        },
        "id": "WeT-mQ4yyh2K",
        "outputId": "deb47433-478b-407f-c20b-dead8014124f"
      },
      "outputs": [
        {
          "name": "stdout",
          "output_type": "stream",
          "text": [
            "[2]\n",
            "[2]\n"
          ]
        }
      ],
      "source": [
        "# predict on a sample text without padding.\n",
        "\n",
        "sample_text = ('this book did not entertain me. terrible book. i would not recommend this book.')\n",
        "sample_text2 = ('i always love how the author tell us his point of view.')\n",
        "\n",
        "predictions1 = base_model.predict(np.array([sample_text]))\n",
        "predictions2 = base_model.predict(np.array([sample_text2]))\n",
        "\n",
        "print(predictions1.argmax(axis=1))\n",
        "print(predictions2.argmax(axis=1))"
      ]
    },
    {
      "cell_type": "markdown",
      "metadata": {
        "id": "v52GJ4Yiyi0U"
      },
      "source": [
        "# 12. Conclusion"
      ]
    },
    {
      "cell_type": "markdown",
      "metadata": {
        "id": "oEAc0IyHQE9t"
      },
      "source": [
        "1. In general this dataset can provide various Deep Learning models, including sentiment analysis on reviews given by users and prediction of star values from review sentences given by users. However, when compared to the selection of the Deep Learning model between sentiment analysis and prediction of the star value, I chose the prediction of the star value based on the consideration of the imbalance in the number of sentiments given by the user. So to minimize the results of wrong predictions, I chose to create a Deep Learning model to predict the star value only.\n",
        "\n",
        "2. In terms of modeling, in general, this notebook has tried six Deep Learning models, namely the base model, LSTM model, GRU model, Bidirectional model, GlobalAverage with Dropout and Batch Normalization model, and the last one is the second Bidirectional model with a difference in the number of max vocabs and hidden layers. addition before the output layer. The results, based on the classification report, show that the first model, namely the base model, produces better prediction performance than the other five models. The details are as follows:\n",
        "\n",
        "  1. Base Model\n",
        "                        precision    recall  f1-score   support\n",
        "\n",
        "                  1       0.51      0.62      0.56       195\n",
        "                  2       0.42      0.33      0.37       207\n",
        "                  3       0.42      0.35      0.38       202\n",
        "                  4       0.49      0.46      0.47       304\n",
        "                  5       0.56      0.67      0.61       292\n",
        "          accuracy                            0.50      1200\n",
        "          macro avg       0.48      0.49      0.48      1200\n",
        "          weighted avg    0.49      0.50      0.49      1200\n",
        "             \n",
        "  2. LSTM Model\n",
        "                        precision    recall  f1-score   support\n",
        "\n",
        "                  1       0.45      0.52      0.49       195\n",
        "                  2       0.34      0.30      0.32       207\n",
        "                  3       0.33      0.28      0.30       202\n",
        "                  4       0.44      0.39      0.41       304\n",
        "                  5       0.51      0.61      0.55       292\n",
        "          accuracy                            0.43      1200\n",
        "          macro avg       0.41      0.42      0.42      1200\n",
        "          weighted avg    0.42      0.43      0.42      1200\n",
        "  3. GRU Model\n",
        "                      precision    recall  f1-score   support\n",
        "\n",
        "                  1       0.46      0.46      0.46       195\n",
        "                  2       0.32      0.29      0.30       207\n",
        "                  3       0.29      0.34      0.31       202\n",
        "                  4       0.39      0.32      0.35       304\n",
        "                  5       0.47      0.52      0.50       292\n",
        "          accuracy                            0.39      1200\n",
        "          macro avg       0.38      0.39      0.38      1200\n",
        "          weighted avg    0.39      0.39      0.39      1200\n",
        "\n",
        "  4. Bidirectional Model\n",
        "                      precision    recall  f1-score   support\n",
        "\n",
        "                  1       0.38      0.43      0.40       195\n",
        "                  2       0.29      0.24      0.26       207\n",
        "                  3       0.29      0.33      0.31       202\n",
        "                  4       0.38      0.40      0.39       304\n",
        "                  5       0.48      0.43      0.45       292\n",
        "          accuracy                            0.37      1200\n",
        "          macro avg       0.36      0.36      0.36      1200\n",
        "          weighted avg    0.37      0.37      0.37      1200\n",
        "\n",
        "  5. Global Avg+DropOut+Batch Norm Model\n",
        "                      precision    recall  f1-score   support\n",
        "\n",
        "                  1       0.46      0.39      0.42       200\n",
        "                  2       0.32      0.37      0.34       194\n",
        "                  3       0.30      0.27      0.29       202\n",
        "                  4       0.41      0.37      0.39       305\n",
        "                  5       0.52      0.61      0.56       299\n",
        "          accuracy                            0.41      1200\n",
        "          macro avg       0.40      0.40      0.40      1200\n",
        "          weighted avg    0.41      0.41      0.41      1200\n",
        "\n",
        "  6. Bidirectional with Extra Hidden Layer + Different Max Numbers of Vocab Model\n",
        "                      precision    recall  f1-score   support\n",
        "\n",
        "                  1       0.47      0.36      0.41       200\n",
        "                  2       0.31      0.37      0.34       194\n",
        "                  3       0.30      0.26      0.28       202\n",
        "                  4       0.38      0.46      0.41       305\n",
        "                  5       0.56      0.50      0.53       299\n",
        "          accuracy                            0.41      1200\n",
        "          macro avg       0.40      0.39      0.39      1200\n",
        "          weighted avg    0.42      0.41      0.41      1200\n",
        "\n",
        "3. From the modeling results above, it can be concluded that in the case of this dataset, a model that has a fairly good performance value is determined by a fairly large max vocab length value of 10,000. Meanwhile, other models with max vocab length values below 4000-5000-6000 tend to reduce the model's performance.\n",
        "\n",
        "4. Then when comparing the 4th model and 6th model which both use a Bidirectional layer, the 6th model produces a better performance of 3-4% with the architecture added one additional hidden layer.\n",
        "\n",
        "5. Again, in general the base model is the best model that we have built with the highest performance scores for predictions for all five classes.\n",
        "\n",
        "\n",
        "\n",
        "---\n",
        "\n",
        "FUTURE WORK\n",
        "1. Try to use Tensorflow Hub\n",
        "2. Mix another layer\n",
        "3. Or try another Dataset"
      ]
    }
  ],
  "metadata": {
    "accelerator": "GPU",
    "colab": {
      "collapsed_sections": [
        "2Z59Qs6ureFT",
        "8KftgS4WrinL",
        "6T0t8bnfMbHH",
        "g72OiXYjNpNb",
        "9OfqzAdYbBIW",
        "qef6N-CiTFzq",
        "wGfrDmsghUb7",
        "916k8tkvy1m7",
        "aFQzW0OEKOYK",
        "Ga7WrwKPQ7wW",
        "9MbJQyesyUqe"
      ],
      "name": "h8dsft_Milestone2P2.ipynb",
      "provenance": []
    },
    "kernelspec": {
      "display_name": "Python 3",
      "name": "python3"
    },
    "language_info": {
      "codemirror_mode": {
        "name": "ipython",
        "version": 3
      },
      "file_extension": ".py",
      "mimetype": "text/x-python",
      "name": "python",
      "nbconvert_exporter": "python",
      "pygments_lexer": "ipython3",
      "version": "3.7.11"
    }
  },
  "nbformat": 4,
  "nbformat_minor": 0
}
