{
  "nbformat": 4,
  "nbformat_minor": 0,
  "metadata": {
    "colab": {
      "name": "final project deploy.ipynb",
      "provenance": [],
      "collapsed_sections": [
        "QlZmt6zlRahC",
        "R1l_4rN3S0n1",
        "2Z59Qs6ureFT",
        "0aPVLsjKSEdY",
        "ahzqNlNL1-eR",
        "tstTEjDqSTpG",
        "mB2jiAc2TFWc",
        "hWY9ZIcdkrEg",
        "uLLZXInl2kaA",
        "LB1M46TObP36",
        "2LNDWH10bfYU",
        "tWfh9oGIWJiR",
        "uWgH1IadWA36",
        "Y30xdpvRnxIt",
        "sChW1mTVqRon",
        "QlFmuSvBBQSZ",
        "7APHNfMbqAGW",
        "2HaWkNWJqFlB",
        "OWUem8up9G9r",
        "DdErsVYg1M1B",
        "zk-yYmAGDto1",
        "MqVddknvTzUz",
        "N-pK05TWobTJ",
        "-Xrat68_Mptk",
        "eIrlctACMu9U",
        "L4GJXk8TRMuQ"
      ]
    },
    "kernelspec": {
      "name": "python3",
      "display_name": "Python 3"
    },
    "language_info": {
      "name": "python"
    }
  },
  "cells": [
    {
      "cell_type": "markdown",
      "source": [
        "# A. Identitas\n",
        "\n",
        "* Nama : Muhammad Itsar Rabbani\n",
        "* Full-Time Data Scientist Hacktiv8 Batch 006\n",
        "* Final Project Notebook\n",
        "* Notebook Objective :\n",
        "  - Create analytical sentiment models using Tensorflow Deep Learning\n",
        "  - Create inference data to be tested with the models\n",
        "  - Perform analysis of data and models\n",
        "\n",
        "* Data Source :\n",
        "https://www.kaggle.com/nicapotato/womens-ecommerce-clothing-reviews"
      ],
      "metadata": {
        "id": "QlZmt6zlRahC"
      }
    },
    {
      "cell_type": "markdown",
      "source": [
        "# B. Import Pustaka"
      ],
      "metadata": {
        "id": "R1l_4rN3S0n1"
      }
    },
    {
      "cell_type": "code",
      "source": [
        "import tensorflow\n",
        "print(tensorflow.__version__)"
      ],
      "metadata": {
        "colab": {
          "base_uri": "https://localhost:8080/"
        },
        "id": "BQLG8tnAh0T4",
        "outputId": "e49905ff-4575-481c-bca8-f0defcea3d9d"
      },
      "execution_count": null,
      "outputs": [
        {
          "output_type": "stream",
          "name": "stdout",
          "text": [
            "2.7.0\n"
          ]
        }
      ]
    },
    {
      "cell_type": "code",
      "source": [
        "import keras\n",
        "print(keras.__version__)"
      ],
      "metadata": {
        "id": "-jqftU-stdQ0",
        "outputId": "abd3d854-7aa5-44b1-be8e-488a1ca4d4f4",
        "colab": {
          "base_uri": "https://localhost:8080/"
        }
      },
      "execution_count": null,
      "outputs": [
        {
          "output_type": "stream",
          "name": "stdout",
          "text": [
            "2.7.0\n"
          ]
        }
      ]
    },
    {
      "cell_type": "code",
      "execution_count": null,
      "metadata": {
        "colab": {
          "base_uri": "https://localhost:8080/"
        },
        "id": "_pzLBYDyMlFa",
        "outputId": "6cea44fe-985c-4861-a923-3f3b10615714"
      },
      "outputs": [
        {
          "output_type": "stream",
          "name": "stdout",
          "text": [
            "[nltk_data] Downloading package stopwords to /root/nltk_data...\n",
            "[nltk_data]   Unzipping corpora/stopwords.zip.\n"
          ]
        }
      ],
      "source": [
        "import numpy as np\n",
        "import pandas as pd\n",
        "import seaborn as sns\n",
        "import matplotlib.pyplot as plt\n",
        "from wordcloud import WordCloud, STOPWORDS\n",
        "\n",
        "#preprocess\n",
        "import re\n",
        "import string\n",
        "import nltk\n",
        "from nltk.corpus import stopwords\n",
        "nltk.download('stopwords')\n",
        "\n",
        "#model\n",
        "from sklearn.model_selection import train_test_split\n",
        "import tensorflow as tf\n",
        "from tensorflow.keras import layers\n",
        "from tensorflow.keras.layers import Input, Dense, LSTM, GRU, Embedding, BatchNormalization, Dropout, SpatialDropout1D, TextVectorization, Bidirectional\n",
        "from tensorflow.keras.utils import plot_model\n",
        "from keras.callbacks import ModelCheckpoint, EarlyStopping, ReduceLROnPlateau\n",
        "from keras import metrics\n",
        "\n",
        "import warnings\n",
        "warnings.filterwarnings('ignore')"
      ]
    },
    {
      "cell_type": "markdown",
      "metadata": {
        "id": "2Z59Qs6ureFT"
      },
      "source": [
        "# C. Data Load"
      ]
    },
    {
      "cell_type": "code",
      "execution_count": null,
      "metadata": {
        "colab": {
          "base_uri": "https://localhost:8080/",
          "height": 302
        },
        "id": "roTPqn5pMdgs",
        "outputId": "8f49b3bf-02b7-45c1-d19b-f38f7bd54cde"
      },
      "outputs": [
        {
          "output_type": "execute_result",
          "data": {
            "text/html": [
              "\n",
              "  <div id=\"df-ed423d5f-558e-4ca8-bf23-91cf5d89ab2b\">\n",
              "    <div class=\"colab-df-container\">\n",
              "      <div>\n",
              "<style scoped>\n",
              "    .dataframe tbody tr th:only-of-type {\n",
              "        vertical-align: middle;\n",
              "    }\n",
              "\n",
              "    .dataframe tbody tr th {\n",
              "        vertical-align: top;\n",
              "    }\n",
              "\n",
              "    .dataframe thead th {\n",
              "        text-align: right;\n",
              "    }\n",
              "</style>\n",
              "<table border=\"1\" class=\"dataframe\">\n",
              "  <thead>\n",
              "    <tr style=\"text-align: right;\">\n",
              "      <th></th>\n",
              "      <th>Unnamed: 0</th>\n",
              "      <th>Clothing ID</th>\n",
              "      <th>Age</th>\n",
              "      <th>Title</th>\n",
              "      <th>Review Text</th>\n",
              "      <th>Rating</th>\n",
              "      <th>Recommended IND</th>\n",
              "      <th>Positive Feedback Count</th>\n",
              "      <th>Division Name</th>\n",
              "      <th>Department Name</th>\n",
              "      <th>Class Name</th>\n",
              "    </tr>\n",
              "  </thead>\n",
              "  <tbody>\n",
              "    <tr>\n",
              "      <th>0</th>\n",
              "      <td>0</td>\n",
              "      <td>767</td>\n",
              "      <td>33</td>\n",
              "      <td>NaN</td>\n",
              "      <td>Absolutely wonderful - silky and sexy and comf...</td>\n",
              "      <td>4</td>\n",
              "      <td>1</td>\n",
              "      <td>0</td>\n",
              "      <td>Initmates</td>\n",
              "      <td>Intimate</td>\n",
              "      <td>Intimates</td>\n",
              "    </tr>\n",
              "    <tr>\n",
              "      <th>1</th>\n",
              "      <td>1</td>\n",
              "      <td>1080</td>\n",
              "      <td>34</td>\n",
              "      <td>NaN</td>\n",
              "      <td>Love this dress!  it's sooo pretty.  i happene...</td>\n",
              "      <td>5</td>\n",
              "      <td>1</td>\n",
              "      <td>4</td>\n",
              "      <td>General</td>\n",
              "      <td>Dresses</td>\n",
              "      <td>Dresses</td>\n",
              "    </tr>\n",
              "    <tr>\n",
              "      <th>2</th>\n",
              "      <td>2</td>\n",
              "      <td>1077</td>\n",
              "      <td>60</td>\n",
              "      <td>Some major design flaws</td>\n",
              "      <td>I had such high hopes for this dress and reall...</td>\n",
              "      <td>3</td>\n",
              "      <td>0</td>\n",
              "      <td>0</td>\n",
              "      <td>General</td>\n",
              "      <td>Dresses</td>\n",
              "      <td>Dresses</td>\n",
              "    </tr>\n",
              "    <tr>\n",
              "      <th>3</th>\n",
              "      <td>3</td>\n",
              "      <td>1049</td>\n",
              "      <td>50</td>\n",
              "      <td>My favorite buy!</td>\n",
              "      <td>I love, love, love this jumpsuit. it's fun, fl...</td>\n",
              "      <td>5</td>\n",
              "      <td>1</td>\n",
              "      <td>0</td>\n",
              "      <td>General Petite</td>\n",
              "      <td>Bottoms</td>\n",
              "      <td>Pants</td>\n",
              "    </tr>\n",
              "    <tr>\n",
              "      <th>4</th>\n",
              "      <td>4</td>\n",
              "      <td>847</td>\n",
              "      <td>47</td>\n",
              "      <td>Flattering shirt</td>\n",
              "      <td>This shirt is very flattering to all due to th...</td>\n",
              "      <td>5</td>\n",
              "      <td>1</td>\n",
              "      <td>6</td>\n",
              "      <td>General</td>\n",
              "      <td>Tops</td>\n",
              "      <td>Blouses</td>\n",
              "    </tr>\n",
              "  </tbody>\n",
              "</table>\n",
              "</div>\n",
              "      <button class=\"colab-df-convert\" onclick=\"convertToInteractive('df-ed423d5f-558e-4ca8-bf23-91cf5d89ab2b')\"\n",
              "              title=\"Convert this dataframe to an interactive table.\"\n",
              "              style=\"display:none;\">\n",
              "        \n",
              "  <svg xmlns=\"http://www.w3.org/2000/svg\" height=\"24px\"viewBox=\"0 0 24 24\"\n",
              "       width=\"24px\">\n",
              "    <path d=\"M0 0h24v24H0V0z\" fill=\"none\"/>\n",
              "    <path d=\"M18.56 5.44l.94 2.06.94-2.06 2.06-.94-2.06-.94-.94-2.06-.94 2.06-2.06.94zm-11 1L8.5 8.5l.94-2.06 2.06-.94-2.06-.94L8.5 2.5l-.94 2.06-2.06.94zm10 10l.94 2.06.94-2.06 2.06-.94-2.06-.94-.94-2.06-.94 2.06-2.06.94z\"/><path d=\"M17.41 7.96l-1.37-1.37c-.4-.4-.92-.59-1.43-.59-.52 0-1.04.2-1.43.59L10.3 9.45l-7.72 7.72c-.78.78-.78 2.05 0 2.83L4 21.41c.39.39.9.59 1.41.59.51 0 1.02-.2 1.41-.59l7.78-7.78 2.81-2.81c.8-.78.8-2.07 0-2.86zM5.41 20L4 18.59l7.72-7.72 1.47 1.35L5.41 20z\"/>\n",
              "  </svg>\n",
              "      </button>\n",
              "      \n",
              "  <style>\n",
              "    .colab-df-container {\n",
              "      display:flex;\n",
              "      flex-wrap:wrap;\n",
              "      gap: 12px;\n",
              "    }\n",
              "\n",
              "    .colab-df-convert {\n",
              "      background-color: #E8F0FE;\n",
              "      border: none;\n",
              "      border-radius: 50%;\n",
              "      cursor: pointer;\n",
              "      display: none;\n",
              "      fill: #1967D2;\n",
              "      height: 32px;\n",
              "      padding: 0 0 0 0;\n",
              "      width: 32px;\n",
              "    }\n",
              "\n",
              "    .colab-df-convert:hover {\n",
              "      background-color: #E2EBFA;\n",
              "      box-shadow: 0px 1px 2px rgba(60, 64, 67, 0.3), 0px 1px 3px 1px rgba(60, 64, 67, 0.15);\n",
              "      fill: #174EA6;\n",
              "    }\n",
              "\n",
              "    [theme=dark] .colab-df-convert {\n",
              "      background-color: #3B4455;\n",
              "      fill: #D2E3FC;\n",
              "    }\n",
              "\n",
              "    [theme=dark] .colab-df-convert:hover {\n",
              "      background-color: #434B5C;\n",
              "      box-shadow: 0px 1px 3px 1px rgba(0, 0, 0, 0.15);\n",
              "      filter: drop-shadow(0px 1px 2px rgba(0, 0, 0, 0.3));\n",
              "      fill: #FFFFFF;\n",
              "    }\n",
              "  </style>\n",
              "\n",
              "      <script>\n",
              "        const buttonEl =\n",
              "          document.querySelector('#df-ed423d5f-558e-4ca8-bf23-91cf5d89ab2b button.colab-df-convert');\n",
              "        buttonEl.style.display =\n",
              "          google.colab.kernel.accessAllowed ? 'block' : 'none';\n",
              "\n",
              "        async function convertToInteractive(key) {\n",
              "          const element = document.querySelector('#df-ed423d5f-558e-4ca8-bf23-91cf5d89ab2b');\n",
              "          const dataTable =\n",
              "            await google.colab.kernel.invokeFunction('convertToInteractive',\n",
              "                                                     [key], {});\n",
              "          if (!dataTable) return;\n",
              "\n",
              "          const docLinkHtml = 'Like what you see? Visit the ' +\n",
              "            '<a target=\"_blank\" href=https://colab.research.google.com/notebooks/data_table.ipynb>data table notebook</a>'\n",
              "            + ' to learn more about interactive tables.';\n",
              "          element.innerHTML = '';\n",
              "          dataTable['output_type'] = 'display_data';\n",
              "          await google.colab.output.renderOutput(dataTable, element);\n",
              "          const docLink = document.createElement('div');\n",
              "          docLink.innerHTML = docLinkHtml;\n",
              "          element.appendChild(docLink);\n",
              "        }\n",
              "      </script>\n",
              "    </div>\n",
              "  </div>\n",
              "  "
            ],
            "text/plain": [
              "   Unnamed: 0  Clothing ID  Age  ...   Division Name Department Name  Class Name\n",
              "0           0          767   33  ...       Initmates        Intimate   Intimates\n",
              "1           1         1080   34  ...         General         Dresses     Dresses\n",
              "2           2         1077   60  ...         General         Dresses     Dresses\n",
              "3           3         1049   50  ...  General Petite         Bottoms       Pants\n",
              "4           4          847   47  ...         General            Tops     Blouses\n",
              "\n",
              "[5 rows x 11 columns]"
            ]
          },
          "metadata": {},
          "execution_count": 2
        }
      ],
      "source": [
        "df = pd.read_csv('https://raw.githubusercontent.com/tsrrbbn040/dp-draftproject/main/Womens%20Clothing%20E-Commerce%20Reviews.csv')\n",
        "df.head()"
      ]
    },
    {
      "cell_type": "code",
      "execution_count": null,
      "metadata": {
        "colab": {
          "base_uri": "https://localhost:8080/"
        },
        "id": "sPVQL42SNUUR",
        "outputId": "575d65e4-0365-459d-d6c9-4ca9afcf6f97"
      },
      "outputs": [
        {
          "output_type": "execute_result",
          "data": {
            "text/plain": [
              "(23486, 11)"
            ]
          },
          "metadata": {},
          "execution_count": 3
        }
      ],
      "source": [
        "#dataset dimension\n",
        "df.shape"
      ]
    },
    {
      "cell_type": "code",
      "execution_count": null,
      "metadata": {
        "colab": {
          "base_uri": "https://localhost:8080/"
        },
        "id": "kRcNJKn6Mjww",
        "outputId": "6c2da449-8a46-423a-e3b4-7f9b7f59d7f7"
      },
      "outputs": [
        {
          "output_type": "stream",
          "name": "stdout",
          "text": [
            "<class 'pandas.core.frame.DataFrame'>\n",
            "RangeIndex: 23486 entries, 0 to 23485\n",
            "Data columns (total 11 columns):\n",
            " #   Column                   Non-Null Count  Dtype \n",
            "---  ------                   --------------  ----- \n",
            " 0   Unnamed: 0               23486 non-null  int64 \n",
            " 1   Clothing ID              23486 non-null  int64 \n",
            " 2   Age                      23486 non-null  int64 \n",
            " 3   Title                    19676 non-null  object\n",
            " 4   Review Text              22641 non-null  object\n",
            " 5   Rating                   23486 non-null  int64 \n",
            " 6   Recommended IND          23486 non-null  int64 \n",
            " 7   Positive Feedback Count  23486 non-null  int64 \n",
            " 8   Division Name            23472 non-null  object\n",
            " 9   Department Name          23472 non-null  object\n",
            " 10  Class Name               23472 non-null  object\n",
            "dtypes: int64(6), object(5)\n",
            "memory usage: 2.0+ MB\n"
          ]
        }
      ],
      "source": [
        "#dataset info\n",
        "df.info()"
      ]
    },
    {
      "cell_type": "code",
      "execution_count": null,
      "metadata": {
        "colab": {
          "base_uri": "https://localhost:8080/"
        },
        "id": "pKf_5hkaNO34",
        "outputId": "54a0a158-1523-4882-b5de-1dfe2b62b20a"
      },
      "outputs": [
        {
          "output_type": "execute_result",
          "data": {
            "text/plain": [
              "Unnamed: 0                    0\n",
              "Clothing ID                   0\n",
              "Age                           0\n",
              "Title                      3810\n",
              "Review Text                 845\n",
              "Rating                        0\n",
              "Recommended IND               0\n",
              "Positive Feedback Count       0\n",
              "Division Name                14\n",
              "Department Name              14\n",
              "Class Name                   14\n",
              "dtype: int64"
            ]
          },
          "metadata": {},
          "execution_count": 5
        }
      ],
      "source": [
        "#basicly there are some null values. but we'll take a look deeper in this syntax\n",
        "df.isnull().sum()"
      ]
    },
    {
      "cell_type": "code",
      "execution_count": null,
      "metadata": {
        "colab": {
          "base_uri": "https://localhost:8080/"
        },
        "id": "39IE7utiNmg0",
        "outputId": "ecc65af0-745d-4314-ad8c-e444842ae722"
      },
      "outputs": [
        {
          "output_type": "execute_result",
          "data": {
            "text/plain": [
              "False    23486\n",
              "dtype: int64"
            ]
          },
          "metadata": {},
          "execution_count": 6
        }
      ],
      "source": [
        "#looking for duplicated data\n",
        "df.duplicated().value_counts()"
      ]
    },
    {
      "cell_type": "markdown",
      "source": [
        "# D. Data Cleaning"
      ],
      "metadata": {
        "id": "0aPVLsjKSEdY"
      }
    },
    {
      "cell_type": "markdown",
      "source": [
        "# E. Exploratory Data Analysis"
      ],
      "metadata": {
        "id": "ahzqNlNL1-eR"
      }
    },
    {
      "cell_type": "code",
      "source": [
        "#create sentiment feature\n",
        "df.loc[df['Rating'] < 4,'sentiment'] = 'Negative'\n",
        "df.loc[df['Rating'] > 3,'sentiment'] = 'Positive'"
      ],
      "metadata": {
        "id": "j-yrU50vhaB_"
      },
      "execution_count": null,
      "outputs": []
    },
    {
      "cell_type": "markdown",
      "metadata": {
        "id": "2tUgh9cnwqX7"
      },
      "source": [
        "**Target Distribution**\n"
      ]
    },
    {
      "cell_type": "code",
      "execution_count": null,
      "metadata": {
        "colab": {
          "base_uri": "https://localhost:8080/"
        },
        "id": "6lagG0_mTR1W",
        "outputId": "4d9e071d-667e-46c4-9e89-4e76c3c397c2"
      },
      "outputs": [
        {
          "output_type": "execute_result",
          "data": {
            "text/plain": [
              "<matplotlib.axes._subplots.AxesSubplot at 0x7f4edd6ab8d0>"
            ]
          },
          "metadata": {},
          "execution_count": 8
        },
        {
          "output_type": "display_data",
          "data": {
            "image/png": "[encoded data removed]",
            "text/plain": [
              "<Figure size 432x288 with 1 Axes>"
            ]
          },
          "metadata": {
            "needs_background": "light"
          }
        }
      ],
      "source": [
        "#visualize number counts of rating\n",
        "sns.countplot(df['Rating'], data=df)"
      ]
    },
    {
      "cell_type": "code",
      "execution_count": null,
      "metadata": {
        "colab": {
          "base_uri": "https://localhost:8080/"
        },
        "id": "yM8P_bskYohW",
        "outputId": "4b7abe4a-a677-4b18-d039-abba6219bf95"
      },
      "outputs": [
        {
          "output_type": "execute_result",
          "data": {
            "text/plain": [
              "5    13131\n",
              "4     5077\n",
              "3     2871\n",
              "2     1565\n",
              "1      842\n",
              "Name: Rating, dtype: int64"
            ]
          },
          "metadata": {},
          "execution_count": 9
        }
      ],
      "source": [
        "#exact counts from Rating Column\n",
        "df['Rating'].value_counts()"
      ]
    },
    {
      "cell_type": "code",
      "execution_count": null,
      "metadata": {
        "colab": {
          "base_uri": "https://localhost:8080/"
        },
        "id": "AgdxLkfoxG-N",
        "outputId": "7131ff53-3ee9-48e1-a755-ead029c4079c"
      },
      "outputs": [
        {
          "output_type": "execute_result",
          "data": {
            "text/plain": [
              "<matplotlib.axes._subplots.AxesSubplot at 0x7f4edd5c7990>"
            ]
          },
          "metadata": {},
          "execution_count": 10
        },
        {
          "output_type": "display_data",
          "data": {
            "image/png": "[encoded data removed]",
            "text/plain": [
              "<Figure size 432x288 with 1 Axes>"
            ]
          },
          "metadata": {
            "needs_background": "light"
          }
        }
      ],
      "source": [
        "#target distribution based on sentiment\n",
        "sns.countplot(df['sentiment'], data=df)"
      ]
    },
    {
      "cell_type": "code",
      "execution_count": null,
      "metadata": {
        "colab": {
          "base_uri": "https://localhost:8080/"
        },
        "id": "Mn2njaLAxG-P",
        "outputId": "35ceb7a4-0ff0-4db5-cb6e-03ce97787023"
      },
      "outputs": [
        {
          "output_type": "execute_result",
          "data": {
            "text/plain": [
              "Positive    18208\n",
              "Negative     5278\n",
              "Name: sentiment, dtype: int64"
            ]
          },
          "metadata": {},
          "execution_count": 11
        }
      ],
      "source": [
        "#exact counts from Rating Column\n",
        "df['sentiment'].value_counts()"
      ]
    },
    {
      "cell_type": "markdown",
      "source": [
        "# F. Data Pre-Processing\n",
        "\n",
        "With the amount of data that is not balanced between positive sentiment and negative sentiment, we have to generalize the amount of data in the two target columns.\n",
        "\n",
        "Therefore the next thing we will do is take a number of samples from each sentiment with an equal number, 5000 samples. This will be done after the data has been preprocessed, namely case folding, stem, and lemma."
      ],
      "metadata": {
        "id": "tstTEjDqSTpG"
      }
    },
    {
      "cell_type": "code",
      "source": [
        "skip = df[['Review Text', 'Rating', 'sentiment']]\n",
        "skip.dropna(inplace=True)\n",
        "skip.head()"
      ],
      "metadata": {
        "colab": {
          "base_uri": "https://localhost:8080/",
          "height": 206
        },
        "id": "yfGpiy0GSYYW",
        "outputId": "15161f3f-c989-4e8d-bca1-43a5a2b92759"
      },
      "execution_count": null,
      "outputs": [
        {
          "output_type": "execute_result",
          "data": {
            "text/html": [
              "\n",
              "  <div id=\"df-bde5cd71-0514-4164-a77a-a3e6717f6dc5\">\n",
              "    <div class=\"colab-df-container\">\n",
              "      <div>\n",
              "<style scoped>\n",
              "    .dataframe tbody tr th:only-of-type {\n",
              "        vertical-align: middle;\n",
              "    }\n",
              "\n",
              "    .dataframe tbody tr th {\n",
              "        vertical-align: top;\n",
              "    }\n",
              "\n",
              "    .dataframe thead th {\n",
              "        text-align: right;\n",
              "    }\n",
              "</style>\n",
              "<table border=\"1\" class=\"dataframe\">\n",
              "  <thead>\n",
              "    <tr style=\"text-align: right;\">\n",
              "      <th></th>\n",
              "      <th>Review Text</th>\n",
              "      <th>Rating</th>\n",
              "      <th>sentiment</th>\n",
              "    </tr>\n",
              "  </thead>\n",
              "  <tbody>\n",
              "    <tr>\n",
              "      <th>0</th>\n",
              "      <td>Absolutely wonderful - silky and sexy and comf...</td>\n",
              "      <td>4</td>\n",
              "      <td>Positive</td>\n",
              "    </tr>\n",
              "    <tr>\n",
              "      <th>1</th>\n",
              "      <td>Love this dress!  it's sooo pretty.  i happene...</td>\n",
              "      <td>5</td>\n",
              "      <td>Positive</td>\n",
              "    </tr>\n",
              "    <tr>\n",
              "      <th>2</th>\n",
              "      <td>I had such high hopes for this dress and reall...</td>\n",
              "      <td>3</td>\n",
              "      <td>Negative</td>\n",
              "    </tr>\n",
              "    <tr>\n",
              "      <th>3</th>\n",
              "      <td>I love, love, love this jumpsuit. it's fun, fl...</td>\n",
              "      <td>5</td>\n",
              "      <td>Positive</td>\n",
              "    </tr>\n",
              "    <tr>\n",
              "      <th>4</th>\n",
              "      <td>This shirt is very flattering to all due to th...</td>\n",
              "      <td>5</td>\n",
              "      <td>Positive</td>\n",
              "    </tr>\n",
              "  </tbody>\n",
              "</table>\n",
              "</div>\n",
              "      <button class=\"colab-df-convert\" onclick=\"convertToInteractive('df-bde5cd71-0514-4164-a77a-a3e6717f6dc5')\"\n",
              "              title=\"Convert this dataframe to an interactive table.\"\n",
              "              style=\"display:none;\">\n",
              "        \n",
              "  <svg xmlns=\"http://www.w3.org/2000/svg\" height=\"24px\"viewBox=\"0 0 24 24\"\n",
              "       width=\"24px\">\n",
              "    <path d=\"M0 0h24v24H0V0z\" fill=\"none\"/>\n",
              "    <path d=\"M18.56 5.44l.94 2.06.94-2.06 2.06-.94-2.06-.94-.94-2.06-.94 2.06-2.06.94zm-11 1L8.5 8.5l.94-2.06 2.06-.94-2.06-.94L8.5 2.5l-.94 2.06-2.06.94zm10 10l.94 2.06.94-2.06 2.06-.94-2.06-.94-.94-2.06-.94 2.06-2.06.94z\"/><path d=\"M17.41 7.96l-1.37-1.37c-.4-.4-.92-.59-1.43-.59-.52 0-1.04.2-1.43.59L10.3 9.45l-7.72 7.72c-.78.78-.78 2.05 0 2.83L4 21.41c.39.39.9.59 1.41.59.51 0 1.02-.2 1.41-.59l7.78-7.78 2.81-2.81c.8-.78.8-2.07 0-2.86zM5.41 20L4 18.59l7.72-7.72 1.47 1.35L5.41 20z\"/>\n",
              "  </svg>\n",
              "      </button>\n",
              "      \n",
              "  <style>\n",
              "    .colab-df-container {\n",
              "      display:flex;\n",
              "      flex-wrap:wrap;\n",
              "      gap: 12px;\n",
              "    }\n",
              "\n",
              "    .colab-df-convert {\n",
              "      background-color: #E8F0FE;\n",
              "      border: none;\n",
              "      border-radius: 50%;\n",
              "      cursor: pointer;\n",
              "      display: none;\n",
              "      fill: #1967D2;\n",
              "      height: 32px;\n",
              "      padding: 0 0 0 0;\n",
              "      width: 32px;\n",
              "    }\n",
              "\n",
              "    .colab-df-convert:hover {\n",
              "      background-color: #E2EBFA;\n",
              "      box-shadow: 0px 1px 2px rgba(60, 64, 67, 0.3), 0px 1px 3px 1px rgba(60, 64, 67, 0.15);\n",
              "      fill: #174EA6;\n",
              "    }\n",
              "\n",
              "    [theme=dark] .colab-df-convert {\n",
              "      background-color: #3B4455;\n",
              "      fill: #D2E3FC;\n",
              "    }\n",
              "\n",
              "    [theme=dark] .colab-df-convert:hover {\n",
              "      background-color: #434B5C;\n",
              "      box-shadow: 0px 1px 3px 1px rgba(0, 0, 0, 0.15);\n",
              "      filter: drop-shadow(0px 1px 2px rgba(0, 0, 0, 0.3));\n",
              "      fill: #FFFFFF;\n",
              "    }\n",
              "  </style>\n",
              "\n",
              "      <script>\n",
              "        const buttonEl =\n",
              "          document.querySelector('#df-bde5cd71-0514-4164-a77a-a3e6717f6dc5 button.colab-df-convert');\n",
              "        buttonEl.style.display =\n",
              "          google.colab.kernel.accessAllowed ? 'block' : 'none';\n",
              "\n",
              "        async function convertToInteractive(key) {\n",
              "          const element = document.querySelector('#df-bde5cd71-0514-4164-a77a-a3e6717f6dc5');\n",
              "          const dataTable =\n",
              "            await google.colab.kernel.invokeFunction('convertToInteractive',\n",
              "                                                     [key], {});\n",
              "          if (!dataTable) return;\n",
              "\n",
              "          const docLinkHtml = 'Like what you see? Visit the ' +\n",
              "            '<a target=\"_blank\" href=https://colab.research.google.com/notebooks/data_table.ipynb>data table notebook</a>'\n",
              "            + ' to learn more about interactive tables.';\n",
              "          element.innerHTML = '';\n",
              "          dataTable['output_type'] = 'display_data';\n",
              "          await google.colab.output.renderOutput(dataTable, element);\n",
              "          const docLink = document.createElement('div');\n",
              "          docLink.innerHTML = docLinkHtml;\n",
              "          element.appendChild(docLink);\n",
              "        }\n",
              "      </script>\n",
              "    </div>\n",
              "  </div>\n",
              "  "
            ],
            "text/plain": [
              "                                         Review Text  Rating sentiment\n",
              "0  Absolutely wonderful - silky and sexy and comf...       4  Positive\n",
              "1  Love this dress!  it's sooo pretty.  i happene...       5  Positive\n",
              "2  I had such high hopes for this dress and reall...       3  Negative\n",
              "3  I love, love, love this jumpsuit. it's fun, fl...       5  Positive\n",
              "4  This shirt is very flattering to all due to th...       5  Positive"
            ]
          },
          "metadata": {},
          "execution_count": 12
        }
      ]
    },
    {
      "cell_type": "code",
      "source": [
        "skip.shape"
      ],
      "metadata": {
        "colab": {
          "base_uri": "https://localhost:8080/"
        },
        "id": "_dZD_KmQStMr",
        "outputId": "70dacb0c-dfd5-40e3-e7da-4682d50188b7"
      },
      "execution_count": null,
      "outputs": [
        {
          "output_type": "execute_result",
          "data": {
            "text/plain": [
              "(22641, 3)"
            ]
          },
          "metadata": {},
          "execution_count": 13
        }
      ]
    },
    {
      "cell_type": "markdown",
      "source": [
        "## Text Preprocessing"
      ],
      "metadata": {
        "id": "mB2jiAc2TFWc"
      }
    },
    {
      "cell_type": "markdown",
      "source": [
        "Text Preprocessing (Case Folding)"
      ],
      "metadata": {
        "id": "RCq-h6twePLt"
      }
    },
    {
      "cell_type": "code",
      "execution_count": null,
      "metadata": {
        "id": "0e4gF8Qdh2rI"
      },
      "outputs": [],
      "source": [
        "#prepare the function\n",
        "def remove_digits(string):\n",
        "    return re.sub(r'\\d+', '', string)\n",
        "\n",
        "def remove_punctuation(text):\n",
        "    return text.translate(str.maketrans(\"\",\"\", string.punctuation))\n",
        "\n",
        "def remove_strip(text):\n",
        "    return text.strip()\n",
        "\n",
        "#define for stopwords\n",
        "stop = stopwords.words('english')"
      ]
    },
    {
      "cell_type": "code",
      "execution_count": null,
      "metadata": {
        "id": "dwEHbYoXDF3z"
      },
      "outputs": [],
      "source": [
        "skip['sentiment'] = skip['sentiment'].str.lower() #lowercase\n",
        "skip['Review Text'] = skip['Review Text'].str.lower() #lowercase\n",
        "skip['Review Text'] = skip['Review Text'].apply(remove_digits) #remove numbers\n",
        "skip['Review Text'] = skip['Review Text'].apply(remove_punctuation) #remove punctuation\n",
        "skip['Review Text'] = skip['Review Text'].apply(remove_strip) #remove whitespaces\n",
        "\n",
        "skip['Review Text'] = skip['Review Text'].apply(lambda x: \" \".join(x for x in x.split() if x not in stop))"
      ]
    },
    {
      "cell_type": "markdown",
      "source": [
        "Text Preprocessing (Repetitive Words)\n",
        "\n",
        "source : https://stackoverflow.com/questions/47316783/python-dataframe-remove-duplicate-words-in-the-same-cell-within-a-column-in-pyt"
      ],
      "metadata": {
        "id": "aN1QCIP0cicE"
      }
    },
    {
      "cell_type": "code",
      "source": [
        "from collections import OrderedDict\n",
        "skip['Review Text'] = skip['Review Text'].str.split().apply(lambda x: OrderedDict.fromkeys(x).keys()).str.join(' ')"
      ],
      "metadata": {
        "id": "QmCjfwi0cnLR"
      },
      "execution_count": null,
      "outputs": []
    },
    {
      "cell_type": "markdown",
      "source": [
        "### Stemming & Lemmatization"
      ],
      "metadata": {
        "id": "hWY9ZIcdkrEg"
      }
    },
    {
      "cell_type": "code",
      "source": [
        "import nltk\n",
        "\n",
        "ps = nltk.stem.PorterStemmer()\n",
        "snow = nltk.stem.SnowballStemmer('english')\n",
        "lm = nltk.wordnet.WordNetLemmatizer()\n",
        "nltk.download('wordnet')\n",
        "\n",
        "df_stem1 = skip.copy() #dataset with portar stemmer\n",
        "df_stem2 = skip.copy() #dataset with snowball stemmer\n",
        "df_lemma = skip.copy() #dataset with lemma"
      ],
      "metadata": {
        "colab": {
          "base_uri": "https://localhost:8080/"
        },
        "id": "EqGDEzLakuIn",
        "outputId": "45071bc6-08f2-45ce-9239-3ad89d07d452"
      },
      "execution_count": null,
      "outputs": [
        {
          "output_type": "stream",
          "name": "stdout",
          "text": [
            "[nltk_data] Downloading package wordnet to /root/nltk_data...\n",
            "[nltk_data]   Unzipping corpora/wordnet.zip.\n"
          ]
        }
      ]
    },
    {
      "cell_type": "code",
      "source": [
        "#Porter Stemmer Sample Result\n",
        "df_stem1['Review Text'] = df_stem1['Review Text'].apply(lambda x: \" \".join([ps.stem(y) for y in x.split()]))\n",
        "pd.set_option('display.max_colwidth', -1)\n",
        "df_stem1.head()"
      ],
      "metadata": {
        "id": "Wf5SphT5mGJ2",
        "colab": {
          "base_uri": "https://localhost:8080/",
          "height": 268
        },
        "outputId": "cd66c128-6faf-4f5f-b272-0155e5f94fda"
      },
      "execution_count": null,
      "outputs": [
        {
          "output_type": "execute_result",
          "data": {
            "text/html": [
              "\n",
              "  <div id=\"df-659356e9-e818-4531-abe2-18f5ab9bbaa8\">\n",
              "    <div class=\"colab-df-container\">\n",
              "      <div>\n",
              "<style scoped>\n",
              "    .dataframe tbody tr th:only-of-type {\n",
              "        vertical-align: middle;\n",
              "    }\n",
              "\n",
              "    .dataframe tbody tr th {\n",
              "        vertical-align: top;\n",
              "    }\n",
              "\n",
              "    .dataframe thead th {\n",
              "        text-align: right;\n",
              "    }\n",
              "</style>\n",
              "<table border=\"1\" class=\"dataframe\">\n",
              "  <thead>\n",
              "    <tr style=\"text-align: right;\">\n",
              "      <th></th>\n",
              "      <th>Review Text</th>\n",
              "      <th>Rating</th>\n",
              "      <th>sentiment</th>\n",
              "    </tr>\n",
              "  </thead>\n",
              "  <tbody>\n",
              "    <tr>\n",
              "      <th>0</th>\n",
              "      <td>absolut wonder silki sexi comfort</td>\n",
              "      <td>4</td>\n",
              "      <td>positive</td>\n",
              "    </tr>\n",
              "    <tr>\n",
              "      <th>1</th>\n",
              "      <td>love dress sooo pretti happen find store im glad bc never would order onlin petit bought length hit littl knee definit true midi someon truli</td>\n",
              "      <td>5</td>\n",
              "      <td>positive</td>\n",
              "    </tr>\n",
              "    <tr>\n",
              "      <th>2</th>\n",
              "      <td>high hope dress realli want work initi order petit small usual size found outrag fact could zip reorder medium ok overal top half comfort fit nice bottom tight layer sever somewhat cheap net layer imo major design flaw sewn directli zipper c</td>\n",
              "      <td>3</td>\n",
              "      <td>negative</td>\n",
              "    </tr>\n",
              "    <tr>\n",
              "      <th>3</th>\n",
              "      <td>love jumpsuit fun flirti fabul everi time wear get noth great compliment</td>\n",
              "      <td>5</td>\n",
              "      <td>positive</td>\n",
              "    </tr>\n",
              "    <tr>\n",
              "      <th>4</th>\n",
              "      <td>shirt flatter due adjust front tie perfect length wear leg sleeveless pair well cardigan love</td>\n",
              "      <td>5</td>\n",
              "      <td>positive</td>\n",
              "    </tr>\n",
              "  </tbody>\n",
              "</table>\n",
              "</div>\n",
              "      <button class=\"colab-df-convert\" onclick=\"convertToInteractive('df-659356e9-e818-4531-abe2-18f5ab9bbaa8')\"\n",
              "              title=\"Convert this dataframe to an interactive table.\"\n",
              "              style=\"display:none;\">\n",
              "        \n",
              "  <svg xmlns=\"http://www.w3.org/2000/svg\" height=\"24px\"viewBox=\"0 0 24 24\"\n",
              "       width=\"24px\">\n",
              "    <path d=\"M0 0h24v24H0V0z\" fill=\"none\"/>\n",
              "    <path d=\"M18.56 5.44l.94 2.06.94-2.06 2.06-.94-2.06-.94-.94-2.06-.94 2.06-2.06.94zm-11 1L8.5 8.5l.94-2.06 2.06-.94-2.06-.94L8.5 2.5l-.94 2.06-2.06.94zm10 10l.94 2.06.94-2.06 2.06-.94-2.06-.94-.94-2.06-.94 2.06-2.06.94z\"/><path d=\"M17.41 7.96l-1.37-1.37c-.4-.4-.92-.59-1.43-.59-.52 0-1.04.2-1.43.59L10.3 9.45l-7.72 7.72c-.78.78-.78 2.05 0 2.83L4 21.41c.39.39.9.59 1.41.59.51 0 1.02-.2 1.41-.59l7.78-7.78 2.81-2.81c.8-.78.8-2.07 0-2.86zM5.41 20L4 18.59l7.72-7.72 1.47 1.35L5.41 20z\"/>\n",
              "  </svg>\n",
              "      </button>\n",
              "      \n",
              "  <style>\n",
              "    .colab-df-container {\n",
              "      display:flex;\n",
              "      flex-wrap:wrap;\n",
              "      gap: 12px;\n",
              "    }\n",
              "\n",
              "    .colab-df-convert {\n",
              "      background-color: #E8F0FE;\n",
              "      border: none;\n",
              "      border-radius: 50%;\n",
              "      cursor: pointer;\n",
              "      display: none;\n",
              "      fill: #1967D2;\n",
              "      height: 32px;\n",
              "      padding: 0 0 0 0;\n",
              "      width: 32px;\n",
              "    }\n",
              "\n",
              "    .colab-df-convert:hover {\n",
              "      background-color: #E2EBFA;\n",
              "      box-shadow: 0px 1px 2px rgba(60, 64, 67, 0.3), 0px 1px 3px 1px rgba(60, 64, 67, 0.15);\n",
              "      fill: #174EA6;\n",
              "    }\n",
              "\n",
              "    [theme=dark] .colab-df-convert {\n",
              "      background-color: #3B4455;\n",
              "      fill: #D2E3FC;\n",
              "    }\n",
              "\n",
              "    [theme=dark] .colab-df-convert:hover {\n",
              "      background-color: #434B5C;\n",
              "      box-shadow: 0px 1px 3px 1px rgba(0, 0, 0, 0.15);\n",
              "      filter: drop-shadow(0px 1px 2px rgba(0, 0, 0, 0.3));\n",
              "      fill: #FFFFFF;\n",
              "    }\n",
              "  </style>\n",
              "\n",
              "      <script>\n",
              "        const buttonEl =\n",
              "          document.querySelector('#df-659356e9-e818-4531-abe2-18f5ab9bbaa8 button.colab-df-convert');\n",
              "        buttonEl.style.display =\n",
              "          google.colab.kernel.accessAllowed ? 'block' : 'none';\n",
              "\n",
              "        async function convertToInteractive(key) {\n",
              "          const element = document.querySelector('#df-659356e9-e818-4531-abe2-18f5ab9bbaa8');\n",
              "          const dataTable =\n",
              "            await google.colab.kernel.invokeFunction('convertToInteractive',\n",
              "                                                     [key], {});\n",
              "          if (!dataTable) return;\n",
              "\n",
              "          const docLinkHtml = 'Like what you see? Visit the ' +\n",
              "            '<a target=\"_blank\" href=https://colab.research.google.com/notebooks/data_table.ipynb>data table notebook</a>'\n",
              "            + ' to learn more about interactive tables.';\n",
              "          element.innerHTML = '';\n",
              "          dataTable['output_type'] = 'display_data';\n",
              "          await google.colab.output.renderOutput(dataTable, element);\n",
              "          const docLink = document.createElement('div');\n",
              "          docLink.innerHTML = docLinkHtml;\n",
              "          element.appendChild(docLink);\n",
              "        }\n",
              "      </script>\n",
              "    </div>\n",
              "  </div>\n",
              "  "
            ],
            "text/plain": [
              "                                                                                                                                                                                                                                         Review Text  ...  sentiment\n",
              "0  absolut wonder silki sexi comfort                                                                                                                                                                                                                  ...  positive \n",
              "1  love dress sooo pretti happen find store im glad bc never would order onlin petit bought length hit littl knee definit true midi someon truli                                                                                                      ...  positive \n",
              "2  high hope dress realli want work initi order petit small usual size found outrag fact could zip reorder medium ok overal top half comfort fit nice bottom tight layer sever somewhat cheap net layer imo major design flaw sewn directli zipper c  ...  negative \n",
              "3  love jumpsuit fun flirti fabul everi time wear get noth great compliment                                                                                                                                                                           ...  positive \n",
              "4  shirt flatter due adjust front tie perfect length wear leg sleeveless pair well cardigan love                                                                                                                                                      ...  positive \n",
              "\n",
              "[5 rows x 3 columns]"
            ]
          },
          "metadata": {},
          "execution_count": 18
        }
      ]
    },
    {
      "cell_type": "code",
      "source": [
        "df_stem2['Review Text'] = df_stem2['Review Text'].apply(lambda x: \" \".join([snow.stem(y) for y in x.split()]))\n",
        "pd.set_option('display.max_colwidth', -1)\n",
        "df_stem2.head()"
      ],
      "metadata": {
        "id": "pOYTkuymq7oK",
        "colab": {
          "base_uri": "https://localhost:8080/",
          "height": 268
        },
        "outputId": "59c985cf-249c-4e04-d9c8-a7c2ebfed092"
      },
      "execution_count": null,
      "outputs": [
        {
          "output_type": "execute_result",
          "data": {
            "text/html": [
              "\n",
              "  <div id=\"df-f4af09d8-4f94-45ae-a31c-0c41c239c2e0\">\n",
              "    <div class=\"colab-df-container\">\n",
              "      <div>\n",
              "<style scoped>\n",
              "    .dataframe tbody tr th:only-of-type {\n",
              "        vertical-align: middle;\n",
              "    }\n",
              "\n",
              "    .dataframe tbody tr th {\n",
              "        vertical-align: top;\n",
              "    }\n",
              "\n",
              "    .dataframe thead th {\n",
              "        text-align: right;\n",
              "    }\n",
              "</style>\n",
              "<table border=\"1\" class=\"dataframe\">\n",
              "  <thead>\n",
              "    <tr style=\"text-align: right;\">\n",
              "      <th></th>\n",
              "      <th>Review Text</th>\n",
              "      <th>Rating</th>\n",
              "      <th>sentiment</th>\n",
              "    </tr>\n",
              "  </thead>\n",
              "  <tbody>\n",
              "    <tr>\n",
              "      <th>0</th>\n",
              "      <td>absolut wonder silki sexi comfort</td>\n",
              "      <td>4</td>\n",
              "      <td>positive</td>\n",
              "    </tr>\n",
              "    <tr>\n",
              "      <th>1</th>\n",
              "      <td>love dress sooo pretti happen find store im glad bc never would order onlin petit bought length hit littl knee definit true midi someon truli</td>\n",
              "      <td>5</td>\n",
              "      <td>positive</td>\n",
              "    </tr>\n",
              "    <tr>\n",
              "      <th>2</th>\n",
              "      <td>high hope dress realli want work initi order petit small usual size found outrag fact could zip reorder medium ok overal top half comfort fit nice bottom tight layer sever somewhat cheap net layer imo major design flaw sewn direct zipper c</td>\n",
              "      <td>3</td>\n",
              "      <td>negative</td>\n",
              "    </tr>\n",
              "    <tr>\n",
              "      <th>3</th>\n",
              "      <td>love jumpsuit fun flirti fabul everi time wear get noth great compliment</td>\n",
              "      <td>5</td>\n",
              "      <td>positive</td>\n",
              "    </tr>\n",
              "    <tr>\n",
              "      <th>4</th>\n",
              "      <td>shirt flatter due adjust front tie perfect length wear leg sleeveless pair well cardigan love</td>\n",
              "      <td>5</td>\n",
              "      <td>positive</td>\n",
              "    </tr>\n",
              "  </tbody>\n",
              "</table>\n",
              "</div>\n",
              "      <button class=\"colab-df-convert\" onclick=\"convertToInteractive('df-f4af09d8-4f94-45ae-a31c-0c41c239c2e0')\"\n",
              "              title=\"Convert this dataframe to an interactive table.\"\n",
              "              style=\"display:none;\">\n",
              "        \n",
              "  <svg xmlns=\"http://www.w3.org/2000/svg\" height=\"24px\"viewBox=\"0 0 24 24\"\n",
              "       width=\"24px\">\n",
              "    <path d=\"M0 0h24v24H0V0z\" fill=\"none\"/>\n",
              "    <path d=\"M18.56 5.44l.94 2.06.94-2.06 2.06-.94-2.06-.94-.94-2.06-.94 2.06-2.06.94zm-11 1L8.5 8.5l.94-2.06 2.06-.94-2.06-.94L8.5 2.5l-.94 2.06-2.06.94zm10 10l.94 2.06.94-2.06 2.06-.94-2.06-.94-.94-2.06-.94 2.06-2.06.94z\"/><path d=\"M17.41 7.96l-1.37-1.37c-.4-.4-.92-.59-1.43-.59-.52 0-1.04.2-1.43.59L10.3 9.45l-7.72 7.72c-.78.78-.78 2.05 0 2.83L4 21.41c.39.39.9.59 1.41.59.51 0 1.02-.2 1.41-.59l7.78-7.78 2.81-2.81c.8-.78.8-2.07 0-2.86zM5.41 20L4 18.59l7.72-7.72 1.47 1.35L5.41 20z\"/>\n",
              "  </svg>\n",
              "      </button>\n",
              "      \n",
              "  <style>\n",
              "    .colab-df-container {\n",
              "      display:flex;\n",
              "      flex-wrap:wrap;\n",
              "      gap: 12px;\n",
              "    }\n",
              "\n",
              "    .colab-df-convert {\n",
              "      background-color: #E8F0FE;\n",
              "      border: none;\n",
              "      border-radius: 50%;\n",
              "      cursor: pointer;\n",
              "      display: none;\n",
              "      fill: #1967D2;\n",
              "      height: 32px;\n",
              "      padding: 0 0 0 0;\n",
              "      width: 32px;\n",
              "    }\n",
              "\n",
              "    .colab-df-convert:hover {\n",
              "      background-color: #E2EBFA;\n",
              "      box-shadow: 0px 1px 2px rgba(60, 64, 67, 0.3), 0px 1px 3px 1px rgba(60, 64, 67, 0.15);\n",
              "      fill: #174EA6;\n",
              "    }\n",
              "\n",
              "    [theme=dark] .colab-df-convert {\n",
              "      background-color: #3B4455;\n",
              "      fill: #D2E3FC;\n",
              "    }\n",
              "\n",
              "    [theme=dark] .colab-df-convert:hover {\n",
              "      background-color: #434B5C;\n",
              "      box-shadow: 0px 1px 3px 1px rgba(0, 0, 0, 0.15);\n",
              "      filter: drop-shadow(0px 1px 2px rgba(0, 0, 0, 0.3));\n",
              "      fill: #FFFFFF;\n",
              "    }\n",
              "  </style>\n",
              "\n",
              "      <script>\n",
              "        const buttonEl =\n",
              "          document.querySelector('#df-f4af09d8-4f94-45ae-a31c-0c41c239c2e0 button.colab-df-convert');\n",
              "        buttonEl.style.display =\n",
              "          google.colab.kernel.accessAllowed ? 'block' : 'none';\n",
              "\n",
              "        async function convertToInteractive(key) {\n",
              "          const element = document.querySelector('#df-f4af09d8-4f94-45ae-a31c-0c41c239c2e0');\n",
              "          const dataTable =\n",
              "            await google.colab.kernel.invokeFunction('convertToInteractive',\n",
              "                                                     [key], {});\n",
              "          if (!dataTable) return;\n",
              "\n",
              "          const docLinkHtml = 'Like what you see? Visit the ' +\n",
              "            '<a target=\"_blank\" href=https://colab.research.google.com/notebooks/data_table.ipynb>data table notebook</a>'\n",
              "            + ' to learn more about interactive tables.';\n",
              "          element.innerHTML = '';\n",
              "          dataTable['output_type'] = 'display_data';\n",
              "          await google.colab.output.renderOutput(dataTable, element);\n",
              "          const docLink = document.createElement('div');\n",
              "          docLink.innerHTML = docLinkHtml;\n",
              "          element.appendChild(docLink);\n",
              "        }\n",
              "      </script>\n",
              "    </div>\n",
              "  </div>\n",
              "  "
            ],
            "text/plain": [
              "                                                                                                                                                                                                                                       Review Text  ...  sentiment\n",
              "0  absolut wonder silki sexi comfort                                                                                                                                                                                                                ...  positive \n",
              "1  love dress sooo pretti happen find store im glad bc never would order onlin petit bought length hit littl knee definit true midi someon truli                                                                                                    ...  positive \n",
              "2  high hope dress realli want work initi order petit small usual size found outrag fact could zip reorder medium ok overal top half comfort fit nice bottom tight layer sever somewhat cheap net layer imo major design flaw sewn direct zipper c  ...  negative \n",
              "3  love jumpsuit fun flirti fabul everi time wear get noth great compliment                                                                                                                                                                         ...  positive \n",
              "4  shirt flatter due adjust front tie perfect length wear leg sleeveless pair well cardigan love                                                                                                                                                    ...  positive \n",
              "\n",
              "[5 rows x 3 columns]"
            ]
          },
          "metadata": {},
          "execution_count": 19
        }
      ]
    },
    {
      "cell_type": "code",
      "source": [
        "df_lemma['Review Text'] = df_lemma['Review Text'].apply(lambda x: \" \".join([lm.lemmatize(y) for y in x.split()]))\n",
        "pd.set_option('display.max_colwidth', -1)\n",
        "df_lemma.head()"
      ],
      "metadata": {
        "id": "lp_bzaiDrHlX",
        "colab": {
          "base_uri": "https://localhost:8080/",
          "height": 268
        },
        "outputId": "4ddb8557-dfc4-4ebb-eebc-07ca5a7f4ab8"
      },
      "execution_count": null,
      "outputs": [
        {
          "output_type": "execute_result",
          "data": {
            "text/html": [
              "\n",
              "  <div id=\"df-e09a1548-3f9e-4079-bcd2-d2c8eab1da73\">\n",
              "    <div class=\"colab-df-container\">\n",
              "      <div>\n",
              "<style scoped>\n",
              "    .dataframe tbody tr th:only-of-type {\n",
              "        vertical-align: middle;\n",
              "    }\n",
              "\n",
              "    .dataframe tbody tr th {\n",
              "        vertical-align: top;\n",
              "    }\n",
              "\n",
              "    .dataframe thead th {\n",
              "        text-align: right;\n",
              "    }\n",
              "</style>\n",
              "<table border=\"1\" class=\"dataframe\">\n",
              "  <thead>\n",
              "    <tr style=\"text-align: right;\">\n",
              "      <th></th>\n",
              "      <th>Review Text</th>\n",
              "      <th>Rating</th>\n",
              "      <th>sentiment</th>\n",
              "    </tr>\n",
              "  </thead>\n",
              "  <tbody>\n",
              "    <tr>\n",
              "      <th>0</th>\n",
              "      <td>absolutely wonderful silky sexy comfortable</td>\n",
              "      <td>4</td>\n",
              "      <td>positive</td>\n",
              "    </tr>\n",
              "    <tr>\n",
              "      <th>1</th>\n",
              "      <td>love dress sooo pretty happened find store im glad bc never would ordered online petite bought length hit little knee definitely true midi someone truly</td>\n",
              "      <td>5</td>\n",
              "      <td>positive</td>\n",
              "    </tr>\n",
              "    <tr>\n",
              "      <th>2</th>\n",
              "      <td>high hope dress really wanted work initially ordered petite small usual size found outrageously fact could zip reordered medium ok overall top half comfortable fit nicely bottom tight layer several somewhat cheap net layer imo major design flaw sewn directly zipper c</td>\n",
              "      <td>3</td>\n",
              "      <td>negative</td>\n",
              "    </tr>\n",
              "    <tr>\n",
              "      <th>3</th>\n",
              "      <td>love jumpsuit fun flirty fabulous every time wear get nothing great compliment</td>\n",
              "      <td>5</td>\n",
              "      <td>positive</td>\n",
              "    </tr>\n",
              "    <tr>\n",
              "      <th>4</th>\n",
              "      <td>shirt flattering due adjustable front tie perfect length wear legging sleeveless pair well cardigan love</td>\n",
              "      <td>5</td>\n",
              "      <td>positive</td>\n",
              "    </tr>\n",
              "  </tbody>\n",
              "</table>\n",
              "</div>\n",
              "      <button class=\"colab-df-convert\" onclick=\"convertToInteractive('df-e09a1548-3f9e-4079-bcd2-d2c8eab1da73')\"\n",
              "              title=\"Convert this dataframe to an interactive table.\"\n",
              "              style=\"display:none;\">\n",
              "        \n",
              "  <svg xmlns=\"http://www.w3.org/2000/svg\" height=\"24px\"viewBox=\"0 0 24 24\"\n",
              "       width=\"24px\">\n",
              "    <path d=\"M0 0h24v24H0V0z\" fill=\"none\"/>\n",
              "    <path d=\"M18.56 5.44l.94 2.06.94-2.06 2.06-.94-2.06-.94-.94-2.06-.94 2.06-2.06.94zm-11 1L8.5 8.5l.94-2.06 2.06-.94-2.06-.94L8.5 2.5l-.94 2.06-2.06.94zm10 10l.94 2.06.94-2.06 2.06-.94-2.06-.94-.94-2.06-.94 2.06-2.06.94z\"/><path d=\"M17.41 7.96l-1.37-1.37c-.4-.4-.92-.59-1.43-.59-.52 0-1.04.2-1.43.59L10.3 9.45l-7.72 7.72c-.78.78-.78 2.05 0 2.83L4 21.41c.39.39.9.59 1.41.59.51 0 1.02-.2 1.41-.59l7.78-7.78 2.81-2.81c.8-.78.8-2.07 0-2.86zM5.41 20L4 18.59l7.72-7.72 1.47 1.35L5.41 20z\"/>\n",
              "  </svg>\n",
              "      </button>\n",
              "      \n",
              "  <style>\n",
              "    .colab-df-container {\n",
              "      display:flex;\n",
              "      flex-wrap:wrap;\n",
              "      gap: 12px;\n",
              "    }\n",
              "\n",
              "    .colab-df-convert {\n",
              "      background-color: #E8F0FE;\n",
              "      border: none;\n",
              "      border-radius: 50%;\n",
              "      cursor: pointer;\n",
              "      display: none;\n",
              "      fill: #1967D2;\n",
              "      height: 32px;\n",
              "      padding: 0 0 0 0;\n",
              "      width: 32px;\n",
              "    }\n",
              "\n",
              "    .colab-df-convert:hover {\n",
              "      background-color: #E2EBFA;\n",
              "      box-shadow: 0px 1px 2px rgba(60, 64, 67, 0.3), 0px 1px 3px 1px rgba(60, 64, 67, 0.15);\n",
              "      fill: #174EA6;\n",
              "    }\n",
              "\n",
              "    [theme=dark] .colab-df-convert {\n",
              "      background-color: #3B4455;\n",
              "      fill: #D2E3FC;\n",
              "    }\n",
              "\n",
              "    [theme=dark] .colab-df-convert:hover {\n",
              "      background-color: #434B5C;\n",
              "      box-shadow: 0px 1px 3px 1px rgba(0, 0, 0, 0.15);\n",
              "      filter: drop-shadow(0px 1px 2px rgba(0, 0, 0, 0.3));\n",
              "      fill: #FFFFFF;\n",
              "    }\n",
              "  </style>\n",
              "\n",
              "      <script>\n",
              "        const buttonEl =\n",
              "          document.querySelector('#df-e09a1548-3f9e-4079-bcd2-d2c8eab1da73 button.colab-df-convert');\n",
              "        buttonEl.style.display =\n",
              "          google.colab.kernel.accessAllowed ? 'block' : 'none';\n",
              "\n",
              "        async function convertToInteractive(key) {\n",
              "          const element = document.querySelector('#df-e09a1548-3f9e-4079-bcd2-d2c8eab1da73');\n",
              "          const dataTable =\n",
              "            await google.colab.kernel.invokeFunction('convertToInteractive',\n",
              "                                                     [key], {});\n",
              "          if (!dataTable) return;\n",
              "\n",
              "          const docLinkHtml = 'Like what you see? Visit the ' +\n",
              "            '<a target=\"_blank\" href=https://colab.research.google.com/notebooks/data_table.ipynb>data table notebook</a>'\n",
              "            + ' to learn more about interactive tables.';\n",
              "          element.innerHTML = '';\n",
              "          dataTable['output_type'] = 'display_data';\n",
              "          await google.colab.output.renderOutput(dataTable, element);\n",
              "          const docLink = document.createElement('div');\n",
              "          docLink.innerHTML = docLinkHtml;\n",
              "          element.appendChild(docLink);\n",
              "        }\n",
              "      </script>\n",
              "    </div>\n",
              "  </div>\n",
              "  "
            ],
            "text/plain": [
              "                                                                                                                                                                                                                                                                   Review Text  ...  sentiment\n",
              "0  absolutely wonderful silky sexy comfortable                                                                                                                                                                                                                                  ...  positive \n",
              "1  love dress sooo pretty happened find store im glad bc never would ordered online petite bought length hit little knee definitely true midi someone truly                                                                                                                     ...  positive \n",
              "2  high hope dress really wanted work initially ordered petite small usual size found outrageously fact could zip reordered medium ok overall top half comfortable fit nicely bottom tight layer several somewhat cheap net layer imo major design flaw sewn directly zipper c  ...  negative \n",
              "3  love jumpsuit fun flirty fabulous every time wear get nothing great compliment                                                                                                                                                                                               ...  positive \n",
              "4  shirt flattering due adjustable front tie perfect length wear legging sleeveless pair well cardigan love                                                                                                                                                                     ...  positive \n",
              "\n",
              "[5 rows x 3 columns]"
            ]
          },
          "metadata": {},
          "execution_count": 20
        }
      ]
    },
    {
      "cell_type": "markdown",
      "source": [
        "From the results obtained above, we decided to only follow up on two datasets, the stemmed and the dilemmatized."
      ],
      "metadata": {
        "id": "fcrMC6F54Cy3"
      }
    },
    {
      "cell_type": "code",
      "source": [
        "#change label value\n",
        "df_lemma['sentiment'] = df_lemma['sentiment'].replace({'negative':  0, 'positive': 1})\n",
        "df_stem2['sentiment'] = df_stem2['sentiment'].replace({'negative':  0, 'positive': 1})"
      ],
      "metadata": {
        "id": "pVCrJAALc6cJ"
      },
      "execution_count": null,
      "outputs": []
    },
    {
      "cell_type": "markdown",
      "source": [
        "## Pre-Processing\n",
        "\n",
        "`skip = dataset without stem & lemma`\n",
        "\n",
        "`df_stem = dataset with stem`\n",
        "\n",
        "`df_lemma = dataset with lemma`\n",
        "\n",
        "`df_both1 = dataset with stem & lemma`"
      ],
      "metadata": {
        "id": "uLLZXInl2kaA"
      }
    },
    {
      "cell_type": "markdown",
      "source": [
        "### Under Sampling to Equalize Dataset"
      ],
      "metadata": {
        "id": "LB1M46TObP36"
      }
    },
    {
      "cell_type": "code",
      "source": [
        "#target distribution based on sentiment\n",
        "print(sns.countplot(skip['sentiment'], data=skip))\n",
        "print(skip['sentiment'].value_counts())"
      ],
      "metadata": {
        "colab": {
          "base_uri": "https://localhost:8080/",
          "height": 348
        },
        "id": "dnxDnfZFYoau",
        "outputId": "ef7fbf11-b5a0-48fc-8c53-8bec12fb8363"
      },
      "execution_count": null,
      "outputs": [
        {
          "output_type": "stream",
          "name": "stdout",
          "text": [
            "AxesSubplot(0.125,0.125;0.775x0.755)\n",
            "positive    17448\n",
            "negative    5193 \n",
            "Name: sentiment, dtype: int64\n"
          ]
        },
        {
          "output_type": "display_data",
          "data": {
            "image/png": "[encoded data removed]",
            "text/plain": [
              "<Figure size 432x288 with 1 Axes>"
            ]
          },
          "metadata": {
            "needs_background": "light"
          }
        }
      ]
    },
    {
      "cell_type": "markdown",
      "source": [
        "Balanced Data with Stem"
      ],
      "metadata": {
        "id": "1sP9eWNw2rUC"
      }
    },
    {
      "cell_type": "code",
      "source": [
        "#dataset with balanced amount of target label using sample\n",
        "s0 = df_stem2.sentiment[df_stem2.sentiment.eq(0)].sample(5000).index\n",
        "s1 = df_stem2.sentiment[df_stem2.sentiment.eq(1)].sample(5000).index \n",
        "\n",
        "balanced_stem = df_stem2.loc[s0.union(s1)].reset_index()\n",
        "print(balanced_stem.shape)\n",
        "balanced_stem.head()"
      ],
      "metadata": {
        "colab": {
          "base_uri": "https://localhost:8080/",
          "height": 302
        },
        "id": "A1rD36noiUNZ",
        "outputId": "920f78f0-97cd-4842-e306-afbda6ee5ea1"
      },
      "execution_count": null,
      "outputs": [
        {
          "output_type": "stream",
          "name": "stdout",
          "text": [
            "(10000, 4)\n"
          ]
        },
        {
          "output_type": "execute_result",
          "data": {
            "text/html": [
              "\n",
              "  <div id=\"df-7f7df392-f1ab-4fb1-9800-1cec22dd2552\">\n",
              "    <div class=\"colab-df-container\">\n",
              "      <div>\n",
              "<style scoped>\n",
              "    .dataframe tbody tr th:only-of-type {\n",
              "        vertical-align: middle;\n",
              "    }\n",
              "\n",
              "    .dataframe tbody tr th {\n",
              "        vertical-align: top;\n",
              "    }\n",
              "\n",
              "    .dataframe thead th {\n",
              "        text-align: right;\n",
              "    }\n",
              "</style>\n",
              "<table border=\"1\" class=\"dataframe\">\n",
              "  <thead>\n",
              "    <tr style=\"text-align: right;\">\n",
              "      <th></th>\n",
              "      <th>index</th>\n",
              "      <th>Review Text</th>\n",
              "      <th>Rating</th>\n",
              "      <th>sentiment</th>\n",
              "    </tr>\n",
              "  </thead>\n",
              "  <tbody>\n",
              "    <tr>\n",
              "      <th>0</th>\n",
              "      <td>2</td>\n",
              "      <td>high hope dress realli want work initi order petit small usual size found outrag fact could zip reorder medium ok overal top half comfort fit nice bottom tight layer sever somewhat cheap net layer imo major design flaw sewn direct zipper c</td>\n",
              "      <td>3</td>\n",
              "      <td>0</td>\n",
              "    </tr>\n",
              "    <tr>\n",
              "      <th>1</th>\n",
              "      <td>5</td>\n",
              "      <td>love traci rees dress one petit feet tall usual wear p brand dress pretti packag lot skirt long full overwhelm small frame stranger alter shorten narrow would take away embellish garment color idea style work return</td>\n",
              "      <td>2</td>\n",
              "      <td>0</td>\n",
              "    </tr>\n",
              "    <tr>\n",
              "      <th>2</th>\n",
              "      <td>9</td>\n",
              "      <td>im lbs order petit make sure length wasnt long typic wear xs regular retail dress your less busti b cup smaller fit perfect snug tight love could dress parti work tull longer fabric underneath</td>\n",
              "      <td>5</td>\n",
              "      <td>1</td>\n",
              "    </tr>\n",
              "    <tr>\n",
              "      <th>3</th>\n",
              "      <td>10</td>\n",
              "      <td>dress run small esp zipper area order sp typic fit tight materi top look feel cheap even pull caus rip fabric pretti disappoint go christma year needless say back</td>\n",
              "      <td>3</td>\n",
              "      <td>0</td>\n",
              "    </tr>\n",
              "    <tr>\n",
              "      <th>4</th>\n",
              "      <td>16</td>\n",
              "      <td>materi color nice leg open larg length hit right ankl size waist hem line front pleat make fluffi think imagin flatter look least averag height taller may good</td>\n",
              "      <td>3</td>\n",
              "      <td>0</td>\n",
              "    </tr>\n",
              "  </tbody>\n",
              "</table>\n",
              "</div>\n",
              "      <button class=\"colab-df-convert\" onclick=\"convertToInteractive('df-7f7df392-f1ab-4fb1-9800-1cec22dd2552')\"\n",
              "              title=\"Convert this dataframe to an interactive table.\"\n",
              "              style=\"display:none;\">\n",
              "        \n",
              "  <svg xmlns=\"http://www.w3.org/2000/svg\" height=\"24px\"viewBox=\"0 0 24 24\"\n",
              "       width=\"24px\">\n",
              "    <path d=\"M0 0h24v24H0V0z\" fill=\"none\"/>\n",
              "    <path d=\"M18.56 5.44l.94 2.06.94-2.06 2.06-.94-2.06-.94-.94-2.06-.94 2.06-2.06.94zm-11 1L8.5 8.5l.94-2.06 2.06-.94-2.06-.94L8.5 2.5l-.94 2.06-2.06.94zm10 10l.94 2.06.94-2.06 2.06-.94-2.06-.94-.94-2.06-.94 2.06-2.06.94z\"/><path d=\"M17.41 7.96l-1.37-1.37c-.4-.4-.92-.59-1.43-.59-.52 0-1.04.2-1.43.59L10.3 9.45l-7.72 7.72c-.78.78-.78 2.05 0 2.83L4 21.41c.39.39.9.59 1.41.59.51 0 1.02-.2 1.41-.59l7.78-7.78 2.81-2.81c.8-.78.8-2.07 0-2.86zM5.41 20L4 18.59l7.72-7.72 1.47 1.35L5.41 20z\"/>\n",
              "  </svg>\n",
              "      </button>\n",
              "      \n",
              "  <style>\n",
              "    .colab-df-container {\n",
              "      display:flex;\n",
              "      flex-wrap:wrap;\n",
              "      gap: 12px;\n",
              "    }\n",
              "\n",
              "    .colab-df-convert {\n",
              "      background-color: #E8F0FE;\n",
              "      border: none;\n",
              "      border-radius: 50%;\n",
              "      cursor: pointer;\n",
              "      display: none;\n",
              "      fill: #1967D2;\n",
              "      height: 32px;\n",
              "      padding: 0 0 0 0;\n",
              "      width: 32px;\n",
              "    }\n",
              "\n",
              "    .colab-df-convert:hover {\n",
              "      background-color: #E2EBFA;\n",
              "      box-shadow: 0px 1px 2px rgba(60, 64, 67, 0.3), 0px 1px 3px 1px rgba(60, 64, 67, 0.15);\n",
              "      fill: #174EA6;\n",
              "    }\n",
              "\n",
              "    [theme=dark] .colab-df-convert {\n",
              "      background-color: #3B4455;\n",
              "      fill: #D2E3FC;\n",
              "    }\n",
              "\n",
              "    [theme=dark] .colab-df-convert:hover {\n",
              "      background-color: #434B5C;\n",
              "      box-shadow: 0px 1px 3px 1px rgba(0, 0, 0, 0.15);\n",
              "      filter: drop-shadow(0px 1px 2px rgba(0, 0, 0, 0.3));\n",
              "      fill: #FFFFFF;\n",
              "    }\n",
              "  </style>\n",
              "\n",
              "      <script>\n",
              "        const buttonEl =\n",
              "          document.querySelector('#df-7f7df392-f1ab-4fb1-9800-1cec22dd2552 button.colab-df-convert');\n",
              "        buttonEl.style.display =\n",
              "          google.colab.kernel.accessAllowed ? 'block' : 'none';\n",
              "\n",
              "        async function convertToInteractive(key) {\n",
              "          const element = document.querySelector('#df-7f7df392-f1ab-4fb1-9800-1cec22dd2552');\n",
              "          const dataTable =\n",
              "            await google.colab.kernel.invokeFunction('convertToInteractive',\n",
              "                                                     [key], {});\n",
              "          if (!dataTable) return;\n",
              "\n",
              "          const docLinkHtml = 'Like what you see? Visit the ' +\n",
              "            '<a target=\"_blank\" href=https://colab.research.google.com/notebooks/data_table.ipynb>data table notebook</a>'\n",
              "            + ' to learn more about interactive tables.';\n",
              "          element.innerHTML = '';\n",
              "          dataTable['output_type'] = 'display_data';\n",
              "          await google.colab.output.renderOutput(dataTable, element);\n",
              "          const docLink = document.createElement('div');\n",
              "          docLink.innerHTML = docLinkHtml;\n",
              "          element.appendChild(docLink);\n",
              "        }\n",
              "      </script>\n",
              "    </div>\n",
              "  </div>\n",
              "  "
            ],
            "text/plain": [
              "   index  ... sentiment\n",
              "0  2      ...  0       \n",
              "1  5      ...  0       \n",
              "2  9      ...  1       \n",
              "3  10     ...  0       \n",
              "4  16     ...  0       \n",
              "\n",
              "[5 rows x 4 columns]"
            ]
          },
          "metadata": {},
          "execution_count": 23
        }
      ]
    },
    {
      "cell_type": "code",
      "source": [
        "#balanced_stem.to_csv('balanced_stem.csv')"
      ],
      "metadata": {
        "id": "ZsKMJDLBsZdn"
      },
      "execution_count": null,
      "outputs": []
    },
    {
      "cell_type": "code",
      "source": [
        "balanced_stem = pd.read_csv('/content/balanced_stem.csv')\n",
        "balanced_stem.head()"
      ],
      "metadata": {
        "id": "xXk4WeTo3B4D",
        "colab": {
          "base_uri": "https://localhost:8080/",
          "height": 206
        },
        "outputId": "133f6d87-33f9-4586-b634-4268556f786b"
      },
      "execution_count": null,
      "outputs": [
        {
          "output_type": "execute_result",
          "data": {
            "text/html": [
              "\n",
              "  <div id=\"df-d9cb0e17-fc40-40d6-8fce-c9442393ee88\">\n",
              "    <div class=\"colab-df-container\">\n",
              "      <div>\n",
              "<style scoped>\n",
              "    .dataframe tbody tr th:only-of-type {\n",
              "        vertical-align: middle;\n",
              "    }\n",
              "\n",
              "    .dataframe tbody tr th {\n",
              "        vertical-align: top;\n",
              "    }\n",
              "\n",
              "    .dataframe thead th {\n",
              "        text-align: right;\n",
              "    }\n",
              "</style>\n",
              "<table border=\"1\" class=\"dataframe\">\n",
              "  <thead>\n",
              "    <tr style=\"text-align: right;\">\n",
              "      <th></th>\n",
              "      <th>Unnamed: 0</th>\n",
              "      <th>index</th>\n",
              "      <th>Review Text</th>\n",
              "      <th>Rating</th>\n",
              "      <th>sentiment</th>\n",
              "    </tr>\n",
              "  </thead>\n",
              "  <tbody>\n",
              "    <tr>\n",
              "      <th>0</th>\n",
              "      <td>0</td>\n",
              "      <td>2</td>\n",
              "      <td>high hope dress realli want work initi order p...</td>\n",
              "      <td>3</td>\n",
              "      <td>0</td>\n",
              "    </tr>\n",
              "    <tr>\n",
              "      <th>1</th>\n",
              "      <td>1</td>\n",
              "      <td>4</td>\n",
              "      <td>shirt flatter due adjust front tie perfect len...</td>\n",
              "      <td>5</td>\n",
              "      <td>1</td>\n",
              "    </tr>\n",
              "    <tr>\n",
              "      <th>2</th>\n",
              "      <td>2</td>\n",
              "      <td>5</td>\n",
              "      <td>love traci rees dress one petit feet tall usua...</td>\n",
              "      <td>2</td>\n",
              "      <td>0</td>\n",
              "    </tr>\n",
              "    <tr>\n",
              "      <th>3</th>\n",
              "      <td>3</td>\n",
              "      <td>8</td>\n",
              "      <td>love dress usual get xs run littl snug bust or...</td>\n",
              "      <td>5</td>\n",
              "      <td>1</td>\n",
              "    </tr>\n",
              "    <tr>\n",
              "      <th>4</th>\n",
              "      <td>4</td>\n",
              "      <td>10</td>\n",
              "      <td>dress run small esp zipper area order sp typic...</td>\n",
              "      <td>3</td>\n",
              "      <td>0</td>\n",
              "    </tr>\n",
              "  </tbody>\n",
              "</table>\n",
              "</div>\n",
              "      <button class=\"colab-df-convert\" onclick=\"convertToInteractive('df-d9cb0e17-fc40-40d6-8fce-c9442393ee88')\"\n",
              "              title=\"Convert this dataframe to an interactive table.\"\n",
              "              style=\"display:none;\">\n",
              "        \n",
              "  <svg xmlns=\"http://www.w3.org/2000/svg\" height=\"24px\"viewBox=\"0 0 24 24\"\n",
              "       width=\"24px\">\n",
              "    <path d=\"M0 0h24v24H0V0z\" fill=\"none\"/>\n",
              "    <path d=\"M18.56 5.44l.94 2.06.94-2.06 2.06-.94-2.06-.94-.94-2.06-.94 2.06-2.06.94zm-11 1L8.5 8.5l.94-2.06 2.06-.94-2.06-.94L8.5 2.5l-.94 2.06-2.06.94zm10 10l.94 2.06.94-2.06 2.06-.94-2.06-.94-.94-2.06-.94 2.06-2.06.94z\"/><path d=\"M17.41 7.96l-1.37-1.37c-.4-.4-.92-.59-1.43-.59-.52 0-1.04.2-1.43.59L10.3 9.45l-7.72 7.72c-.78.78-.78 2.05 0 2.83L4 21.41c.39.39.9.59 1.41.59.51 0 1.02-.2 1.41-.59l7.78-7.78 2.81-2.81c.8-.78.8-2.07 0-2.86zM5.41 20L4 18.59l7.72-7.72 1.47 1.35L5.41 20z\"/>\n",
              "  </svg>\n",
              "      </button>\n",
              "      \n",
              "  <style>\n",
              "    .colab-df-container {\n",
              "      display:flex;\n",
              "      flex-wrap:wrap;\n",
              "      gap: 12px;\n",
              "    }\n",
              "\n",
              "    .colab-df-convert {\n",
              "      background-color: #E8F0FE;\n",
              "      border: none;\n",
              "      border-radius: 50%;\n",
              "      cursor: pointer;\n",
              "      display: none;\n",
              "      fill: #1967D2;\n",
              "      height: 32px;\n",
              "      padding: 0 0 0 0;\n",
              "      width: 32px;\n",
              "    }\n",
              "\n",
              "    .colab-df-convert:hover {\n",
              "      background-color: #E2EBFA;\n",
              "      box-shadow: 0px 1px 2px rgba(60, 64, 67, 0.3), 0px 1px 3px 1px rgba(60, 64, 67, 0.15);\n",
              "      fill: #174EA6;\n",
              "    }\n",
              "\n",
              "    [theme=dark] .colab-df-convert {\n",
              "      background-color: #3B4455;\n",
              "      fill: #D2E3FC;\n",
              "    }\n",
              "\n",
              "    [theme=dark] .colab-df-convert:hover {\n",
              "      background-color: #434B5C;\n",
              "      box-shadow: 0px 1px 3px 1px rgba(0, 0, 0, 0.15);\n",
              "      filter: drop-shadow(0px 1px 2px rgba(0, 0, 0, 0.3));\n",
              "      fill: #FFFFFF;\n",
              "    }\n",
              "  </style>\n",
              "\n",
              "      <script>\n",
              "        const buttonEl =\n",
              "          document.querySelector('#df-d9cb0e17-fc40-40d6-8fce-c9442393ee88 button.colab-df-convert');\n",
              "        buttonEl.style.display =\n",
              "          google.colab.kernel.accessAllowed ? 'block' : 'none';\n",
              "\n",
              "        async function convertToInteractive(key) {\n",
              "          const element = document.querySelector('#df-d9cb0e17-fc40-40d6-8fce-c9442393ee88');\n",
              "          const dataTable =\n",
              "            await google.colab.kernel.invokeFunction('convertToInteractive',\n",
              "                                                     [key], {});\n",
              "          if (!dataTable) return;\n",
              "\n",
              "          const docLinkHtml = 'Like what you see? Visit the ' +\n",
              "            '<a target=\"_blank\" href=https://colab.research.google.com/notebooks/data_table.ipynb>data table notebook</a>'\n",
              "            + ' to learn more about interactive tables.';\n",
              "          element.innerHTML = '';\n",
              "          dataTable['output_type'] = 'display_data';\n",
              "          await google.colab.output.renderOutput(dataTable, element);\n",
              "          const docLink = document.createElement('div');\n",
              "          docLink.innerHTML = docLinkHtml;\n",
              "          element.appendChild(docLink);\n",
              "        }\n",
              "      </script>\n",
              "    </div>\n",
              "  </div>\n",
              "  "
            ],
            "text/plain": [
              "   Unnamed: 0  index  ... Rating  sentiment\n",
              "0           0      2  ...      3          0\n",
              "1           1      4  ...      5          1\n",
              "2           2      5  ...      2          0\n",
              "3           3      8  ...      5          1\n",
              "4           4     10  ...      3          0\n",
              "\n",
              "[5 rows x 5 columns]"
            ]
          },
          "metadata": {},
          "execution_count": 4
        }
      ]
    },
    {
      "cell_type": "markdown",
      "source": [
        "Balanced Data with Lemma"
      ],
      "metadata": {
        "id": "AXQKdjg92vx6"
      }
    },
    {
      "cell_type": "code",
      "source": [
        "#dataset with balanced amount of target label using sample\n",
        "s0 = df_lemma.sentiment[df_lemma.sentiment.eq(0)].sample(5000).index\n",
        "s1 = df_lemma.sentiment[df_lemma.sentiment.eq(1)].sample(5000).index \n",
        "\n",
        "balanced_lemma = df_lemma.loc[s0.union(s1)].reset_index()\n",
        "print(balanced_lemma.shape)\n",
        "balanced_lemma.head()"
      ],
      "metadata": {
        "id": "8UnKU2w_ZS5U"
      },
      "execution_count": null,
      "outputs": []
    },
    {
      "cell_type": "code",
      "source": [
        "#balanced_lemma.to_csv('balanced_lemma.csv')"
      ],
      "metadata": {
        "id": "BWyjvUZ7f3e2"
      },
      "execution_count": null,
      "outputs": []
    },
    {
      "cell_type": "code",
      "source": [
        "balanced_lemma = pd.read_csv('/content/balanced_lemma.csv')\n",
        "balanced_lemma.head()"
      ],
      "metadata": {
        "id": "Qikr19PWa3nG",
        "colab": {
          "base_uri": "https://localhost:8080/",
          "height": 206
        },
        "outputId": "1abef9ee-2029-450d-a938-8a014ad1f569"
      },
      "execution_count": null,
      "outputs": [
        {
          "output_type": "execute_result",
          "data": {
            "text/html": [
              "\n",
              "  <div id=\"df-d265e955-b9e1-4980-ba82-6e69956e1aa2\">\n",
              "    <div class=\"colab-df-container\">\n",
              "      <div>\n",
              "<style scoped>\n",
              "    .dataframe tbody tr th:only-of-type {\n",
              "        vertical-align: middle;\n",
              "    }\n",
              "\n",
              "    .dataframe tbody tr th {\n",
              "        vertical-align: top;\n",
              "    }\n",
              "\n",
              "    .dataframe thead th {\n",
              "        text-align: right;\n",
              "    }\n",
              "</style>\n",
              "<table border=\"1\" class=\"dataframe\">\n",
              "  <thead>\n",
              "    <tr style=\"text-align: right;\">\n",
              "      <th></th>\n",
              "      <th>Unnamed: 0</th>\n",
              "      <th>index</th>\n",
              "      <th>Review Text</th>\n",
              "      <th>Rating</th>\n",
              "      <th>sentiment</th>\n",
              "    </tr>\n",
              "  </thead>\n",
              "  <tbody>\n",
              "    <tr>\n",
              "      <th>0</th>\n",
              "      <td>0</td>\n",
              "      <td>2</td>\n",
              "      <td>high hope dress really wanted work initially o...</td>\n",
              "      <td>3</td>\n",
              "      <td>0</td>\n",
              "    </tr>\n",
              "    <tr>\n",
              "      <th>1</th>\n",
              "      <td>1</td>\n",
              "      <td>3</td>\n",
              "      <td>love jumpsuit fun flirty fabulous every time w...</td>\n",
              "      <td>5</td>\n",
              "      <td>1</td>\n",
              "    </tr>\n",
              "    <tr>\n",
              "      <th>2</th>\n",
              "      <td>2</td>\n",
              "      <td>5</td>\n",
              "      <td>love tracy reese dress one petite foot tall us...</td>\n",
              "      <td>2</td>\n",
              "      <td>0</td>\n",
              "    </tr>\n",
              "    <tr>\n",
              "      <th>3</th>\n",
              "      <td>3</td>\n",
              "      <td>6</td>\n",
              "      <td>aded basket hte last mintue see would look lik...</td>\n",
              "      <td>5</td>\n",
              "      <td>1</td>\n",
              "    </tr>\n",
              "    <tr>\n",
              "      <th>4</th>\n",
              "      <td>4</td>\n",
              "      <td>10</td>\n",
              "      <td>dress run small esp zipper area ordered sp typ...</td>\n",
              "      <td>3</td>\n",
              "      <td>0</td>\n",
              "    </tr>\n",
              "  </tbody>\n",
              "</table>\n",
              "</div>\n",
              "      <button class=\"colab-df-convert\" onclick=\"convertToInteractive('df-d265e955-b9e1-4980-ba82-6e69956e1aa2')\"\n",
              "              title=\"Convert this dataframe to an interactive table.\"\n",
              "              style=\"display:none;\">\n",
              "        \n",
              "  <svg xmlns=\"http://www.w3.org/2000/svg\" height=\"24px\"viewBox=\"0 0 24 24\"\n",
              "       width=\"24px\">\n",
              "    <path d=\"M0 0h24v24H0V0z\" fill=\"none\"/>\n",
              "    <path d=\"M18.56 5.44l.94 2.06.94-2.06 2.06-.94-2.06-.94-.94-2.06-.94 2.06-2.06.94zm-11 1L8.5 8.5l.94-2.06 2.06-.94-2.06-.94L8.5 2.5l-.94 2.06-2.06.94zm10 10l.94 2.06.94-2.06 2.06-.94-2.06-.94-.94-2.06-.94 2.06-2.06.94z\"/><path d=\"M17.41 7.96l-1.37-1.37c-.4-.4-.92-.59-1.43-.59-.52 0-1.04.2-1.43.59L10.3 9.45l-7.72 7.72c-.78.78-.78 2.05 0 2.83L4 21.41c.39.39.9.59 1.41.59.51 0 1.02-.2 1.41-.59l7.78-7.78 2.81-2.81c.8-.78.8-2.07 0-2.86zM5.41 20L4 18.59l7.72-7.72 1.47 1.35L5.41 20z\"/>\n",
              "  </svg>\n",
              "      </button>\n",
              "      \n",
              "  <style>\n",
              "    .colab-df-container {\n",
              "      display:flex;\n",
              "      flex-wrap:wrap;\n",
              "      gap: 12px;\n",
              "    }\n",
              "\n",
              "    .colab-df-convert {\n",
              "      background-color: #E8F0FE;\n",
              "      border: none;\n",
              "      border-radius: 50%;\n",
              "      cursor: pointer;\n",
              "      display: none;\n",
              "      fill: #1967D2;\n",
              "      height: 32px;\n",
              "      padding: 0 0 0 0;\n",
              "      width: 32px;\n",
              "    }\n",
              "\n",
              "    .colab-df-convert:hover {\n",
              "      background-color: #E2EBFA;\n",
              "      box-shadow: 0px 1px 2px rgba(60, 64, 67, 0.3), 0px 1px 3px 1px rgba(60, 64, 67, 0.15);\n",
              "      fill: #174EA6;\n",
              "    }\n",
              "\n",
              "    [theme=dark] .colab-df-convert {\n",
              "      background-color: #3B4455;\n",
              "      fill: #D2E3FC;\n",
              "    }\n",
              "\n",
              "    [theme=dark] .colab-df-convert:hover {\n",
              "      background-color: #434B5C;\n",
              "      box-shadow: 0px 1px 3px 1px rgba(0, 0, 0, 0.15);\n",
              "      filter: drop-shadow(0px 1px 2px rgba(0, 0, 0, 0.3));\n",
              "      fill: #FFFFFF;\n",
              "    }\n",
              "  </style>\n",
              "\n",
              "      <script>\n",
              "        const buttonEl =\n",
              "          document.querySelector('#df-d265e955-b9e1-4980-ba82-6e69956e1aa2 button.colab-df-convert');\n",
              "        buttonEl.style.display =\n",
              "          google.colab.kernel.accessAllowed ? 'block' : 'none';\n",
              "\n",
              "        async function convertToInteractive(key) {\n",
              "          const element = document.querySelector('#df-d265e955-b9e1-4980-ba82-6e69956e1aa2');\n",
              "          const dataTable =\n",
              "            await google.colab.kernel.invokeFunction('convertToInteractive',\n",
              "                                                     [key], {});\n",
              "          if (!dataTable) return;\n",
              "\n",
              "          const docLinkHtml = 'Like what you see? Visit the ' +\n",
              "            '<a target=\"_blank\" href=https://colab.research.google.com/notebooks/data_table.ipynb>data table notebook</a>'\n",
              "            + ' to learn more about interactive tables.';\n",
              "          element.innerHTML = '';\n",
              "          dataTable['output_type'] = 'display_data';\n",
              "          await google.colab.output.renderOutput(dataTable, element);\n",
              "          const docLink = document.createElement('div');\n",
              "          docLink.innerHTML = docLinkHtml;\n",
              "          element.appendChild(docLink);\n",
              "        }\n",
              "      </script>\n",
              "    </div>\n",
              "  </div>\n",
              "  "
            ],
            "text/plain": [
              "   Unnamed: 0  index  ... Rating  sentiment\n",
              "0           0      2  ...      3          0\n",
              "1           1      3  ...      5          1\n",
              "2           2      5  ...      2          0\n",
              "3           3      6  ...      5          1\n",
              "4           4     10  ...      3          0\n",
              "\n",
              "[5 rows x 5 columns]"
            ]
          },
          "metadata": {},
          "execution_count": 5
        }
      ]
    },
    {
      "cell_type": "markdown",
      "source": [
        "### Dataset Split"
      ],
      "metadata": {
        "id": "2LNDWH10bfYU"
      }
    },
    {
      "cell_type": "code",
      "source": [
        "#split data for balanced_stem data with lemma\n",
        "X_balanced_stem = balanced_stem['Review Text']\n",
        "y_balanced_stem = balanced_stem['sentiment']\n",
        "\n",
        "#first split into X_train and X_remaining 75:25\n",
        "X_train_balance_stem, X_rem_balance_stem, y_train_balance_stem, y_rem_balance_stem = train_test_split(X_balanced_stem, y_balanced_stem, train_size=0.75, random_state=17)\n",
        "\n",
        "#second split. from X_remain to X_val+X_test\n",
        "X_val_balance_stem, X_test_balance_stem, y_val_balance_stem, y_test_balance_stem = train_test_split(X_rem_balance_stem, y_rem_balance_stem, test_size=0.5, random_state=17)"
      ],
      "metadata": {
        "id": "DyDZCuxSi4Hq"
      },
      "execution_count": null,
      "outputs": []
    },
    {
      "cell_type": "code",
      "source": [
        "#split data for balanced data with lemma\n",
        "X_balanced_lemma = balanced_lemma['Review Text']\n",
        "y_balanced_lemma = balanced_lemma['sentiment']\n",
        "\n",
        "#first split into X_train and X_remaining 75:25\n",
        "X_train_balance_lemma, X_rem_balance_lemma, y_train_balance_lemma, y_rem_balance_lemma = train_test_split(X_balanced_lemma, y_balanced_lemma, train_size=0.75, random_state=17)\n",
        "\n",
        "#second split. from X_remain to X_val+X_test\n",
        "X_val_balance_lemma, X_test_balance_lemma, y_val_balance_lemma, y_test_balance_lemma = train_test_split(X_rem_balance_lemma, y_rem_balance_lemma, test_size=0.5, random_state=17)"
      ],
      "metadata": {
        "id": "E6gQl1zeIpoI"
      },
      "execution_count": null,
      "outputs": []
    },
    {
      "cell_type": "markdown",
      "source": [
        "### Token Layer & Embed Layer"
      ],
      "metadata": {
        "id": "tWfh9oGIWJiR"
      }
    },
    {
      "cell_type": "code",
      "source": [
        "#numbers for max_length\n",
        "num_length = round(sum([len(i.split()) for i in X_train_balance_stem])/len(X_train_balance_stem))\n",
        "num_length"
      ],
      "metadata": {
        "colab": {
          "base_uri": "https://localhost:8080/"
        },
        "id": "9v69LphKhKU7",
        "outputId": "31453f11-afd5-4bee-c376-734108e23f5e"
      },
      "execution_count": null,
      "outputs": [
        {
          "output_type": "execute_result",
          "data": {
            "text/plain": [
              "27"
            ]
          },
          "metadata": {},
          "execution_count": 8
        }
      ]
    },
    {
      "cell_type": "code",
      "source": [
        "#numbers for max_length\n",
        "num_length = round(sum([len(i.split()) for i in X_train_balance_lemma])/len(X_train_balance_lemma))\n",
        "num_length"
      ],
      "metadata": {
        "colab": {
          "base_uri": "https://localhost:8080/"
        },
        "id": "eX5iPX6ud5l1",
        "outputId": "893dbb70-6700-4e72-9538-c606c502f61a"
      },
      "execution_count": null,
      "outputs": [
        {
          "output_type": "execute_result",
          "data": {
            "text/plain": [
              "27"
            ]
          },
          "metadata": {},
          "execution_count": 9
        }
      ]
    },
    {
      "cell_type": "code",
      "execution_count": null,
      "metadata": {
        "id": "BpN-_tRqKUUK"
      },
      "outputs": [],
      "source": [
        "# setup text vect\n",
        "#if we set max vocab to 100.000, max amount number of vocab will be 15574, so we'll be set only at 10000 vocab\n",
        "max_vocab_length = 10000\n",
        "max_length = num_length\n",
        "\n",
        "text_vectorization = TextVectorization(max_tokens=max_vocab_length,\n",
        "                                       standardize=\"lower_and_strip_punctuation\",\n",
        "                                       split=\"whitespace\",\n",
        "                                       ngrams=None,\n",
        "                                       output_mode='int',\n",
        "                                       output_sequence_length=max_length)"
      ]
    },
    {
      "cell_type": "code",
      "source": [
        "output_dim = 64\n",
        "\n",
        "embedding = layers.Embedding(input_dim=max_vocab_length,\n",
        "                             output_dim=output_dim,\n",
        "                             embeddings_initializer=\"uniform\",\n",
        "                             input_length=max_length,\n",
        "                             mask_zero=True)"
      ],
      "metadata": {
        "id": "wW5GkItC9Xxb"
      },
      "execution_count": null,
      "outputs": []
    },
    {
      "cell_type": "markdown",
      "source": [
        "# G. Modelling"
      ],
      "metadata": {
        "id": "uWgH1IadWA36"
      }
    },
    {
      "cell_type": "code",
      "source": [
        "#initializer\n",
        "initializer = tf.keras.initializers.RandomNormal(mean=0., stddev=0.5)\n",
        "\n",
        "#optimizer\n",
        "opt = tf.keras.optimizers.Adam(learning_rate=0.001)\n",
        "\n",
        "#callback\n",
        "my_callback = [\n",
        "               EarlyStopping(patience=10, monitor='val_loss'),\n",
        "               ReduceLROnPlateau(patience=3, min_lr=0.000001, monitor='val_loss')]"
      ],
      "metadata": {
        "id": "6fPEQV_wr3AW"
      },
      "execution_count": null,
      "outputs": []
    },
    {
      "cell_type": "markdown",
      "source": [
        "### Model 1 : Base Model with Balanced Data & Stemmed Only"
      ],
      "metadata": {
        "id": "Y30xdpvRnxIt"
      }
    },
    {
      "cell_type": "code",
      "source": [
        "text_vectorization.adapt(X_train_balance_stem)"
      ],
      "metadata": {
        "id": "r1zUjN5hwNYS"
      },
      "execution_count": null,
      "outputs": []
    },
    {
      "cell_type": "code",
      "execution_count": null,
      "metadata": {
        "id": "dBQPuimOhiLz"
      },
      "outputs": [],
      "source": [
        "tf.keras.backend.clear_session()\n",
        "np.random.seed(42)\n",
        "tf.random.set_seed(42)"
      ]
    },
    {
      "cell_type": "code",
      "source": [
        "text_vectorization.adapt(X_train_balance_stem)"
      ],
      "metadata": {
        "id": "Jfo-BhYS43Q7"
      },
      "execution_count": null,
      "outputs": []
    },
    {
      "cell_type": "code",
      "execution_count": null,
      "metadata": {
        "colab": {
          "base_uri": "https://localhost:8080/"
        },
        "id": "2iWy_Rttn1hA",
        "outputId": "07a4637a-23ac-4f2a-f9ed-8d644de4894d"
      },
      "outputs": [
        {
          "output_type": "stream",
          "name": "stdout",
          "text": [
            "Model: \"model_1\"\n",
            "_________________________________________________________________\n",
            " Layer (type)                Output Shape              Param #   \n",
            "=================================================================\n",
            " input_1 (InputLayer)        [(None, 1)]               0         \n",
            "                                                                 \n",
            " text_vectorization (TextVec  (None, 27)               0         \n",
            " torization)                                                     \n",
            "                                                                 \n",
            " embedding (Embedding)       (None, 27, 64)            640000    \n",
            "                                                                 \n",
            " global_average_pooling1d (G  (None, 64)               0         \n",
            " lobalAveragePooling1D)                                          \n",
            "                                                                 \n",
            " dense (Dense)               (None, 32)                2080      \n",
            "                                                                 \n",
            " dense_1 (Dense)             (None, 8)                 264       \n",
            "                                                                 \n",
            " dense_2 (Dense)             (None, 1)                 9         \n",
            "                                                                 \n",
            "=================================================================\n",
            "Total params: 642,353\n",
            "Trainable params: 642,353\n",
            "Non-trainable params: 0\n",
            "_________________________________________________________________\n"
          ]
        }
      ],
      "source": [
        "#definition\n",
        "inputs = Input(shape=(1,), dtype=\"string\")\n",
        "x = text_vectorization(inputs)\n",
        "x = embedding(x)\n",
        "x = layers.GlobalAveragePooling1D()(x)\n",
        "x = Dense(32, activation='selu', kernel_initializer=initializer)(x)\n",
        "x = Dense(8, activation='selu', kernel_initializer=initializer)(x)\n",
        "output = Dense(1, activation=\"sigmoid\", kernel_initializer=initializer)(x)\n",
        "model1 = tf.keras.Model(inputs, output, name=\"model_1\")\n",
        "\n",
        "#compile\n",
        "model1.compile(loss='binary_crossentropy', \n",
        "                   optimizer=opt,\n",
        "                   metrics='Accuracy')\n",
        "\n",
        "#base model architecture\n",
        "model1.summary()"
      ]
    },
    {
      "cell_type": "code",
      "source": [
        "model1_history = model1.fit(X_train_balance_stem, y_train_balance_stem, epochs=30, \n",
        "                                validation_data=(X_val_balance_stem, y_val_balance_stem),\n",
        "                                callbacks=my_callback)"
      ],
      "metadata": {
        "colab": {
          "base_uri": "https://localhost:8080/"
        },
        "id": "M7Zhq3u6n1hC",
        "outputId": "b6bdafc2-0a33-4f5f-83f8-ab409eceaf06"
      },
      "execution_count": null,
      "outputs": [
        {
          "output_type": "stream",
          "name": "stdout",
          "text": [
            "Epoch 1/30\n",
            "235/235 [==============================] - 3s 7ms/step - loss: 0.4625 - Accuracy: 0.7923 - val_loss: 0.4098 - val_Accuracy: 0.8144 - lr: 0.0010\n",
            "Epoch 2/30\n",
            "235/235 [==============================] - 1s 6ms/step - loss: 0.3185 - Accuracy: 0.8692 - val_loss: 0.4155 - val_Accuracy: 0.8168 - lr: 0.0010\n",
            "Epoch 3/30\n",
            "235/235 [==============================] - 1s 6ms/step - loss: 0.2630 - Accuracy: 0.9017 - val_loss: 0.4493 - val_Accuracy: 0.8056 - lr: 0.0010\n",
            "Epoch 4/30\n",
            "235/235 [==============================] - 1s 6ms/step - loss: 0.2247 - Accuracy: 0.9153 - val_loss: 0.4978 - val_Accuracy: 0.8016 - lr: 0.0010\n",
            "Epoch 5/30\n",
            "235/235 [==============================] - 1s 6ms/step - loss: 0.1639 - Accuracy: 0.9483 - val_loss: 0.5054 - val_Accuracy: 0.8048 - lr: 1.0000e-04\n",
            "Epoch 6/30\n",
            "235/235 [==============================] - 1s 6ms/step - loss: 0.1542 - Accuracy: 0.9524 - val_loss: 0.5175 - val_Accuracy: 0.8032 - lr: 1.0000e-04\n",
            "Epoch 7/30\n",
            "235/235 [==============================] - 1s 6ms/step - loss: 0.1475 - Accuracy: 0.9553 - val_loss: 0.5305 - val_Accuracy: 0.8032 - lr: 1.0000e-04\n",
            "Epoch 8/30\n",
            "235/235 [==============================] - 1s 6ms/step - loss: 0.1392 - Accuracy: 0.9593 - val_loss: 0.5320 - val_Accuracy: 0.8032 - lr: 1.0000e-05\n",
            "Epoch 9/30\n",
            "235/235 [==============================] - 1s 6ms/step - loss: 0.1385 - Accuracy: 0.9595 - val_loss: 0.5336 - val_Accuracy: 0.8040 - lr: 1.0000e-05\n",
            "Epoch 10/30\n",
            "235/235 [==============================] - 1s 6ms/step - loss: 0.1379 - Accuracy: 0.9599 - val_loss: 0.5354 - val_Accuracy: 0.8048 - lr: 1.0000e-05\n",
            "Epoch 11/30\n",
            "235/235 [==============================] - 1s 6ms/step - loss: 0.1370 - Accuracy: 0.9604 - val_loss: 0.5355 - val_Accuracy: 0.8048 - lr: 1.0000e-06\n",
            "Epoch 12/30\n",
            "235/235 [==============================] - 1s 6ms/step - loss: 0.1369 - Accuracy: 0.9604 - val_loss: 0.5357 - val_Accuracy: 0.8048 - lr: 1.0000e-06\n",
            "Epoch 13/30\n",
            "235/235 [==============================] - 1s 6ms/step - loss: 0.1369 - Accuracy: 0.9604 - val_loss: 0.5359 - val_Accuracy: 0.8048 - lr: 1.0000e-06\n",
            "Epoch 14/30\n",
            "235/235 [==============================] - 1s 6ms/step - loss: 0.1368 - Accuracy: 0.9604 - val_loss: 0.5360 - val_Accuracy: 0.8048 - lr: 1.0000e-06\n"
          ]
        }
      ]
    },
    {
      "cell_type": "markdown",
      "source": [
        "### Model 2 : Base Model with Balanced Data & Lemmatized Only"
      ],
      "metadata": {
        "id": "sChW1mTVqRon"
      }
    },
    {
      "cell_type": "code",
      "execution_count": null,
      "metadata": {
        "id": "EsHMNVnuie2Y"
      },
      "outputs": [],
      "source": [
        "tf.keras.backend.clear_session()\n",
        "np.random.seed(42)\n",
        "tf.random.set_seed(42)"
      ]
    },
    {
      "cell_type": "code",
      "source": [
        "text_vectorization.adapt(X_train_balance_lemma)"
      ],
      "metadata": {
        "id": "kRMtWTX4xYor"
      },
      "execution_count": null,
      "outputs": []
    },
    {
      "cell_type": "code",
      "execution_count": null,
      "metadata": {
        "colab": {
          "base_uri": "https://localhost:8080/"
        },
        "id": "_hcmV641qVTb",
        "outputId": "01a1deac-d508-4d11-90f7-7dd2ba6c67a9"
      },
      "outputs": [
        {
          "output_type": "stream",
          "name": "stdout",
          "text": [
            "Model: \"model_2\"\n",
            "_________________________________________________________________\n",
            " Layer (type)                Output Shape              Param #   \n",
            "=================================================================\n",
            " input_1 (InputLayer)        [(None, 1)]               0         \n",
            "                                                                 \n",
            " text_vectorization (TextVec  (None, 27)               0         \n",
            " torization)                                                     \n",
            "                                                                 \n",
            " embedding (Embedding)       (None, 27, 64)            640000    \n",
            "                                                                 \n",
            " global_average_pooling1d (G  (None, 64)               0         \n",
            " lobalAveragePooling1D)                                          \n",
            "                                                                 \n",
            " dense (Dense)               (None, 32)                2080      \n",
            "                                                                 \n",
            " dense_1 (Dense)             (None, 8)                 264       \n",
            "                                                                 \n",
            " dense_2 (Dense)             (None, 1)                 9         \n",
            "                                                                 \n",
            "=================================================================\n",
            "Total params: 642,353\n",
            "Trainable params: 642,353\n",
            "Non-trainable params: 0\n",
            "_________________________________________________________________\n"
          ]
        }
      ],
      "source": [
        "#definition\n",
        "inputs = Input(shape=(1,), dtype=\"string\")\n",
        "x = text_vectorization(inputs)\n",
        "x = embedding(x)\n",
        "x = layers.GlobalAveragePooling1D()(x)\n",
        "x = Dense(32, activation='selu', kernel_initializer=initializer)(x)\n",
        "x = Dense(8, activation='selu', kernel_initializer=initializer)(x)\n",
        "output = Dense(1, activation=\"sigmoid\", kernel_initializer=initializer)(x)\n",
        "model2 = tf.keras.Model(inputs, output, name=\"model_2\")\n",
        "\n",
        "#compile\n",
        "model2.compile(loss='binary_crossentropy', \n",
        "                   optimizer=opt,\n",
        "                   metrics='Accuracy')\n",
        "\n",
        "#base model architecture\n",
        "model2.summary()"
      ]
    },
    {
      "cell_type": "code",
      "source": [
        "%%time\n",
        "model2_history = model2.fit(X_train_balance_lemma, y_train_balance_lemma, epochs=30,\n",
        "                            validation_data=(X_val_balance_lemma, y_val_balance_lemma),\n",
        "                            callbacks=my_callback)"
      ],
      "metadata": {
        "colab": {
          "base_uri": "https://localhost:8080/"
        },
        "id": "pKyY6mdbqVTd",
        "outputId": "ecdb1a34-40c5-4bdf-8a36-877d3c8f208f"
      },
      "execution_count": null,
      "outputs": [
        {
          "output_type": "stream",
          "name": "stdout",
          "text": [
            "Epoch 1/30\n",
            "235/235 [==============================] - 3s 7ms/step - loss: 0.1421 - Accuracy: 0.9524 - val_loss: 0.5969 - val_Accuracy: 0.8048 - lr: 0.0010\n",
            "Epoch 2/30\n",
            "235/235 [==============================] - 2s 6ms/step - loss: 0.1068 - Accuracy: 0.9651 - val_loss: 0.7032 - val_Accuracy: 0.7768 - lr: 0.0010\n",
            "Epoch 3/30\n",
            "235/235 [==============================] - 2s 6ms/step - loss: 0.0819 - Accuracy: 0.9724 - val_loss: 0.8397 - val_Accuracy: 0.7688 - lr: 0.0010\n",
            "Epoch 4/30\n",
            "235/235 [==============================] - 2s 6ms/step - loss: 0.0658 - Accuracy: 0.9784 - val_loss: 0.9622 - val_Accuracy: 0.7680 - lr: 0.0010\n",
            "Epoch 5/30\n",
            "235/235 [==============================] - 2s 6ms/step - loss: 0.0394 - Accuracy: 0.9903 - val_loss: 0.9679 - val_Accuracy: 0.7696 - lr: 1.0000e-04\n",
            "Epoch 6/30\n",
            "235/235 [==============================] - 2s 7ms/step - loss: 0.0353 - Accuracy: 0.9915 - val_loss: 0.9912 - val_Accuracy: 0.7688 - lr: 1.0000e-04\n",
            "Epoch 7/30\n",
            "235/235 [==============================] - 1s 6ms/step - loss: 0.0324 - Accuracy: 0.9916 - val_loss: 1.0267 - val_Accuracy: 0.7672 - lr: 1.0000e-04\n",
            "Epoch 8/30\n",
            "235/235 [==============================] - 2s 7ms/step - loss: 0.0294 - Accuracy: 0.9933 - val_loss: 1.0290 - val_Accuracy: 0.7672 - lr: 1.0000e-05\n",
            "Epoch 9/30\n",
            "235/235 [==============================] - 2s 6ms/step - loss: 0.0291 - Accuracy: 0.9936 - val_loss: 1.0317 - val_Accuracy: 0.7664 - lr: 1.0000e-05\n",
            "Epoch 10/30\n",
            "235/235 [==============================] - 2s 7ms/step - loss: 0.0289 - Accuracy: 0.9937 - val_loss: 1.0351 - val_Accuracy: 0.7664 - lr: 1.0000e-05\n",
            "Epoch 11/30\n",
            "235/235 [==============================] - 2s 6ms/step - loss: 0.0286 - Accuracy: 0.9937 - val_loss: 1.0354 - val_Accuracy: 0.7664 - lr: 1.0000e-06\n",
            "CPU times: user 23.8 s, sys: 2.29 s, total: 26.1 s\n",
            "Wall time: 18.1 s\n"
          ]
        }
      ]
    },
    {
      "cell_type": "markdown",
      "source": [
        "# H. Model Evaluation"
      ],
      "metadata": {
        "id": "QlFmuSvBBQSZ"
      }
    },
    {
      "cell_type": "code",
      "execution_count": null,
      "metadata": {
        "id": "I7oc-k3_Xmu3"
      },
      "outputs": [],
      "source": [
        "def plot_loss_curves(history):\n",
        "  loss = history.history['loss']\n",
        "  val_loss = history.history['val_loss']\n",
        "\n",
        "  Accuracy = history.history['Accuracy']\n",
        "  val_Accuracy = history.history['val_Accuracy']\n",
        "\n",
        "  epochs = range(len(loss))\n",
        "\n",
        "  plt.plot(epochs, loss, label='training_loss')\n",
        "  plt.plot(epochs, val_loss, label='val_loss')\n",
        "  plt.title(\"Loss Curves\")\n",
        "  plt.xlabel(\"Epochs\")\n",
        "  plt.legend()\n",
        "\n",
        "  plt.figure()\n",
        "  plt.plot(epochs, Accuracy, label='training_Accuracy')\n",
        "  plt.plot(epochs, val_Accuracy, label='val_Accuracy')\n",
        "  plt.title(\"Accuracy Curves\")\n",
        "  plt.xlabel(\"Epochs\")\n",
        "  plt.legend()"
      ]
    },
    {
      "cell_type": "markdown",
      "source": [
        "### Model 1 : Base Model with Balanced Data & Stemmed Only"
      ],
      "metadata": {
        "id": "7APHNfMbqAGW"
      }
    },
    {
      "cell_type": "code",
      "execution_count": null,
      "metadata": {
        "colab": {
          "base_uri": "https://localhost:8080/"
        },
        "id": "IDDHVboNqAGh",
        "outputId": "0c693925-fb4f-4377-8714-cbca584294df"
      },
      "outputs": [
        {
          "output_type": "display_data",
          "data": {
            "image/png": "[encoded data removed]",
            "text/plain": [
              "<Figure size 432x288 with 1 Axes>"
            ]
          },
          "metadata": {
            "needs_background": "light"
          }
        },
        {
          "output_type": "display_data",
          "data": {
            "image/png": "[encoded data removed]",
            "text/plain": [
              "<Figure size 432x288 with 1 Axes>"
            ]
          },
          "metadata": {
            "needs_background": "light"
          }
        }
      ],
      "source": [
        "plot_loss_curves(model1_history)"
      ]
    },
    {
      "cell_type": "code",
      "source": [
        "#classification report\n",
        "from sklearn.metrics import classification_report\n",
        "\n",
        "thre = 0.5\n",
        "res = model1.predict(X_val_balance_stem)\n",
        "res = (res > thre).T\n",
        "res = res.astype(int)[0]\n",
        "\n",
        "print(classification_report(y_val_balance_stem, res))"
      ],
      "metadata": {
        "colab": {
          "base_uri": "https://localhost:8080/"
        },
        "id": "tFX7AHgoqAGh",
        "outputId": "1b7ee183-e4c0-43ae-910d-eea897d18be2"
      },
      "execution_count": null,
      "outputs": [
        {
          "output_type": "stream",
          "name": "stdout",
          "text": [
            "              precision    recall  f1-score   support\n",
            "\n",
            "           0       0.48      0.43      0.46       628\n",
            "           1       0.48      0.52      0.50       622\n",
            "\n",
            "    accuracy                           0.48      1250\n",
            "   macro avg       0.48      0.48      0.48      1250\n",
            "weighted avg       0.48      0.48      0.48      1250\n",
            "\n"
          ]
        }
      ]
    },
    {
      "cell_type": "markdown",
      "source": [
        "### Model 2 : Base Model with Balanced Data & Lemmatized Only"
      ],
      "metadata": {
        "id": "2HaWkNWJqFlB"
      }
    },
    {
      "cell_type": "code",
      "execution_count": null,
      "metadata": {
        "colab": {
          "base_uri": "https://localhost:8080/"
        },
        "id": "LeXinEKsqLo5",
        "outputId": "6441a554-d70b-4740-f1c9-73af21da1570"
      },
      "outputs": [
        {
          "output_type": "display_data",
          "data": {
            "image/png": "[encoded data removed]",
            "text/plain": [
              "<Figure size 432x288 with 1 Axes>"
            ]
          },
          "metadata": {
            "needs_background": "light"
          }
        },
        {
          "output_type": "display_data",
          "data": {
            "image/png": "[encoded data removed]",
            "text/plain": [
              "<Figure size 432x288 with 1 Axes>"
            ]
          },
          "metadata": {
            "needs_background": "light"
          }
        }
      ],
      "source": [
        "plot_loss_curves(model2_history)"
      ]
    },
    {
      "cell_type": "code",
      "source": [
        "#classification report\n",
        "from sklearn.metrics import classification_report\n",
        "\n",
        "thre = 0.5\n",
        "res = model2.predict(X_val_balance_lemma)\n",
        "res = (res > thre).T\n",
        "res = res.astype(int)[0]\n",
        "\n",
        "print(classification_report(y_val_balance_lemma, res))"
      ],
      "metadata": {
        "colab": {
          "base_uri": "https://localhost:8080/"
        },
        "id": "F_pw9zmMqLo6",
        "outputId": "c4c32e81-1f11-40b6-8984-4437491ad802"
      },
      "execution_count": null,
      "outputs": [
        {
          "output_type": "stream",
          "name": "stdout",
          "text": [
            "              precision    recall  f1-score   support\n",
            "\n",
            "           0       0.78      0.73      0.76       616\n",
            "           1       0.75      0.80      0.78       634\n",
            "\n",
            "    accuracy                           0.77      1250\n",
            "   macro avg       0.77      0.77      0.77      1250\n",
            "weighted avg       0.77      0.77      0.77      1250\n",
            "\n"
          ]
        }
      ]
    },
    {
      "cell_type": "markdown",
      "source": [
        "# I. Model Improvement"
      ],
      "metadata": {
        "id": "VyBd3A5cB2zl"
      }
    },
    {
      "cell_type": "markdown",
      "source": [
        "After doing several researches on initializer search, optimization, and activation function, we come to the conclusion that with the data we have, the best initializer, activation, and optimization is the Random Normal initializer, Selu activation function, with Adam as the optimizer. Then based on matching the model with the dataset above, we can conclude that the best model is the second base model with the training data that has been lemmatized. However, the model has a tendency to overfit because its training was stopped by my_callback\n",
        "\n",
        "For this reason, at this model improvement stage, we will try to make improvements to the model by experimenting with combinations between one layer and another such as LSTM layer, Bidirectional layer, Spatial Dropout layer, and so on."
      ],
      "metadata": {
        "id": "tgZtG16I6avL"
      }
    },
    {
      "cell_type": "code",
      "source": [
        "new_metrics=[\n",
        "             tf.keras.metrics.BinaryAccuracy(name='Accuracy'),\n",
        "             tf.keras.metrics.Recall(name='recall')]\n",
        "\n",
        "def newplot_loss_curves(history):\n",
        "  loss = history.history['loss']\n",
        "  val_loss = history.history['val_loss']\n",
        "\n",
        "  Accuracy = history.history['Accuracy']\n",
        "  val_Accuracy = history.history['val_Accuracy']\n",
        "\n",
        "  recall = history.history['recall']\n",
        "  val_recall = history.history['val_recall']\n",
        "\n",
        "  epochs = range(len(loss))\n",
        "\n",
        "  plt.plot(epochs, loss, label='training_loss')\n",
        "  plt.plot(epochs, val_loss, label='val_loss')\n",
        "  plt.title(\"Loss Curves\")\n",
        "  plt.xlabel(\"Epochs\")\n",
        "  plt.legend()\n",
        "\n",
        "  plt.figure()\n",
        "  plt.plot(epochs, Accuracy, label='training_Accuracy')\n",
        "  plt.plot(epochs, val_Accuracy, label='val_Accuracy')\n",
        "  plt.title(\"Accuracy Curves\")\n",
        "  plt.xlabel(\"Epochs\")\n",
        "  plt.legend()\n",
        "\n",
        "\n",
        "  plt.figure()\n",
        "  plt.plot(epochs, recall, label='recall')\n",
        "  plt.plot(epochs, val_recall, label='val_recall')\n",
        "  plt.title(\"Recall Curves\")\n",
        "  plt.xlabel(\"Epochs\")\n",
        "  plt.legend()"
      ],
      "metadata": {
        "id": "LcsR-9PFBSrV"
      },
      "execution_count": null,
      "outputs": []
    },
    {
      "cell_type": "markdown",
      "source": [
        "### 1. Improvement I Balanced Lemma Data Train with Bidirectional LSTM"
      ],
      "metadata": {
        "id": "OWUem8up9G9r"
      }
    },
    {
      "cell_type": "code",
      "execution_count": null,
      "metadata": {
        "id": "sKjaRjX29NTH"
      },
      "outputs": [],
      "source": [
        "tf.keras.backend.clear_session()\n",
        "np.random.seed(42)\n",
        "tf.random.set_seed(42)"
      ]
    },
    {
      "cell_type": "code",
      "source": [
        "text_vectorization.adapt(X_train_balance_lemma)"
      ],
      "metadata": {
        "id": "K3WNFLx19jH6"
      },
      "execution_count": null,
      "outputs": []
    },
    {
      "cell_type": "code",
      "execution_count": null,
      "metadata": {
        "colab": {
          "base_uri": "https://localhost:8080/"
        },
        "outputId": "4e5adff2-7758-49ca-9245-3fa8672af0f7",
        "id": "zyW46TGFFnZx"
      },
      "outputs": [
        {
          "output_type": "stream",
          "name": "stdout",
          "text": [
            "Model: \"model_imp1\"\n",
            "_________________________________________________________________\n",
            " Layer (type)                Output Shape              Param #   \n",
            "=================================================================\n",
            " input_1 (InputLayer)        [(None, 1)]               0         \n",
            "                                                                 \n",
            " text_vectorization (TextVec  (None, 27)               0         \n",
            " torization)                                                     \n",
            "                                                                 \n",
            " embedding (Embedding)       (None, 27, 64)            640000    \n",
            "                                                                 \n",
            " global_average_pooling1d (G  (None, 1, 64)            0         \n",
            " lobalAveragePooling1D)                                          \n",
            "                                                                 \n",
            " spatial_dropout1d (SpatialD  (None, 1, 64)            0         \n",
            " ropout1D)                                                       \n",
            "                                                                 \n",
            " bidirectional (Bidirectiona  (None, 1, 128)           66048     \n",
            " l)                                                              \n",
            "                                                                 \n",
            " spatial_dropout1d_1 (Spatia  (None, 1, 128)           0         \n",
            " lDropout1D)                                                     \n",
            "                                                                 \n",
            " dense (Dense)               (None, 1, 32)             4128      \n",
            "                                                                 \n",
            " dropout (Dropout)           (None, 1, 32)             0         \n",
            "                                                                 \n",
            " dense_1 (Dense)             (None, 1, 8)              264       \n",
            "                                                                 \n",
            " dense_2 (Dense)             (None, 1, 1)              9         \n",
            "                                                                 \n",
            "=================================================================\n",
            "Total params: 710,449\n",
            "Trainable params: 710,449\n",
            "Non-trainable params: 0\n",
            "_________________________________________________________________\n"
          ]
        }
      ],
      "source": [
        "#definition\n",
        "inputs = Input(shape=(1,), dtype=\"string\")\n",
        "x = text_vectorization(inputs)\n",
        "x = embedding(x)\n",
        "x = layers.GlobalAveragePooling1D(keepdims=True)(x)\n",
        "x = SpatialDropout1D(0.4)(x)\n",
        "x = Bidirectional(LSTM(64, activation='selu', kernel_initializer=initializer, return_sequences=True))(x)\n",
        "x = SpatialDropout1D(0.5)(x)\n",
        "x = Dense(32, activation='selu', kernel_initializer=initializer)(x)\n",
        "x = Dropout(0.2)(x)\n",
        "x = Dense(8, activation='selu', kernel_initializer=initializer)(x)\n",
        "output = Dense(1, activation=\"sigmoid\", kernel_initializer=initializer)(x)\n",
        "model_imp1 = tf.keras.Model(inputs, output, name=\"model_imp1\")\n",
        "\n",
        "#compile\n",
        "model_imp1.compile(loss='binary_crossentropy', \n",
        "                   optimizer='Adam',\n",
        "                   metrics=new_metrics)\n",
        "\n",
        "#base model architecture\n",
        "model_imp1.summary()"
      ]
    },
    {
      "cell_type": "code",
      "source": [
        "%%time\n",
        "\n",
        "model_imp1_history = model_imp1.fit(X_train_balance_lemma, y_train_balance_lemma, epochs=40, \n",
        "                                validation_data=(X_val_balance_lemma, y_val_balance_lemma),\n",
        "                                callbacks=my_callback)"
      ],
      "metadata": {
        "colab": {
          "base_uri": "https://localhost:8080/"
        },
        "outputId": "1677651a-f1b5-4a18-9c77-73b3928384e2",
        "id": "tIPY3193FnZx"
      },
      "execution_count": null,
      "outputs": [
        {
          "output_type": "stream",
          "name": "stdout",
          "text": [
            "Epoch 1/40\n",
            "235/235 [==============================] - 8s 17ms/step - loss: 0.5242 - Accuracy: 0.7296 - recall: 0.7237 - val_loss: 0.3631 - val_Accuracy: 0.8512 - val_recall: 0.8360 - lr: 0.0010\n",
            "Epoch 2/40\n",
            "235/235 [==============================] - 3s 14ms/step - loss: 0.3553 - Accuracy: 0.8536 - recall: 0.8511 - val_loss: 0.3624 - val_Accuracy: 0.8552 - val_recall: 0.8344 - lr: 0.0010\n",
            "Epoch 3/40\n",
            "235/235 [==============================] - 3s 14ms/step - loss: 0.2874 - Accuracy: 0.8887 - recall: 0.8904 - val_loss: 0.3824 - val_Accuracy: 0.8528 - val_recall: 0.8328 - lr: 0.0010\n",
            "Epoch 4/40\n",
            "235/235 [==============================] - 3s 14ms/step - loss: 0.2471 - Accuracy: 0.9063 - recall: 0.9036 - val_loss: 0.4221 - val_Accuracy: 0.8336 - val_recall: 0.8297 - lr: 0.0010\n",
            "Epoch 5/40\n",
            "235/235 [==============================] - 3s 14ms/step - loss: 0.2113 - Accuracy: 0.9257 - recall: 0.9243 - val_loss: 0.4503 - val_Accuracy: 0.8320 - val_recall: 0.8202 - lr: 0.0010\n",
            "Epoch 6/40\n",
            "235/235 [==============================] - 3s 14ms/step - loss: 0.1618 - Accuracy: 0.9417 - recall: 0.9407 - val_loss: 0.4734 - val_Accuracy: 0.8328 - val_recall: 0.8328 - lr: 1.0000e-04\n",
            "Epoch 7/40\n",
            "235/235 [==============================] - 3s 14ms/step - loss: 0.1522 - Accuracy: 0.9488 - recall: 0.9459 - val_loss: 0.4967 - val_Accuracy: 0.8264 - val_recall: 0.8391 - lr: 1.0000e-04\n",
            "Epoch 8/40\n",
            "235/235 [==============================] - 3s 13ms/step - loss: 0.1420 - Accuracy: 0.9515 - recall: 0.9483 - val_loss: 0.5161 - val_Accuracy: 0.8248 - val_recall: 0.8360 - lr: 1.0000e-04\n",
            "Epoch 9/40\n",
            "235/235 [==============================] - 3s 14ms/step - loss: 0.1332 - Accuracy: 0.9553 - recall: 0.9553 - val_loss: 0.5182 - val_Accuracy: 0.8248 - val_recall: 0.8360 - lr: 1.0000e-05\n",
            "Epoch 10/40\n",
            "235/235 [==============================] - 3s 14ms/step - loss: 0.1340 - Accuracy: 0.9556 - recall: 0.9529 - val_loss: 0.5203 - val_Accuracy: 0.8256 - val_recall: 0.8360 - lr: 1.0000e-05\n",
            "Epoch 11/40\n",
            "235/235 [==============================] - 3s 14ms/step - loss: 0.1299 - Accuracy: 0.9516 - recall: 0.9515 - val_loss: 0.5229 - val_Accuracy: 0.8248 - val_recall: 0.8360 - lr: 1.0000e-05\n",
            "Epoch 12/40\n",
            "235/235 [==============================] - 3s 14ms/step - loss: 0.1261 - Accuracy: 0.9576 - recall: 0.9550 - val_loss: 0.5232 - val_Accuracy: 0.8248 - val_recall: 0.8360 - lr: 1.0000e-06\n",
            "CPU times: user 1min 1s, sys: 3.51 s, total: 1min 4s\n",
            "Wall time: 43.3 s\n"
          ]
        }
      ]
    },
    {
      "cell_type": "code",
      "execution_count": null,
      "metadata": {
        "colab": {
          "base_uri": "https://localhost:8080/",
          "height": 850
        },
        "outputId": "5db5457d-46c7-42ce-e4f5-fba49e5a0703",
        "id": "zbLG9XusFnZy"
      },
      "outputs": [
        {
          "output_type": "display_data",
          "data": {
            "image/png": "[encoded data removed]",
            "text/plain": [
              "<Figure size 432x288 with 1 Axes>"
            ]
          },
          "metadata": {
            "needs_background": "light"
          }
        },
        {
          "output_type": "display_data",
          "data": {
            "image/png": "[encoded data removed]",
            "text/plain": [
              "<Figure size 432x288 with 1 Axes>"
            ]
          },
          "metadata": {
            "needs_background": "light"
          }
        },
        {
          "output_type": "display_data",
          "data": {
            "image/png": "[encoded data removed]",
            "text/plain": [
              "<Figure size 432x288 with 1 Axes>"
            ]
          },
          "metadata": {
            "needs_background": "light"
          }
        }
      ],
      "source": [
        "newplot_loss_curves(model_imp1_history)"
      ]
    },
    {
      "cell_type": "code",
      "source": [
        "# Evaluate the model on the validation data using evaluate\n",
        "print(\"Evaluate on validation data\")\n",
        "results = model_imp1.evaluate(X_val_balance_lemma, y_val_balance_lemma, batch_size=128)\n",
        "print(\"validation loss, validation acc, validation recall:\", results)\n",
        "print('\\n')\n",
        "# Evaluate the model on the test data using evaluate\n",
        "print(\"Evaluate on test data\")\n",
        "results = model_imp1.evaluate(X_test_balance_lemma, y_test_balance_lemma, batch_size=128)\n",
        "print(\"test loss, test acc, test recall:\", results)"
      ],
      "metadata": {
        "colab": {
          "base_uri": "https://localhost:8080/"
        },
        "id": "L8KnhIMAErwx",
        "outputId": "9fff8c76-611c-4141-d584-36b1998f3f06"
      },
      "execution_count": null,
      "outputs": [
        {
          "output_type": "stream",
          "name": "stdout",
          "text": [
            "Evaluate on validation data\n",
            "10/10 [==============================] - 0s 5ms/step - loss: 0.5232 - Accuracy: 0.8248 - recall: 0.8360\n",
            "validation loss, validation acc, validation recall: [0.5231698751449585, 0.8248000144958496, 0.8359621167182922]\n",
            "\n",
            "\n",
            "Evaluate on test data\n",
            "10/10 [==============================] - 0s 5ms/step - loss: 0.5321 - Accuracy: 0.8136 - recall: 0.8086\n",
            "test loss, test acc, test recall: [0.5320554971694946, 0.8136000037193298, 0.8085758090019226]\n"
          ]
        }
      ]
    },
    {
      "cell_type": "code",
      "source": [
        "#classification report\n",
        "from sklearn.metrics import classification_report, f1_score\n",
        "\n",
        "thre = 0.5\n",
        "res = model_imp1.predict(X_val_balance_lemma)\n",
        "res = (res > thre).T\n",
        "res = res.astype(int)[0]\n",
        "\n",
        "print(classification_report(y_val_balance_lemma.tolist(), list(res[0])))\n",
        "print(f1_score(y_val_balance_lemma.tolist(), list(res[0])))"
      ],
      "metadata": {
        "id": "SLxCwZ7MFnZy",
        "colab": {
          "base_uri": "https://localhost:8080/"
        },
        "outputId": "1fe1dd13-98c5-4416-ea24-57856d9c398c"
      },
      "execution_count": null,
      "outputs": [
        {
          "output_type": "stream",
          "name": "stdout",
          "text": [
            "              precision    recall  f1-score   support\n",
            "\n",
            "           0       0.83      0.81      0.82       616\n",
            "           1       0.82      0.84      0.83       634\n",
            "\n",
            "    accuracy                           0.82      1250\n",
            "   macro avg       0.82      0.82      0.82      1250\n",
            "weighted avg       0.82      0.82      0.82      1250\n",
            "\n",
            "0.8287724784988273\n"
          ]
        }
      ]
    },
    {
      "cell_type": "code",
      "source": [
        "thre = 0.5\n",
        "res = model_imp1.predict(X_test_balance_lemma)\n",
        "res = (res > thre).T\n",
        "res = res.astype(int)[0]\n",
        "\n",
        "print(classification_report(y_test_balance_lemma.tolist(), list(res[0])))\n",
        "print(f1_score(y_test_balance_lemma.tolist(), list(res[0])))"
      ],
      "metadata": {
        "colab": {
          "base_uri": "https://localhost:8080/"
        },
        "id": "5KC7tylpu_0V",
        "outputId": "33a60464-a056-4b6a-96a0-3324ab91ccd9"
      },
      "execution_count": null,
      "outputs": [
        {
          "output_type": "stream",
          "name": "stdout",
          "text": [
            "              precision    recall  f1-score   support\n",
            "\n",
            "           0       0.80      0.82      0.81       597\n",
            "           1       0.83      0.81      0.82       653\n",
            "\n",
            "    accuracy                           0.81      1250\n",
            "   macro avg       0.81      0.81      0.81      1250\n",
            "weighted avg       0.81      0.81      0.81      1250\n",
            "\n",
            "0.8192397207137315\n"
          ]
        }
      ]
    },
    {
      "cell_type": "markdown",
      "source": [
        "### 2. Improvement II Balanced Lemma Data Train with Double Stacked Bidirectional LSTM"
      ],
      "metadata": {
        "id": "DdErsVYg1M1B"
      }
    },
    {
      "cell_type": "code",
      "execution_count": null,
      "metadata": {
        "id": "VB4VyXPH1NbI"
      },
      "outputs": [],
      "source": [
        "tf.keras.backend.clear_session()\n",
        "np.random.seed(42)\n",
        "tf.random.set_seed(42)"
      ]
    },
    {
      "cell_type": "code",
      "execution_count": null,
      "metadata": {
        "colab": {
          "base_uri": "https://localhost:8080/"
        },
        "outputId": "18550dc6-b54b-42fd-8b54-c6517751dfb9",
        "id": "rfhtgURS1NbI"
      },
      "outputs": [
        {
          "output_type": "stream",
          "name": "stdout",
          "text": [
            "Model: \"model_imp2\"\n",
            "_________________________________________________________________\n",
            " Layer (type)                Output Shape              Param #   \n",
            "=================================================================\n",
            " input_1 (InputLayer)        [(None, 1)]               0         \n",
            "                                                                 \n",
            " text_vectorization (TextVec  (None, 27)               0         \n",
            " torization)                                                     \n",
            "                                                                 \n",
            " embedding (Embedding)       (None, 27, 64)            640000    \n",
            "                                                                 \n",
            " global_average_pooling1d (G  (None, 1, 64)            0         \n",
            " lobalAveragePooling1D)                                          \n",
            "                                                                 \n",
            " spatial_dropout1d (SpatialD  (None, 1, 64)            0         \n",
            " ropout1D)                                                       \n",
            "                                                                 \n",
            " bidirectional (Bidirectiona  (None, 1, 128)           66048     \n",
            " l)                                                              \n",
            "                                                                 \n",
            " bidirectional_1 (Bidirectio  (None, 1, 64)            41216     \n",
            " nal)                                                            \n",
            "                                                                 \n",
            " spatial_dropout1d_1 (Spatia  (None, 1, 64)            0         \n",
            " lDropout1D)                                                     \n",
            "                                                                 \n",
            " batch_normalization (BatchN  (None, 1, 64)            256       \n",
            " ormalization)                                                   \n",
            "                                                                 \n",
            " dense (Dense)               (None, 1, 32)             2080      \n",
            "                                                                 \n",
            " dropout (Dropout)           (None, 1, 32)             0         \n",
            "                                                                 \n",
            " dense_1 (Dense)             (None, 1, 8)              264       \n",
            "                                                                 \n",
            " dense_2 (Dense)             (None, 1, 1)              9         \n",
            "                                                                 \n",
            "=================================================================\n",
            "Total params: 749,873\n",
            "Trainable params: 749,745\n",
            "Non-trainable params: 128\n",
            "_________________________________________________________________\n"
          ]
        }
      ],
      "source": [
        "#definition\n",
        "inputs = Input(shape=(1,), dtype=\"string\")\n",
        "x = text_vectorization(inputs)\n",
        "x = embedding(x)\n",
        "x = layers.GlobalAveragePooling1D(keepdims=True)(x)\n",
        "x = SpatialDropout1D(0.4)(x)\n",
        "x = Bidirectional(LSTM(64, activation='selu', kernel_initializer=initializer, return_sequences=True))(x)\n",
        "x = Bidirectional(LSTM(32, activation='selu', kernel_initializer=initializer, return_sequences=True))(x)\n",
        "x = SpatialDropout1D(0.5)(x)\n",
        "x = BatchNormalization()(x)\n",
        "x = Dense(32, activation='selu', kernel_initializer=initializer)(x)\n",
        "x = Dropout(0.2)(x)\n",
        "x = Dense(8, activation='selu', kernel_initializer=initializer)(x)\n",
        "output = Dense(1, activation=\"sigmoid\", kernel_initializer=initializer)(x)\n",
        "model_imp2 = tf.keras.Model(inputs, output, name=\"model_imp2\")\n",
        "\n",
        "#compile\n",
        "model_imp2.compile(loss='binary_crossentropy', \n",
        "                   optimizer='Adam',\n",
        "                   metrics=new_metrics)\n",
        "\n",
        "#base model architecture\n",
        "model_imp2.summary()"
      ]
    },
    {
      "cell_type": "code",
      "source": [
        "%%time\n",
        "\n",
        "model_imp2_history = model_imp2.fit(X_train_balance_lemma, y_train_balance_lemma, epochs=40, \n",
        "                                validation_data=(X_val_balance_lemma, y_val_balance_lemma),\n",
        "                                callbacks=my_callback)"
      ],
      "metadata": {
        "colab": {
          "base_uri": "https://localhost:8080/"
        },
        "outputId": "30dd05d9-f465-4db7-cad1-17e2da04a2b6",
        "id": "wSpi_kMw1NbJ"
      },
      "execution_count": null,
      "outputs": [
        {
          "output_type": "stream",
          "name": "stdout",
          "text": [
            "Epoch 1/40\n",
            "235/235 [==============================] - 11s 20ms/step - loss: 0.4470 - Accuracy: 0.8513 - recall: 0.8525 - val_loss: 0.5312 - val_Accuracy: 0.8288 - val_recall: 0.8139 - lr: 0.0010\n",
            "Epoch 2/40\n",
            "235/235 [==============================] - 4s 16ms/step - loss: 0.2113 - Accuracy: 0.9328 - recall: 0.9313 - val_loss: 0.7766 - val_Accuracy: 0.8152 - val_recall: 0.7981 - lr: 0.0010\n",
            "Epoch 3/40\n",
            "235/235 [==============================] - 4s 17ms/step - loss: 0.1740 - Accuracy: 0.9388 - recall: 0.9316 - val_loss: 0.7789 - val_Accuracy: 0.8064 - val_recall: 0.7871 - lr: 0.0010\n",
            "Epoch 4/40\n",
            "235/235 [==============================] - 4s 16ms/step - loss: 0.1455 - Accuracy: 0.9493 - recall: 0.9413 - val_loss: 0.8387 - val_Accuracy: 0.8000 - val_recall: 0.7839 - lr: 0.0010\n",
            "Epoch 5/40\n",
            "235/235 [==============================] - 4s 17ms/step - loss: 0.1280 - Accuracy: 0.9549 - recall: 0.9432 - val_loss: 0.8478 - val_Accuracy: 0.8040 - val_recall: 0.7823 - lr: 1.0000e-04\n",
            "Epoch 6/40\n",
            "235/235 [==============================] - 4s 16ms/step - loss: 0.1636 - Accuracy: 0.9432 - recall: 0.9372 - val_loss: 0.8375 - val_Accuracy: 0.8048 - val_recall: 0.7839 - lr: 1.0000e-04\n",
            "Epoch 7/40\n",
            "235/235 [==============================] - 4s 16ms/step - loss: 0.1628 - Accuracy: 0.9421 - recall: 0.9364 - val_loss: 0.8188 - val_Accuracy: 0.7992 - val_recall: 0.7808 - lr: 1.0000e-04\n",
            "Epoch 8/40\n",
            "235/235 [==============================] - 4s 16ms/step - loss: 0.1408 - Accuracy: 0.9468 - recall: 0.9399 - val_loss: 0.8219 - val_Accuracy: 0.8000 - val_recall: 0.7839 - lr: 1.0000e-05\n",
            "Epoch 9/40\n",
            "235/235 [==============================] - 4s 16ms/step - loss: 0.1683 - Accuracy: 0.9408 - recall: 0.9348 - val_loss: 0.8114 - val_Accuracy: 0.8000 - val_recall: 0.7823 - lr: 1.0000e-05\n",
            "Epoch 10/40\n",
            "235/235 [==============================] - 4s 16ms/step - loss: 0.1677 - Accuracy: 0.9385 - recall: 0.9300 - val_loss: 0.8131 - val_Accuracy: 0.8000 - val_recall: 0.7808 - lr: 1.0000e-05\n",
            "Epoch 11/40\n",
            "235/235 [==============================] - 4s 16ms/step - loss: 0.1524 - Accuracy: 0.9432 - recall: 0.9359 - val_loss: 0.8149 - val_Accuracy: 0.8000 - val_recall: 0.7808 - lr: 1.0000e-06\n",
            "CPU times: user 1min 10s, sys: 3.72 s, total: 1min 14s\n",
            "Wall time: 48.8 s\n"
          ]
        }
      ]
    },
    {
      "cell_type": "code",
      "execution_count": null,
      "metadata": {
        "colab": {
          "base_uri": "https://localhost:8080/",
          "height": 850
        },
        "id": "ph9PnkeB1NbK",
        "outputId": "365bffad-2565-4b11-d408-74c198edddd1"
      },
      "outputs": [
        {
          "output_type": "display_data",
          "data": {
            "image/png": "[encoded data removed]",
            "text/plain": [
              "<Figure size 432x288 with 1 Axes>"
            ]
          },
          "metadata": {
            "needs_background": "light"
          }
        },
        {
          "output_type": "display_data",
          "data": {
            "image/png": "[encoded data removed]",
            "text/plain": [
              "<Figure size 432x288 with 1 Axes>"
            ]
          },
          "metadata": {
            "needs_background": "light"
          }
        },
        {
          "output_type": "display_data",
          "data": {
            "image/png": "[encoded data removed]",
            "text/plain": [
              "<Figure size 432x288 with 1 Axes>"
            ]
          },
          "metadata": {
            "needs_background": "light"
          }
        }
      ],
      "source": [
        "newplot_loss_curves(model_imp2_history)"
      ]
    },
    {
      "cell_type": "code",
      "source": [
        "# Evaluate the model on the validation data using evaluate\n",
        "print(\"Evaluate on validation data\")\n",
        "results = model_imp2.evaluate(X_val_balance_lemma, y_val_balance_lemma, batch_size=128)\n",
        "print(\"validation loss, validation acc, validation recall:\", results)\n",
        "print('\\n')\n",
        "# Evaluate the model on the test data using evaluate\n",
        "print(\"Evaluate on test data\")\n",
        "results = model_imp2.evaluate(X_test_balance_lemma, y_test_balance_lemma, batch_size=128)\n",
        "print(\"test loss, test acc, test recall:\", results)"
      ],
      "metadata": {
        "colab": {
          "base_uri": "https://localhost:8080/"
        },
        "id": "qGt_bdvRGR8d",
        "outputId": "5af8dad5-c7e4-487d-8566-8df6293460ce"
      },
      "execution_count": null,
      "outputs": [
        {
          "output_type": "stream",
          "name": "stdout",
          "text": [
            "Evaluate on validation data\n",
            "10/10 [==============================] - 0s 6ms/step - loss: 0.8149 - Accuracy: 0.8000 - recall: 0.7808\n",
            "validation loss, validation acc, validation recall: [0.8148890733718872, 0.800000011920929, 0.7807570695877075]\n",
            "\n",
            "\n",
            "Evaluate on test data\n",
            "10/10 [==============================] - 0s 7ms/step - loss: 0.8157 - Accuracy: 0.7976 - recall: 0.7642\n",
            "test loss, test acc, test recall: [0.8156641125679016, 0.7975999712944031, 0.7641654014587402]\n"
          ]
        }
      ]
    },
    {
      "cell_type": "code",
      "source": [
        "#classification report\n",
        "from sklearn.metrics import classification_report, f1_score\n",
        "\n",
        "thre = 0.5\n",
        "res = model_imp2.predict(X_val_balance_lemma)\n",
        "res = (res > thre).T\n",
        "res = res.astype(int)[0]\n",
        "\n",
        "print(classification_report(y_val_balance_lemma.tolist(), list(res[0])))\n",
        "print(f1_score(y_val_balance_lemma.tolist(), list(res[0])))"
      ],
      "metadata": {
        "colab": {
          "base_uri": "https://localhost:8080/"
        },
        "id": "Pa1f4itf1NbK",
        "outputId": "72a76b5d-75f3-4481-f3be-31a516406e40"
      },
      "execution_count": null,
      "outputs": [
        {
          "output_type": "stream",
          "name": "stdout",
          "text": [
            "              precision    recall  f1-score   support\n",
            "\n",
            "           0       0.78      0.82      0.80       616\n",
            "           1       0.82      0.78      0.80       634\n",
            "\n",
            "    accuracy                           0.80      1250\n",
            "   macro avg       0.80      0.80      0.80      1250\n",
            "weighted avg       0.80      0.80      0.80      1250\n",
            "\n",
            "0.7983870967741936\n"
          ]
        }
      ]
    },
    {
      "cell_type": "code",
      "source": [
        "#classification report\n",
        "from sklearn.metrics import classification_report, f1_score\n",
        "\n",
        "thre = 0.5\n",
        "res = model_imp2.predict(X_test_balance_lemma)\n",
        "res = (res > thre).T\n",
        "res = res.astype(int)[0]\n",
        "\n",
        "print(classification_report(y_test_balance_lemma.tolist(), list(res[0])))\n",
        "print(f1_score(y_test_balance_lemma.tolist(), list(res[0])))"
      ],
      "metadata": {
        "colab": {
          "base_uri": "https://localhost:8080/"
        },
        "id": "3G32u2rru20T",
        "outputId": "08981022-8622-4c8d-943c-2f5ea7562a70"
      },
      "execution_count": null,
      "outputs": [
        {
          "output_type": "stream",
          "name": "stdout",
          "text": [
            "              precision    recall  f1-score   support\n",
            "\n",
            "           0       0.76      0.83      0.80       597\n",
            "           1       0.83      0.76      0.80       653\n",
            "\n",
            "    accuracy                           0.80      1250\n",
            "   macro avg       0.80      0.80      0.80      1250\n",
            "weighted avg       0.80      0.80      0.80      1250\n",
            "\n",
            "0.7977617905675459\n"
          ]
        }
      ]
    },
    {
      "cell_type": "markdown",
      "source": [
        "### 3. Improvement III Balanced Lemma Data Train with LSTM + 3 Bidirectional + BatchNorm"
      ],
      "metadata": {
        "id": "zk-yYmAGDto1"
      }
    },
    {
      "cell_type": "code",
      "execution_count": null,
      "metadata": {
        "id": "E_DdpNu_Dto2"
      },
      "outputs": [],
      "source": [
        "tf.keras.backend.clear_session()\n",
        "np.random.seed(42)\n",
        "tf.random.set_seed(42)"
      ]
    },
    {
      "cell_type": "code",
      "execution_count": null,
      "metadata": {
        "colab": {
          "base_uri": "https://localhost:8080/"
        },
        "outputId": "83c2766f-399d-442c-a764-252a435ff983",
        "id": "TEo-6A7oDto2"
      },
      "outputs": [
        {
          "output_type": "stream",
          "name": "stdout",
          "text": [
            "Model: \"model_imp3\"\n",
            "_________________________________________________________________\n",
            " Layer (type)                Output Shape              Param #   \n",
            "=================================================================\n",
            " input_1 (InputLayer)        [(None, 1)]               0         \n",
            "                                                                 \n",
            " text_vectorization (TextVec  (None, 27)               0         \n",
            " torization)                                                     \n",
            "                                                                 \n",
            " embedding (Embedding)       (None, 27, 64)            640000    \n",
            "                                                                 \n",
            " global_average_pooling1d (G  (None, 1, 64)            0         \n",
            " lobalAveragePooling1D)                                          \n",
            "                                                                 \n",
            " lstm (LSTM)                 (None, 1, 128)            98816     \n",
            "                                                                 \n",
            " spatial_dropout1d (SpatialD  (None, 1, 128)           0         \n",
            " ropout1D)                                                       \n",
            "                                                                 \n",
            " bidirectional (Bidirectiona  (None, 1, 256)           263168    \n",
            " l)                                                              \n",
            "                                                                 \n",
            " spatial_dropout1d_1 (Spatia  (None, 1, 256)           0         \n",
            " lDropout1D)                                                     \n",
            "                                                                 \n",
            " bidirectional_1 (Bidirectio  (None, 1, 512)           1050624   \n",
            " nal)                                                            \n",
            "                                                                 \n",
            " spatial_dropout1d_2 (Spatia  (None, 1, 512)           0         \n",
            " lDropout1D)                                                     \n",
            "                                                                 \n",
            " bidirectional_2 (Bidirectio  (None, 1, 256)           656384    \n",
            " nal)                                                            \n",
            "                                                                 \n",
            " spatial_dropout1d_3 (Spatia  (None, 1, 256)           0         \n",
            " lDropout1D)                                                     \n",
            "                                                                 \n",
            " dense (Dense)               (None, 1, 128)            32896     \n",
            "                                                                 \n",
            " spatial_dropout1d_4 (Spatia  (None, 1, 128)           0         \n",
            " lDropout1D)                                                     \n",
            "                                                                 \n",
            " dense_1 (Dense)             (None, 1, 32)             4128      \n",
            "                                                                 \n",
            " dense_2 (Dense)             (None, 1, 8)              264       \n",
            "                                                                 \n",
            " dense_3 (Dense)             (None, 1, 1)              9         \n",
            "                                                                 \n",
            "=================================================================\n",
            "Total params: 2,746,289\n",
            "Trainable params: 2,746,289\n",
            "Non-trainable params: 0\n",
            "_________________________________________________________________\n"
          ]
        }
      ],
      "source": [
        "#definition\n",
        "inputs = Input(shape=(1,), dtype=\"string\")\n",
        "x = text_vectorization(inputs)\n",
        "x = embedding(x)\n",
        "x = layers.GlobalAveragePooling1D(keepdims=True)(x)\n",
        "x = LSTM(128, activation='selu', kernel_initializer=initializer, return_sequences=True)(x)\n",
        "x = SpatialDropout1D(0.2)(x)\n",
        "x = Bidirectional(LSTM(128, activation='selu', kernel_initializer=initializer, return_sequences=True))(x)\n",
        "x = SpatialDropout1D(0.5)(x)\n",
        "x = Bidirectional(LSTM(256, activation='selu', kernel_initializer=initializer, return_sequences=True))(x)\n",
        "x = SpatialDropout1D(0.5)(x)\n",
        "x = Bidirectional(LSTM(128, activation='selu', kernel_initializer=initializer, return_sequences=True))(x)\n",
        "x = SpatialDropout1D(0.2)(x)\n",
        "x = Dense(128, activation='selu', kernel_initializer=initializer)(x)\n",
        "x = SpatialDropout1D(0.2)(x)\n",
        "x = Dense(32, activation='selu', kernel_initializer=initializer)(x)\n",
        "x = Dense(8, activation='selu', kernel_initializer=initializer)(x)\n",
        "output = Dense(1, activation=\"sigmoid\", kernel_initializer=initializer)(x)\n",
        "model_imp3 = tf.keras.Model(inputs, output, name=\"model_imp3\")\n",
        "\n",
        "#compile\n",
        "model_imp3.compile(loss='binary_crossentropy', \n",
        "                   optimizer='Adam',\n",
        "                   metrics=new_metrics)\n",
        "\n",
        "#base model architecture\n",
        "model_imp3.summary()"
      ]
    },
    {
      "cell_type": "code",
      "source": [
        "%%time\n",
        "\n",
        "model_imp3_history = model_imp3.fit(X_train_balance_lemma, y_train_balance_lemma, epochs=40, \n",
        "                                validation_data=(X_val_balance_lemma, y_val_balance_lemma),\n",
        "                                callbacks=my_callback)"
      ],
      "metadata": {
        "colab": {
          "base_uri": "https://localhost:8080/"
        },
        "outputId": "e02fa2c0-4a3a-4cfd-d292-f088855b9d78",
        "id": "9KJCVsavDto2"
      },
      "execution_count": null,
      "outputs": [
        {
          "output_type": "stream",
          "name": "stdout",
          "text": [
            "Epoch 1/40\n",
            "235/235 [==============================] - 22s 52ms/step - loss: 6.2624 - Accuracy: 0.5963 - recall: 0.8694 - val_loss: 3.2379 - val_Accuracy: 0.7368 - val_recall: 0.5410 - lr: 0.0010\n",
            "Epoch 2/40\n",
            "235/235 [==============================] - 11s 46ms/step - loss: 1.6813 - Accuracy: 0.7577 - recall: 0.7081 - val_loss: 1.2382 - val_Accuracy: 0.7224 - val_recall: 0.5016 - lr: 0.0010\n",
            "Epoch 3/40\n",
            "235/235 [==============================] - 11s 46ms/step - loss: 0.6650 - Accuracy: 0.7895 - recall: 0.7336 - val_loss: 0.6815 - val_Accuracy: 0.7984 - val_recall: 0.7082 - lr: 0.0010\n",
            "Epoch 4/40\n",
            "235/235 [==============================] - 11s 46ms/step - loss: 0.4177 - Accuracy: 0.8465 - recall: 0.8163 - val_loss: 0.6217 - val_Accuracy: 0.7992 - val_recall: 0.7334 - lr: 0.0010\n",
            "Epoch 5/40\n",
            "235/235 [==============================] - 11s 46ms/step - loss: 0.3264 - Accuracy: 0.8896 - recall: 0.8705 - val_loss: 0.6229 - val_Accuracy: 0.8032 - val_recall: 0.7571 - lr: 0.0010\n",
            "Epoch 6/40\n",
            "235/235 [==============================] - 11s 46ms/step - loss: 0.2671 - Accuracy: 0.9037 - recall: 0.8834 - val_loss: 0.6980 - val_Accuracy: 0.8096 - val_recall: 0.7697 - lr: 0.0010\n",
            "Epoch 7/40\n",
            "235/235 [==============================] - 11s 46ms/step - loss: 0.2391 - Accuracy: 0.9199 - recall: 0.9028 - val_loss: 0.8256 - val_Accuracy: 0.8056 - val_recall: 0.7855 - lr: 0.0010\n",
            "Epoch 8/40\n",
            "235/235 [==============================] - 11s 47ms/step - loss: 0.2152 - Accuracy: 0.9256 - recall: 0.9106 - val_loss: 0.8159 - val_Accuracy: 0.8048 - val_recall: 0.7839 - lr: 1.0000e-04\n",
            "Epoch 9/40\n",
            "235/235 [==============================] - 11s 46ms/step - loss: 0.2165 - Accuracy: 0.9283 - recall: 0.9084 - val_loss: 0.7991 - val_Accuracy: 0.8032 - val_recall: 0.7855 - lr: 1.0000e-04\n",
            "Epoch 10/40\n",
            "235/235 [==============================] - 11s 46ms/step - loss: 0.1977 - Accuracy: 0.9325 - recall: 0.9211 - val_loss: 0.8282 - val_Accuracy: 0.8056 - val_recall: 0.8028 - lr: 1.0000e-04\n",
            "Epoch 11/40\n",
            "235/235 [==============================] - 11s 46ms/step - loss: 0.2072 - Accuracy: 0.9344 - recall: 0.9281 - val_loss: 0.8187 - val_Accuracy: 0.8048 - val_recall: 0.7997 - lr: 1.0000e-05\n",
            "Epoch 12/40\n",
            "235/235 [==============================] - 11s 46ms/step - loss: 0.2012 - Accuracy: 0.9355 - recall: 0.9216 - val_loss: 0.8251 - val_Accuracy: 0.8048 - val_recall: 0.8013 - lr: 1.0000e-05\n",
            "Epoch 13/40\n",
            "235/235 [==============================] - 11s 46ms/step - loss: 0.2038 - Accuracy: 0.9323 - recall: 0.9241 - val_loss: 0.8212 - val_Accuracy: 0.8048 - val_recall: 0.8013 - lr: 1.0000e-05\n",
            "Epoch 14/40\n",
            "235/235 [==============================] - 11s 46ms/step - loss: 0.2033 - Accuracy: 0.9337 - recall: 0.9222 - val_loss: 0.8210 - val_Accuracy: 0.8048 - val_recall: 0.8013 - lr: 1.0000e-06\n",
            "CPU times: user 4min 20s, sys: 14.2 s, total: 4min 34s\n",
            "Wall time: 2min 42s\n"
          ]
        }
      ]
    },
    {
      "cell_type": "code",
      "execution_count": null,
      "metadata": {
        "colab": {
          "base_uri": "https://localhost:8080/",
          "height": 850
        },
        "outputId": "effd6f25-4816-4219-fcab-0334e37cdc6e",
        "id": "bySLftoYDto3"
      },
      "outputs": [
        {
          "output_type": "display_data",
          "data": {
            "image/png": "[encoded data removed]",
            "text/plain": [
              "<Figure size 432x288 with 1 Axes>"
            ]
          },
          "metadata": {
            "needs_background": "light"
          }
        },
        {
          "output_type": "display_data",
          "data": {
            "image/png": "[encoded data removed]",
            "text/plain": [
              "<Figure size 432x288 with 1 Axes>"
            ]
          },
          "metadata": {
            "needs_background": "light"
          }
        },
        {
          "output_type": "display_data",
          "data": {
            "image/png": "[encoded data removed]",
            "text/plain": [
              "<Figure size 432x288 with 1 Axes>"
            ]
          },
          "metadata": {
            "needs_background": "light"
          }
        }
      ],
      "source": [
        "newplot_loss_curves(model_imp3_history)"
      ]
    },
    {
      "cell_type": "code",
      "source": [
        "# Evaluate the model on the validation data using evaluate\n",
        "print(\"Evaluate on validation data\")\n",
        "results = model_imp3.evaluate(X_val_balance_lemma, y_val_balance_lemma, batch_size=128)\n",
        "print(\"validation loss, validation acc, validation recall:\", results)\n",
        "print('\\n')\n",
        "# Evaluate the model on the test data using evaluate\n",
        "print(\"Evaluate on test data\")\n",
        "results = model_imp3.evaluate(X_test_balance_lemma, y_test_balance_lemma, batch_size=128)\n",
        "print(\"test loss, test acc, test recall:\", results)"
      ],
      "metadata": {
        "colab": {
          "base_uri": "https://localhost:8080/"
        },
        "id": "24MbThXmGvEc",
        "outputId": "c946a621-efca-4ade-ffda-c2d31d3b5f1c"
      },
      "execution_count": null,
      "outputs": [
        {
          "output_type": "stream",
          "name": "stdout",
          "text": [
            "Evaluate on validation data\n",
            "10/10 [==============================] - 0s 34ms/step - loss: 0.8210 - Accuracy: 0.8048 - recall: 0.8013\n",
            "validation loss, validation acc, validation recall: [0.8209852576255798, 0.8047999739646912, 0.801261842250824]\n",
            "\n",
            "\n",
            "Evaluate on test data\n",
            "10/10 [==============================] - 0s 30ms/step - loss: 0.7973 - Accuracy: 0.7952 - recall: 0.7672\n",
            "test loss, test acc, test recall: [0.7972962260246277, 0.795199990272522, 0.7672281861305237]\n"
          ]
        }
      ]
    },
    {
      "cell_type": "code",
      "source": [
        "#classification report\n",
        "from sklearn.metrics import classification_report, f1_score\n",
        "\n",
        "thre = 0.5\n",
        "res = model_imp3.predict(X_val_balance_lemma)\n",
        "res = (res > thre).T\n",
        "res = res.astype(int)[0]\n",
        "\n",
        "print(classification_report(y_val_balance_lemma.tolist(), list(res[0])))\n",
        "print(f1_score(y_val_balance_lemma.tolist(), list(res[0])))"
      ],
      "metadata": {
        "colab": {
          "base_uri": "https://localhost:8080/"
        },
        "outputId": "320b5444-fc0b-48a9-ba17-4f7dfeeff0ca",
        "id": "eryjzFI4Dto3"
      },
      "execution_count": null,
      "outputs": [
        {
          "output_type": "stream",
          "name": "stdout",
          "text": [
            "              precision    recall  f1-score   support\n",
            "\n",
            "           0       0.80      0.81      0.80       616\n",
            "           1       0.81      0.80      0.81       634\n",
            "\n",
            "    accuracy                           0.80      1250\n",
            "   macro avg       0.80      0.80      0.80      1250\n",
            "weighted avg       0.80      0.80      0.80      1250\n",
            "\n",
            "0.8063492063492064\n"
          ]
        }
      ]
    },
    {
      "cell_type": "code",
      "source": [
        "#classification report\n",
        "from sklearn.metrics import classification_report, f1_score\n",
        "\n",
        "thre = 0.5\n",
        "res = model_imp3.predict(X_test_balance_lemma)\n",
        "res = (res > thre).T\n",
        "res = res.astype(int)[0]\n",
        "\n",
        "print(classification_report(y_test_balance_lemma.tolist(), list(res[0])))\n",
        "print(f1_score(y_test_balance_lemma.tolist(), list(res[0])))"
      ],
      "metadata": {
        "colab": {
          "base_uri": "https://localhost:8080/"
        },
        "id": "5sGrhGRQtlbU",
        "outputId": "266ebb62-7464-4de5-d60a-5e5c1b64170b"
      },
      "execution_count": null,
      "outputs": [
        {
          "output_type": "stream",
          "name": "stdout",
          "text": [
            "              precision    recall  f1-score   support\n",
            "\n",
            "           0       0.76      0.83      0.79       597\n",
            "           1       0.83      0.77      0.80       653\n",
            "\n",
            "    accuracy                           0.80      1250\n",
            "   macro avg       0.80      0.80      0.80      1250\n",
            "weighted avg       0.80      0.80      0.80      1250\n",
            "\n",
            "0.7965023847376789\n"
          ]
        }
      ]
    },
    {
      "cell_type": "markdown",
      "source": [
        "### 4. Improvement IV Balanced Lemma Data Train with LSTM + 2 Bidirectional + LSTM + Spatial Dropout"
      ],
      "metadata": {
        "id": "MqVddknvTzUz"
      }
    },
    {
      "cell_type": "code",
      "execution_count": null,
      "metadata": {
        "id": "F28d5wi3TzUz"
      },
      "outputs": [],
      "source": [
        "tf.keras.backend.clear_session()\n",
        "np.random.seed(42)\n",
        "tf.random.set_seed(42)"
      ]
    },
    {
      "cell_type": "code",
      "execution_count": null,
      "metadata": {
        "colab": {
          "base_uri": "https://localhost:8080/"
        },
        "outputId": "728f52c8-e8f4-43bd-c4e6-e8eadb3692cb",
        "id": "Ez7yK4AwTzUz"
      },
      "outputs": [
        {
          "output_type": "stream",
          "name": "stdout",
          "text": [
            "Model: \"model_imp4\"\n",
            "_________________________________________________________________\n",
            " Layer (type)                Output Shape              Param #   \n",
            "=================================================================\n",
            " input_1 (InputLayer)        [(None, 1)]               0         \n",
            "                                                                 \n",
            " text_vectorization (TextVec  (None, 27)               0         \n",
            " torization)                                                     \n",
            "                                                                 \n",
            " embedding (Embedding)       (None, 27, 64)            640000    \n",
            "                                                                 \n",
            " global_average_pooling1d (G  (None, 1, 64)            0         \n",
            " lobalAveragePooling1D)                                          \n",
            "                                                                 \n",
            " lstm (LSTM)                 (None, 1, 128)            98816     \n",
            "                                                                 \n",
            " spatial_dropout1d (SpatialD  (None, 1, 128)           0         \n",
            " ropout1D)                                                       \n",
            "                                                                 \n",
            " bidirectional (Bidirectiona  (None, 1, 256)           263168    \n",
            " l)                                                              \n",
            "                                                                 \n",
            " spatial_dropout1d_1 (Spatia  (None, 1, 256)           0         \n",
            " lDropout1D)                                                     \n",
            "                                                                 \n",
            " bidirectional_1 (Bidirectio  (None, 1, 256)           394240    \n",
            " nal)                                                            \n",
            "                                                                 \n",
            " spatial_dropout1d_2 (Spatia  (None, 1, 256)           0         \n",
            " lDropout1D)                                                     \n",
            "                                                                 \n",
            " lstm_3 (LSTM)               (None, 1, 128)            197120    \n",
            "                                                                 \n",
            " spatial_dropout1d_3 (Spatia  (None, 1, 128)           0         \n",
            " lDropout1D)                                                     \n",
            "                                                                 \n",
            " dense (Dense)               (None, 1, 64)             8256      \n",
            "                                                                 \n",
            " dense_1 (Dense)             (None, 1, 8)              520       \n",
            "                                                                 \n",
            " dense_2 (Dense)             (None, 1, 1)              9         \n",
            "                                                                 \n",
            "=================================================================\n",
            "Total params: 1,602,129\n",
            "Trainable params: 1,602,129\n",
            "Non-trainable params: 0\n",
            "_________________________________________________________________\n"
          ]
        }
      ],
      "source": [
        "#definition\n",
        "inputs = Input(shape=(1,), dtype=\"string\")\n",
        "x = text_vectorization(inputs)\n",
        "x = embedding(x)\n",
        "x = layers.GlobalAveragePooling1D(keepdims=True)(x)\n",
        "x = LSTM(128, activation='selu', kernel_initializer=initializer, return_sequences=True)(x)\n",
        "x = SpatialDropout1D(0.2)(x)\n",
        "x = Bidirectional(LSTM(128, activation='selu', kernel_initializer=initializer, return_sequences=True))(x)\n",
        "x = SpatialDropout1D(0.5)(x)\n",
        "x = Bidirectional(LSTM(128, activation='selu', kernel_initializer=initializer, return_sequences=True))(x)\n",
        "x = SpatialDropout1D(0.2)(x)\n",
        "x = LSTM(128, activation='selu', kernel_initializer=initializer, return_sequences=True)(x)\n",
        "x = SpatialDropout1D(0.5)(x)\n",
        "x = Dense(64, activation='selu', kernel_initializer=initializer)(x)\n",
        "x = Dense(8, activation='selu', kernel_initializer=initializer)(x)\n",
        "output = Dense(1, activation=\"sigmoid\", kernel_initializer=initializer)(x)\n",
        "model_imp4 = tf.keras.Model(inputs, output, name=\"model_imp4\")\n",
        "\n",
        "#compile\n",
        "model_imp4.compile(loss='binary_crossentropy', \n",
        "                   optimizer='Adam',\n",
        "                   metrics=new_metrics)\n",
        "\n",
        "#base model architecture\n",
        "model_imp4.summary()"
      ]
    },
    {
      "cell_type": "code",
      "source": [
        "%%time\n",
        "\n",
        "model_imp4_history = model_imp4.fit(X_train_balance_lemma, y_train_balance_lemma, epochs=50, \n",
        "                                validation_data=(X_val_balance_lemma, y_val_balance_lemma),\n",
        "                                callbacks=my_callback)"
      ],
      "metadata": {
        "colab": {
          "base_uri": "https://localhost:8080/"
        },
        "outputId": "57754ecc-0b1a-4639-d9f2-eb369ed73b14",
        "id": "cTkl9QAuTzU0"
      },
      "execution_count": null,
      "outputs": [
        {
          "output_type": "stream",
          "name": "stdout",
          "text": [
            "Epoch 1/50\n",
            "235/235 [==============================] - 31s 63ms/step - loss: 1.7147 - Accuracy: 0.8176 - recall: 0.7994 - val_loss: 2.1713 - val_Accuracy: 0.8080 - val_recall: 0.8691 - lr: 0.0010\n",
            "Epoch 2/50\n",
            "235/235 [==============================] - 12s 53ms/step - loss: 0.7327 - Accuracy: 0.9188 - recall: 0.9235 - val_loss: 1.5716 - val_Accuracy: 0.7984 - val_recall: 0.8644 - lr: 0.0010\n",
            "Epoch 3/50\n",
            "235/235 [==============================] - 12s 53ms/step - loss: 0.5018 - Accuracy: 0.9265 - recall: 0.9378 - val_loss: 1.3327 - val_Accuracy: 0.7960 - val_recall: 0.8596 - lr: 0.0010\n",
            "Epoch 4/50\n",
            "235/235 [==============================] - 11s 47ms/step - loss: 0.4053 - Accuracy: 0.9228 - recall: 0.9461 - val_loss: 1.1114 - val_Accuracy: 0.7792 - val_recall: 0.8959 - lr: 0.0010\n",
            "Epoch 5/50\n",
            "235/235 [==============================] - 12s 53ms/step - loss: 0.3405 - Accuracy: 0.9351 - recall: 0.9631 - val_loss: 1.0259 - val_Accuracy: 0.7744 - val_recall: 0.8991 - lr: 0.0010\n",
            "Epoch 6/50\n",
            "235/235 [==============================] - 13s 56ms/step - loss: 0.3010 - Accuracy: 0.9307 - recall: 0.9677 - val_loss: 0.9538 - val_Accuracy: 0.7688 - val_recall: 0.9132 - lr: 0.0010\n",
            "Epoch 7/50\n",
            "235/235 [==============================] - 10s 42ms/step - loss: 0.2638 - Accuracy: 0.9335 - recall: 0.9709 - val_loss: 1.1418 - val_Accuracy: 0.7784 - val_recall: 0.8849 - lr: 0.0010\n",
            "Epoch 8/50\n",
            "235/235 [==============================] - 13s 55ms/step - loss: 0.2567 - Accuracy: 0.9385 - recall: 0.9704 - val_loss: 1.1344 - val_Accuracy: 0.7696 - val_recall: 0.9006 - lr: 0.0010\n",
            "Epoch 9/50\n",
            "235/235 [==============================] - 13s 53ms/step - loss: 0.2209 - Accuracy: 0.9411 - recall: 0.9752 - val_loss: 1.3993 - val_Accuracy: 0.7832 - val_recall: 0.8691 - lr: 0.0010\n",
            "Epoch 10/50\n",
            "235/235 [==============================] - 12s 49ms/step - loss: 0.1840 - Accuracy: 0.9520 - recall: 0.9766 - val_loss: 1.3894 - val_Accuracy: 0.7832 - val_recall: 0.8675 - lr: 1.0000e-04\n",
            "Epoch 11/50\n",
            "235/235 [==============================] - 11s 45ms/step - loss: 0.1911 - Accuracy: 0.9467 - recall: 0.9728 - val_loss: 1.3911 - val_Accuracy: 0.7824 - val_recall: 0.8722 - lr: 1.0000e-04\n",
            "Epoch 12/50\n",
            "235/235 [==============================] - 12s 50ms/step - loss: 0.1838 - Accuracy: 0.9516 - recall: 0.9750 - val_loss: 1.4350 - val_Accuracy: 0.7872 - val_recall: 0.8533 - lr: 1.0000e-04\n",
            "Epoch 13/50\n",
            "235/235 [==============================] - 7s 32ms/step - loss: 0.1895 - Accuracy: 0.9521 - recall: 0.9733 - val_loss: 1.4298 - val_Accuracy: 0.7848 - val_recall: 0.8549 - lr: 1.0000e-05\n",
            "Epoch 14/50\n",
            "235/235 [==============================] - 7s 29ms/step - loss: 0.1876 - Accuracy: 0.9529 - recall: 0.9736 - val_loss: 1.4228 - val_Accuracy: 0.7840 - val_recall: 0.8580 - lr: 1.0000e-05\n",
            "Epoch 15/50\n",
            "235/235 [==============================] - 7s 29ms/step - loss: 0.1632 - Accuracy: 0.9560 - recall: 0.9755 - val_loss: 1.4210 - val_Accuracy: 0.7848 - val_recall: 0.8596 - lr: 1.0000e-05\n",
            "Epoch 16/50\n",
            "235/235 [==============================] - 7s 29ms/step - loss: 0.1774 - Accuracy: 0.9569 - recall: 0.9779 - val_loss: 1.4218 - val_Accuracy: 0.7848 - val_recall: 0.8596 - lr: 1.0000e-06\n",
            "CPU times: user 3min 17s, sys: 9.43 s, total: 3min 26s\n",
            "Wall time: 3min 10s\n"
          ]
        }
      ]
    },
    {
      "cell_type": "code",
      "execution_count": null,
      "metadata": {
        "colab": {
          "base_uri": "https://localhost:8080/",
          "height": 850
        },
        "id": "Y-iKk1ybTzU0",
        "outputId": "5e97f207-1781-42df-89f2-ba13b44cebc1"
      },
      "outputs": [
        {
          "output_type": "display_data",
          "data": {
            "image/png": "[encoded data removed]",
            "text/plain": [
              "<Figure size 432x288 with 1 Axes>"
            ]
          },
          "metadata": {
            "needs_background": "light"
          }
        },
        {
          "output_type": "display_data",
          "data": {
            "image/png": "[encoded data removed]",
            "text/plain": [
              "<Figure size 432x288 with 1 Axes>"
            ]
          },
          "metadata": {
            "needs_background": "light"
          }
        },
        {
          "output_type": "display_data",
          "data": {
            "image/png": "[encoded data removed]",
            "text/plain": [
              "<Figure size 432x288 with 1 Axes>"
            ]
          },
          "metadata": {
            "needs_background": "light"
          }
        }
      ],
      "source": [
        "newplot_loss_curves(model_imp4_history)"
      ]
    },
    {
      "cell_type": "code",
      "source": [
        "# Evaluate the model on the validation data using evaluate\n",
        "print(\"Evaluate on validation data\")\n",
        "results = model_imp4.evaluate(X_val_balance_lemma, y_val_balance_lemma)\n",
        "print(\"validation loss, validation acc, validation recall:\", results)\n",
        "print('\\n')\n",
        "# Evaluate the model on the test data using evaluate\n",
        "print(\"Evaluate on test data\")\n",
        "results = model_imp4.evaluate(X_test_balance_lemma, y_test_balance_lemma)\n",
        "print(\"test loss, test acc, test recall:\", results)"
      ],
      "metadata": {
        "colab": {
          "base_uri": "https://localhost:8080/"
        },
        "id": "3gxN1VLxHIps",
        "outputId": "3af6fc61-441c-4868-fe67-e164f7da0152"
      },
      "execution_count": null,
      "outputs": [
        {
          "output_type": "stream",
          "name": "stdout",
          "text": [
            "Evaluate on validation data\n",
            "40/40 [==============================] - 0s 7ms/step - loss: 1.4218 - Accuracy: 0.7848 - recall: 0.8596\n",
            "validation loss, validation acc, validation recall: [1.421804428100586, 0.7847999930381775, 0.8596214652061462]\n",
            "\n",
            "\n",
            "Evaluate on test data\n",
            "40/40 [==============================] - 0s 7ms/step - loss: 1.4499 - Accuracy: 0.7888 - recall: 0.8377\n",
            "test loss, test acc, test recall: [1.4499033689498901, 0.7888000011444092, 0.8376722931861877]\n"
          ]
        }
      ]
    },
    {
      "cell_type": "code",
      "source": [
        "#classification report\n",
        "from sklearn.metrics import classification_report, f1_score\n",
        "\n",
        "thre = 0.5\n",
        "res = model_imp4.predict(X_val_balance_lemma)\n",
        "res = (res > thre).T\n",
        "res = res.astype(int)[0]\n",
        "\n",
        "print(classification_report(y_val_balance_lemma.tolist(), list(res[0])))\n",
        "print(f1_score(y_val_balance_lemma.tolist(), list(res[0])))"
      ],
      "metadata": {
        "colab": {
          "base_uri": "https://localhost:8080/"
        },
        "id": "Y-sPPvp6TzU0",
        "outputId": "305b6c96-d505-4ed8-9643-7b18dff333da"
      },
      "execution_count": null,
      "outputs": [
        {
          "output_type": "stream",
          "name": "stdout",
          "text": [
            "              precision    recall  f1-score   support\n",
            "\n",
            "           0       0.83      0.71      0.76       616\n",
            "           1       0.75      0.86      0.80       634\n",
            "\n",
            "    accuracy                           0.78      1250\n",
            "   macro avg       0.79      0.78      0.78      1250\n",
            "weighted avg       0.79      0.78      0.78      1250\n",
            "\n",
            "0.8020603384841795\n"
          ]
        }
      ]
    },
    {
      "cell_type": "code",
      "source": [
        "thre = 0.5\n",
        "res = model_imp4.predict(X_test_balance_lemma)\n",
        "res = (res > thre).T\n",
        "res = res.astype(int)[0]\n",
        "\n",
        "print(classification_report(y_test_balance_lemma.tolist(), list(res[0])))\n",
        "print(f1_score(y_test_balance_lemma.tolist(), list(res[0])))"
      ],
      "metadata": {
        "colab": {
          "base_uri": "https://localhost:8080/"
        },
        "id": "bAKXyzgfwxGr",
        "outputId": "31de8eda-64fe-45c9-f7b9-02d91957924c"
      },
      "execution_count": null,
      "outputs": [
        {
          "output_type": "stream",
          "name": "stdout",
          "text": [
            "              precision    recall  f1-score   support\n",
            "\n",
            "           0       0.81      0.74      0.77       597\n",
            "           1       0.78      0.84      0.81       653\n",
            "\n",
            "    accuracy                           0.79      1250\n",
            "   macro avg       0.79      0.79      0.79      1250\n",
            "weighted avg       0.79      0.79      0.79      1250\n",
            "\n",
            "0.8055964653902798\n"
          ]
        }
      ]
    },
    {
      "cell_type": "markdown",
      "source": [
        "### 5. Model Improvement V Balanced Lemma Data Train with LSTM + 2 Bidirectional + LSTM "
      ],
      "metadata": {
        "id": "N-pK05TWobTJ"
      }
    },
    {
      "cell_type": "code",
      "execution_count": null,
      "metadata": {
        "id": "AyJaeaB2oyiB"
      },
      "outputs": [],
      "source": [
        "#tf.keras.backend.clear_session()\n",
        "#np.random.seed(42)\n",
        "#tf.random.set_seed(42)"
      ]
    },
    {
      "cell_type": "code",
      "source": [
        "#definition\n",
        "inputs = Input(shape=(1,), dtype=\"string\")\n",
        "x = text_vectorization(inputs)\n",
        "x = embedding(x)\n",
        "x = layers.GlobalAveragePooling1D(keepdims=True)(x)\n",
        "x = LSTM(128, activation='selu', kernel_initializer=initializer, return_sequences=True)(x)\n",
        "x = SpatialDropout1D(0.2)(x)\n",
        "x = Bidirectional(LSTM(128, activation='selu', kernel_initializer=initializer, return_sequences=True))(x)\n",
        "x = SpatialDropout1D(0.5)(x)\n",
        "x = Bidirectional(LSTM(128, activation='selu', kernel_initializer=initializer, return_sequences=True))(x)\n",
        "x = SpatialDropout1D(0.2)(x)\n",
        "x = LSTM(128, activation='selu', kernel_initializer=initializer, return_sequences=True)(x)\n",
        "x = SpatialDropout1D(0.5)(x)\n",
        "output = Dense(1, activation=\"sigmoid\", kernel_initializer=initializer)(x)\n",
        "model_imp5 = tf.keras.Model(inputs, output, name=\"model_imp5\")\n",
        "\n",
        "#compile\n",
        "model_imp5.compile(loss='binary_crossentropy', \n",
        "                   optimizer='Adam',\n",
        "                   metrics=new_metrics)\n",
        "\n",
        "#base model architecture\n",
        "model_imp5.summary()"
      ],
      "metadata": {
        "colab": {
          "base_uri": "https://localhost:8080/"
        },
        "id": "qmaX5Ta-oa_Q",
        "outputId": "1e7e3a1e-ad24-4dd7-dcd7-f05cc908a95e"
      },
      "execution_count": null,
      "outputs": [
        {
          "output_type": "stream",
          "name": "stdout",
          "text": [
            "Model: \"model_imp5\"\n",
            "_________________________________________________________________\n",
            " Layer (type)                Output Shape              Param #   \n",
            "=================================================================\n",
            " input_2 (InputLayer)        [(None, 1)]               0         \n",
            "                                                                 \n",
            " text_vectorization (TextVec  (None, 27)               0         \n",
            " torization)                                                     \n",
            "                                                                 \n",
            " embedding (Embedding)       (None, 27, 64)            640000    \n",
            "                                                                 \n",
            " global_average_pooling1d_1   (None, 1, 64)            0         \n",
            " (GlobalAveragePooling1D)                                        \n",
            "                                                                 \n",
            " lstm_4 (LSTM)               (None, 1, 128)            98816     \n",
            "                                                                 \n",
            " spatial_dropout1d_4 (Spatia  (None, 1, 128)           0         \n",
            " lDropout1D)                                                     \n",
            "                                                                 \n",
            " bidirectional_2 (Bidirectio  (None, 1, 256)           263168    \n",
            " nal)                                                            \n",
            "                                                                 \n",
            " spatial_dropout1d_5 (Spatia  (None, 1, 256)           0         \n",
            " lDropout1D)                                                     \n",
            "                                                                 \n",
            " bidirectional_3 (Bidirectio  (None, 1, 256)           394240    \n",
            " nal)                                                            \n",
            "                                                                 \n",
            " spatial_dropout1d_6 (Spatia  (None, 1, 256)           0         \n",
            " lDropout1D)                                                     \n",
            "                                                                 \n",
            " lstm_7 (LSTM)               (None, 1, 128)            197120    \n",
            "                                                                 \n",
            " spatial_dropout1d_7 (Spatia  (None, 1, 128)           0         \n",
            " lDropout1D)                                                     \n",
            "                                                                 \n",
            " dense_3 (Dense)             (None, 1, 1)              129       \n",
            "                                                                 \n",
            "=================================================================\n",
            "Total params: 1,593,473\n",
            "Trainable params: 1,593,473\n",
            "Non-trainable params: 0\n",
            "_________________________________________________________________\n"
          ]
        }
      ]
    },
    {
      "cell_type": "code",
      "source": [
        "%%time\n",
        "\n",
        "model_imp5_history = model_imp5.fit(X_train_balance_lemma, y_train_balance_lemma, epochs=50, \n",
        "                                validation_data=(X_val_balance_lemma, y_val_balance_lemma),\n",
        "                                callbacks=my_callback)"
      ],
      "metadata": {
        "colab": {
          "base_uri": "https://localhost:8080/"
        },
        "id": "r_tjAaslohBU",
        "outputId": "03131f25-69b5-4749-fe94-ae1e9863875c"
      },
      "execution_count": null,
      "outputs": [
        {
          "output_type": "stream",
          "name": "stdout",
          "text": [
            "Epoch 1/50\n",
            "235/235 [==============================] - 18s 40ms/step - loss: 0.6827 - Accuracy: 0.8458 - recall: 0.8436 - val_loss: 1.5900 - val_Accuracy: 0.7984 - val_recall: 0.8312 - lr: 0.0010\n",
            "Epoch 2/50\n",
            "235/235 [==============================] - 7s 29ms/step - loss: 0.2961 - Accuracy: 0.9352 - recall: 0.9364 - val_loss: 1.6708 - val_Accuracy: 0.7960 - val_recall: 0.8139 - lr: 0.0010\n",
            "Epoch 3/50\n",
            "235/235 [==============================] - 8s 35ms/step - loss: 0.2284 - Accuracy: 0.9483 - recall: 0.9464 - val_loss: 1.5403 - val_Accuracy: 0.7816 - val_recall: 0.8312 - lr: 0.0010\n",
            "Epoch 4/50\n",
            "235/235 [==============================] - 7s 29ms/step - loss: 0.1829 - Accuracy: 0.9543 - recall: 0.9539 - val_loss: 1.4720 - val_Accuracy: 0.7928 - val_recall: 0.8312 - lr: 0.0010\n",
            "Epoch 5/50\n",
            "235/235 [==============================] - 7s 29ms/step - loss: 0.1434 - Accuracy: 0.9612 - recall: 0.9639 - val_loss: 1.4694 - val_Accuracy: 0.7864 - val_recall: 0.8186 - lr: 0.0010\n",
            "Epoch 6/50\n",
            "235/235 [==============================] - 7s 29ms/step - loss: 0.1296 - Accuracy: 0.9625 - recall: 0.9634 - val_loss: 1.4129 - val_Accuracy: 0.7808 - val_recall: 0.8044 - lr: 0.0010\n",
            "Epoch 7/50\n",
            "235/235 [==============================] - 7s 29ms/step - loss: 0.1187 - Accuracy: 0.9644 - recall: 0.9634 - val_loss: 1.5757 - val_Accuracy: 0.7776 - val_recall: 0.7792 - lr: 0.0010\n",
            "Epoch 8/50\n",
            "235/235 [==============================] - 7s 29ms/step - loss: 0.0982 - Accuracy: 0.9735 - recall: 0.9723 - val_loss: 1.5236 - val_Accuracy: 0.7768 - val_recall: 0.8028 - lr: 0.0010\n",
            "Epoch 9/50\n",
            "235/235 [==============================] - 7s 30ms/step - loss: 0.0830 - Accuracy: 0.9729 - recall: 0.9717 - val_loss: 1.6780 - val_Accuracy: 0.7744 - val_recall: 0.7981 - lr: 0.0010\n",
            "Epoch 10/50\n",
            "235/235 [==============================] - 7s 30ms/step - loss: 0.0646 - Accuracy: 0.9797 - recall: 0.9803 - val_loss: 1.7044 - val_Accuracy: 0.7728 - val_recall: 0.8013 - lr: 1.0000e-04\n",
            "Epoch 11/50\n",
            "235/235 [==============================] - 7s 30ms/step - loss: 0.0689 - Accuracy: 0.9801 - recall: 0.9787 - val_loss: 1.7297 - val_Accuracy: 0.7696 - val_recall: 0.8044 - lr: 1.0000e-04\n",
            "Epoch 12/50\n",
            "235/235 [==============================] - 7s 30ms/step - loss: 0.0546 - Accuracy: 0.9829 - recall: 0.9828 - val_loss: 1.7558 - val_Accuracy: 0.7712 - val_recall: 0.8044 - lr: 1.0000e-04\n",
            "Epoch 13/50\n",
            "235/235 [==============================] - 7s 30ms/step - loss: 0.0594 - Accuracy: 0.9816 - recall: 0.9833 - val_loss: 1.7576 - val_Accuracy: 0.7720 - val_recall: 0.8044 - lr: 1.0000e-05\n",
            "Epoch 14/50\n",
            "235/235 [==============================] - 7s 30ms/step - loss: 0.0596 - Accuracy: 0.9828 - recall: 0.9855 - val_loss: 1.7585 - val_Accuracy: 0.7744 - val_recall: 0.8044 - lr: 1.0000e-05\n",
            "Epoch 15/50\n",
            "235/235 [==============================] - 7s 30ms/step - loss: 0.0531 - Accuracy: 0.9832 - recall: 0.9836 - val_loss: 1.7649 - val_Accuracy: 0.7736 - val_recall: 0.8044 - lr: 1.0000e-05\n",
            "Epoch 16/50\n",
            "235/235 [==============================] - 8s 35ms/step - loss: 0.0500 - Accuracy: 0.9853 - recall: 0.9841 - val_loss: 1.7647 - val_Accuracy: 0.7736 - val_recall: 0.8044 - lr: 1.0000e-06\n",
            "CPU times: user 3min 6s, sys: 11.2 s, total: 3min 17s\n",
            "Wall time: 2min 4s\n"
          ]
        }
      ]
    },
    {
      "cell_type": "code",
      "execution_count": null,
      "metadata": {
        "colab": {
          "base_uri": "https://localhost:8080/",
          "height": 850
        },
        "outputId": "3aa042bc-d5c0-4520-c2de-0fa64e8d601e",
        "id": "UAGdzb4fomWg"
      },
      "outputs": [
        {
          "output_type": "display_data",
          "data": {
            "image/png": "[encoded data removed]",
            "text/plain": [
              "<Figure size 432x288 with 1 Axes>"
            ]
          },
          "metadata": {
            "needs_background": "light"
          }
        },
        {
          "output_type": "display_data",
          "data": {
            "image/png": "[encoded data removed]",
            "text/plain": [
              "<Figure size 432x288 with 1 Axes>"
            ]
          },
          "metadata": {
            "needs_background": "light"
          }
        },
        {
          "output_type": "display_data",
          "data": {
            "image/png": "[encoded data removed]",
            "text/plain": [
              "<Figure size 432x288 with 1 Axes>"
            ]
          },
          "metadata": {
            "needs_background": "light"
          }
        }
      ],
      "source": [
        "newplot_loss_curves(model_imp5_history)"
      ]
    },
    {
      "cell_type": "code",
      "source": [
        "# Evaluate the model on the validation data using evaluate\n",
        "print(\"Evaluate on validation data\")\n",
        "results = model_imp5.evaluate(X_val_balance_lemma, y_val_balance_lemma)\n",
        "print(\"validation loss, validation acc, validation recall:\", results)\n",
        "print('\\n')\n",
        "# Evaluate the model on the test data using evaluate\n",
        "print(\"Evaluate on test data\")\n",
        "results = model_imp5.evaluate(X_test_balance_lemma, y_test_balance_lemma)\n",
        "print(\"test loss, test acc, test recall:\", results)"
      ],
      "metadata": {
        "colab": {
          "base_uri": "https://localhost:8080/"
        },
        "id": "Zji9_drYFz8T",
        "outputId": "456c04d7-0dd1-4ab7-df9a-607face570a1"
      },
      "execution_count": null,
      "outputs": [
        {
          "output_type": "stream",
          "name": "stdout",
          "text": [
            "Evaluate on validation data\n",
            "40/40 [==============================] - 0s 7ms/step - loss: 1.7647 - Accuracy: 0.7736 - recall: 0.8044\n",
            "validation loss, validation acc, validation recall: [1.7646552324295044, 0.7735999822616577, 0.8044164180755615]\n",
            "\n",
            "\n",
            "Evaluate on test data\n",
            "40/40 [==============================] - 0s 7ms/step - loss: 1.7413 - Accuracy: 0.7848 - recall: 0.8055\n",
            "test loss, test acc, test recall: [1.7412824630737305, 0.7847999930381775, 0.8055130243301392]\n"
          ]
        }
      ]
    },
    {
      "cell_type": "code",
      "source": [
        "#classification report\n",
        "from sklearn.metrics import classification_report, f1_score\n",
        "\n",
        "thre = 0.5\n",
        "res = model_imp5.predict(X_val_balance_lemma)\n",
        "res = (res > thre).T\n",
        "res = res.astype(int)[0]\n",
        "\n",
        "print(classification_report(y_val_balance_lemma.tolist(), list(res[0])))\n",
        "print(f1_score(y_val_balance_lemma.tolist(), list(res[0])))"
      ],
      "metadata": {
        "colab": {
          "base_uri": "https://localhost:8080/"
        },
        "outputId": "63e545ea-c217-4f8b-f17a-f84c3a93b599",
        "id": "UyXohorOomWh"
      },
      "execution_count": null,
      "outputs": [
        {
          "output_type": "stream",
          "name": "stdout",
          "text": [
            "              precision    recall  f1-score   support\n",
            "\n",
            "           0       0.79      0.74      0.76       616\n",
            "           1       0.76      0.80      0.78       634\n",
            "\n",
            "    accuracy                           0.77      1250\n",
            "   macro avg       0.77      0.77      0.77      1250\n",
            "weighted avg       0.77      0.77      0.77      1250\n",
            "\n",
            "0.7828089025326171\n"
          ]
        }
      ]
    },
    {
      "cell_type": "code",
      "source": [
        "thre = 0.5\n",
        "res = model_imp5.predict(X_test_balance_lemma)\n",
        "res = (res > thre).T\n",
        "res = res.astype(int)[0]\n",
        "\n",
        "print(classification_report(y_test_balance_lemma.tolist(), list(res[0])))\n",
        "print(f1_score(y_test_balance_lemma.tolist(), list(res[0])))"
      ],
      "metadata": {
        "colab": {
          "base_uri": "https://localhost:8080/"
        },
        "id": "mRzfKzd01k72",
        "outputId": "d0010ab6-675b-4d3e-e33f-354c2c377653"
      },
      "execution_count": null,
      "outputs": [
        {
          "output_type": "stream",
          "name": "stdout",
          "text": [
            "              precision    recall  f1-score   support\n",
            "\n",
            "           0       0.78      0.76      0.77       597\n",
            "           1       0.79      0.81      0.80       653\n",
            "\n",
            "    accuracy                           0.78      1250\n",
            "   macro avg       0.78      0.78      0.78      1250\n",
            "weighted avg       0.78      0.78      0.78      1250\n",
            "\n",
            "0.7963663890991672\n"
          ]
        }
      ]
    },
    {
      "cell_type": "markdown",
      "source": [
        "# J. Model Saving"
      ],
      "metadata": {
        "id": "-Xrat68_Mptk"
      }
    },
    {
      "cell_type": "markdown",
      "source": [
        "### Save Model Improvement 1"
      ],
      "metadata": {
        "id": "9vEqdN01HILC"
      }
    },
    {
      "cell_type": "code",
      "source": [
        "#save best model\n",
        "!mkdir my_model\n",
        "model_imp1.save('/content/my_model')"
      ],
      "metadata": {
        "colab": {
          "base_uri": "https://localhost:8080/"
        },
        "id": "q1GHuFXN46ms",
        "outputId": "c0eacf54-9ab5-4f37-cc16-a3c801308f5e"
      },
      "execution_count": null,
      "outputs": [
        {
          "output_type": "stream",
          "name": "stdout",
          "text": [
            "INFO:tensorflow:Assets written to: /content/my_model/assets\n"
          ]
        },
        {
          "output_type": "stream",
          "name": "stderr",
          "text": [
            "WARNING:absl:<keras.layers.recurrent.LSTMCell object at 0x7efec5492110> has the same name 'LSTMCell' as a built-in Keras object. Consider renaming <class 'keras.layers.recurrent.LSTMCell'> to avoid naming conflicts when loading with `tf.keras.models.load_model`. If renaming is not possible, pass the object in the `custom_objects` parameter of the load function.\n",
            "WARNING:absl:<keras.layers.recurrent.LSTMCell object at 0x7efec54328d0> has the same name 'LSTMCell' as a built-in Keras object. Consider renaming <class 'keras.layers.recurrent.LSTMCell'> to avoid naming conflicts when loading with `tf.keras.models.load_model`. If renaming is not possible, pass the object in the `custom_objects` parameter of the load function.\n"
          ]
        }
      ]
    },
    {
      "cell_type": "code",
      "source": [
        "from google.colab import files\n",
        "\n",
        "!zip -r /content/my_model /content/my_model\n",
        "\n",
        "files.download(\"/content/my_model.zip\")"
      ],
      "metadata": {
        "colab": {
          "base_uri": "https://localhost:8080/",
          "height": 138
        },
        "id": "Z_MvIiA8PRAZ",
        "outputId": "44cc4be4-9b8e-4d51-9dbd-92efcefce725"
      },
      "execution_count": null,
      "outputs": [
        {
          "output_type": "stream",
          "name": "stdout",
          "text": [
            "  adding: content/my_model/ (stored 0%)\n",
            "  adding: content/my_model/saved_model.pb (deflated 86%)\n",
            "  adding: content/my_model/variables/ (stored 0%)\n",
            "  adding: content/my_model/variables/variables.index (deflated 67%)\n",
            "  adding: content/my_model/variables/variables.data-00000-of-00001 (deflated 21%)\n",
            "  adding: content/my_model/assets/ (stored 0%)\n",
            "  adding: content/my_model/keras_metadata.pb (deflated 90%)\n"
          ]
        },
        {
          "output_type": "display_data",
          "data": {
            "application/javascript": [
              "\n",
              "    async function download(id, filename, size) {\n",
              "      if (!google.colab.kernel.accessAllowed) {\n",
              "        return;\n",
              "      }\n",
              "      const div = document.createElement('div');\n",
              "      const label = document.createElement('label');\n",
              "      label.textContent = `Downloading \"${filename}\": `;\n",
              "      div.appendChild(label);\n",
              "      const progress = document.createElement('progress');\n",
              "      progress.max = size;\n",
              "      div.appendChild(progress);\n",
              "      document.body.appendChild(div);\n",
              "\n",
              "      const buffers = [];\n",
              "      let downloaded = 0;\n",
              "\n",
              "      const channel = await google.colab.kernel.comms.open(id);\n",
              "      // Send a message to notify the kernel that we're ready.\n",
              "      channel.send({})\n",
              "\n",
              "      for await (const message of channel.messages) {\n",
              "        // Send a message to notify the kernel that we're ready.\n",
              "        channel.send({})\n",
              "        if (message.buffers) {\n",
              "          for (const buffer of message.buffers) {\n",
              "            buffers.push(buffer);\n",
              "            downloaded += buffer.byteLength;\n",
              "            progress.value = downloaded;\n",
              "          }\n",
              "        }\n",
              "      }\n",
              "      const blob = new Blob(buffers, {type: 'application/binary'});\n",
              "      const a = document.createElement('a');\n",
              "      a.href = window.URL.createObjectURL(blob);\n",
              "      a.download = filename;\n",
              "      div.appendChild(a);\n",
              "      a.click();\n",
              "      div.remove();\n",
              "    }\n",
              "  "
            ],
            "text/plain": [
              "<IPython.core.display.Javascript object>"
            ]
          },
          "metadata": {}
        },
        {
          "output_type": "display_data",
          "data": {
            "application/javascript": [
              "download(\"download_059f7484-6885-45ee-b0c7-7915dd5fda5d\", \"my_model.zip\", 6908142)"
            ],
            "text/plain": [
              "<IPython.core.display.Javascript object>"
            ]
          },
          "metadata": {}
        }
      ]
    },
    {
      "cell_type": "markdown",
      "source": [
        "### Save Model Improvement 3"
      ],
      "metadata": {
        "id": "WOXH4u1bHLjA"
      }
    },
    {
      "cell_type": "code",
      "metadata": {
        "id": "zidFh_v00-w8",
        "outputId": "b8affd8e-ad7e-420f-92ee-3a8c30229746",
        "colab": {
          "base_uri": "https://localhost:8080/",
          "height": 34
        }
      },
      "source": [
        "import os\n",
        "model_version = \"0001\"\n",
        "model_name = \"my_model_3\"\n",
        "model_path = os.path.join(model_name, model_version)\n",
        "model_path"
      ],
      "execution_count": null,
      "outputs": [
        {
          "output_type": "execute_result",
          "data": {
            "application/vnd.google.colaboratory.intrinsic+json": {
              "type": "string"
            },
            "text/plain": [
              "'my_model_3/0001'"
            ]
          },
          "metadata": {},
          "execution_count": 56
        }
      ]
    },
    {
      "cell_type": "code",
      "metadata": {
        "id": "5nDE1BQE0-w8",
        "outputId": "780f81ac-fd09-4be2-f62a-88e5afdc9b0d",
        "colab": {
          "base_uri": "https://localhost:8080/"
        }
      },
      "source": [
        "tf.saved_model.save(model_imp3, model_path)"
      ],
      "execution_count": null,
      "outputs": [
        {
          "output_type": "stream",
          "name": "stdout",
          "text": [
            "INFO:tensorflow:Assets written to: my_model_3/0001/assets\n"
          ]
        },
        {
          "output_type": "stream",
          "name": "stderr",
          "text": [
            "INFO:tensorflow:Assets written to: my_model_3/0001/assets\n"
          ]
        }
      ]
    },
    {
      "cell_type": "code",
      "source": [
        "!zip -r /content/my_model_3 /content/my_model_3\n",
        "\n",
        "files.download(\"/content/my_model_3.zip\")"
      ],
      "metadata": {
        "id": "nMMH689wHjK4",
        "colab": {
          "base_uri": "https://localhost:8080/",
          "height": 138
        },
        "outputId": "a955c9e6-4352-4d4f-e638-2f385797afd3"
      },
      "execution_count": null,
      "outputs": [
        {
          "output_type": "stream",
          "name": "stdout",
          "text": [
            "  adding: content/my_model_3/ (stored 0%)\n",
            "  adding: content/my_model_3/0001/ (stored 0%)\n",
            "  adding: content/my_model_3/0001/saved_model.pb (deflated 89%)\n",
            "  adding: content/my_model_3/0001/variables/ (stored 0%)\n",
            "  adding: content/my_model_3/0001/variables/variables.index (deflated 73%)\n",
            "  adding: content/my_model_3/0001/variables/variables.data-00000-of-00001 (deflated 36%)\n",
            "  adding: content/my_model_3/0001/assets/ (stored 0%)\n"
          ]
        },
        {
          "output_type": "display_data",
          "data": {
            "application/javascript": [
              "\n",
              "    async function download(id, filename, size) {\n",
              "      if (!google.colab.kernel.accessAllowed) {\n",
              "        return;\n",
              "      }\n",
              "      const div = document.createElement('div');\n",
              "      const label = document.createElement('label');\n",
              "      label.textContent = `Downloading \"${filename}\": `;\n",
              "      div.appendChild(label);\n",
              "      const progress = document.createElement('progress');\n",
              "      progress.max = size;\n",
              "      div.appendChild(progress);\n",
              "      document.body.appendChild(div);\n",
              "\n",
              "      const buffers = [];\n",
              "      let downloaded = 0;\n",
              "\n",
              "      const channel = await google.colab.kernel.comms.open(id);\n",
              "      // Send a message to notify the kernel that we're ready.\n",
              "      channel.send({})\n",
              "\n",
              "      for await (const message of channel.messages) {\n",
              "        // Send a message to notify the kernel that we're ready.\n",
              "        channel.send({})\n",
              "        if (message.buffers) {\n",
              "          for (const buffer of message.buffers) {\n",
              "            buffers.push(buffer);\n",
              "            downloaded += buffer.byteLength;\n",
              "            progress.value = downloaded;\n",
              "          }\n",
              "        }\n",
              "      }\n",
              "      const blob = new Blob(buffers, {type: 'application/binary'});\n",
              "      const a = document.createElement('a');\n",
              "      a.href = window.URL.createObjectURL(blob);\n",
              "      a.download = filename;\n",
              "      div.appendChild(a);\n",
              "      a.click();\n",
              "      div.remove();\n",
              "    }\n",
              "  "
            ],
            "text/plain": [
              "<IPython.core.display.Javascript object>"
            ]
          },
          "metadata": {}
        },
        {
          "output_type": "display_data",
          "data": {
            "application/javascript": [
              "download(\"download_62f62a41-4536-4461-b462-04d91da9b10a\", \"my_model_3.zip\", 21407114)"
            ],
            "text/plain": [
              "<IPython.core.display.Javascript object>"
            ]
          },
          "metadata": {}
        }
      ]
    },
    {
      "cell_type": "markdown",
      "source": [
        "# K. Model Inference"
      ],
      "metadata": {
        "id": "eIrlctACMu9U"
      }
    },
    {
      "cell_type": "code",
      "source": [
        "model_1 = tf.keras.models.load_model('/content/my_model')"
      ],
      "metadata": {
        "id": "bfL7zpUqe1Nc"
      },
      "execution_count": null,
      "outputs": []
    },
    {
      "cell_type": "code",
      "source": [
        "new_text = [\"I am really hate this dress\"]\n",
        "\n",
        "thre = 0.5\n",
        "pred = model_1.predict(new_text)\n",
        "pred = (pred > thre).T\n",
        "pred = pred.astype(int)[0]\n",
        "pred.argmax(axis=1)\n",
        "pred"
      ],
      "metadata": {
        "colab": {
          "base_uri": "https://localhost:8080/"
        },
        "id": "YjgP1zJAMwI1",
        "outputId": "60e8841a-8148-41d1-d1b4-54183d4a6636"
      },
      "execution_count": null,
      "outputs": [
        {
          "output_type": "execute_result",
          "data": {
            "text/plain": [
              "array([[0]])"
            ]
          },
          "metadata": {},
          "execution_count": 70
        }
      ]
    },
    {
      "cell_type": "markdown",
      "source": [
        "# L. Conclusion\n",
        "\n",
        "1. The data we have is imbalance data. This is the reason why we decided to only classify two sentiments, positive and negative, rather than positive, neutral, and negative.\n",
        "2. The preprocessing steps we perform include lowercase, removing stop words, removing punctuation, removing duplicate words, using snowball stemmer also lemmatization, and using text vectorization and embedding layers from TensorFlow.\n",
        "3. After several trials and errors, we have come to the conclusion that the best deep learning model is achieved by using balanced data that has been lemmatized. On the other hand, at the same stage, we also search for kernel_initializer, activation function, and optimizer which then results in the conclusion that the best kernel is random normal, always activation function, and Adam/RMSprop optimizer.\n",
        "4. Regarding the results of the best model architecture to predict the sentiment value, we get it in the next stage of the experiment. Our further experiments start from the basic model architecture, LSTM architecture, and Bidirectional LSTM architecture. However, with the amount of data that tends to be small, the optimal Deep Learning model that we create is found in the base model architecture."
      ],
      "metadata": {
        "id": "L4GJXk8TRMuQ"
      }
    }
  ]
}